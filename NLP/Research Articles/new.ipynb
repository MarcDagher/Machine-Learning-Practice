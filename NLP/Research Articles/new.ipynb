{
 "cells": [
  {
   "cell_type": "code",
   "execution_count": 13,
   "metadata": {},
   "outputs": [],
   "source": [
    "import pandas as pd\n",
    "dataframe = pd.read_csv(\"Research Articles.csv\")\n",
    "dataframe = dataframe.drop(\"ID\", axis = 1)"
   ]
  },
  {
   "cell_type": "code",
   "execution_count": 14,
   "metadata": {},
   "outputs": [],
   "source": [
    "for i in range(len(dataframe)):\n",
    "  if dataframe.loc[i, \"Computer Science\"] == 1: dataframe.loc[i, \"Topic\"] = \"Computer Science\"\n",
    "  elif dataframe.loc[i, \"Physics\"] == 1: dataframe.loc[i, \"Topic\"] = \"Physics\"\n",
    "  elif dataframe.loc[i, \"Mathematics\"] == 1: dataframe.loc[i, \"Topic\"] = \"Mathematics\"\n",
    "  elif dataframe.loc[i, \"Statistics\"] == 1: dataframe.loc[i, \"Topic\"] = \"Statistics\"\n",
    "  elif dataframe.loc[i, \"Quantitative Biology\"] == 1: dataframe.loc[i, \"Topic\"] = \"Quantitative Biology\"\n",
    "  elif dataframe.loc[i, \"Quantitative Finance\"] == 1: dataframe.loc[i, \"Topic\"] = \"Quantitative Finance\"\n",
    "\n",
    "dataframe = dataframe.drop([\"Computer Science\",\t\"Physics\",\t\"Mathematics\",\t\"Statistics\",\t\"Quantitative Biology\",\t\"Quantitative Finance\"], axis = 1)"
   ]
  },
  {
   "cell_type": "code",
   "execution_count": 20,
   "metadata": {},
   "outputs": [
    {
     "data": {
      "text/plain": [
       "'2.16.1'"
      ]
     },
     "execution_count": 20,
     "metadata": {},
     "output_type": "execute_result"
    }
   ],
   "source": [
    "import tensorflow\n",
    "tensorflow.version.VERSION"
   ]
  }
 ],
 "metadata": {
  "kernelspec": {
   "display_name": "Python 3",
   "language": "python",
   "name": "python3"
  },
  "language_info": {
   "codemirror_mode": {
    "name": "ipython",
    "version": 3
   },
   "file_extension": ".py",
   "mimetype": "text/x-python",
   "name": "python",
   "nbconvert_exporter": "python",
   "pygments_lexer": "ipython3",
   "version": "3.10.7"
  }
 },
 "nbformat": 4,
 "nbformat_minor": 2
}
