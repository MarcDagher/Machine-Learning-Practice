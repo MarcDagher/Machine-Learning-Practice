{
 "cells": [
  {
   "cell_type": "markdown",
   "metadata": {},
   "source": [
    "<strong>NOTE:</strong> When I removed the normalization layer, the loss decreased super fast."
   ]
  },
  {
   "cell_type": "code",
   "execution_count": 1,
   "metadata": {},
   "outputs": [],
   "source": [
    "import pandas as pd\n",
    "import tensorflow as tf\n",
    "\n",
    "dataframe = pd.read_csv(\"Energy.csv\")"
   ]
  },
  {
   "cell_type": "code",
   "execution_count": 2,
   "metadata": {},
   "outputs": [
    {
     "data": {
      "text/plain": [
       "(tf.float64, TensorShape([9568, 4]), tf.float64, TensorShape([9568]))"
      ]
     },
     "execution_count": 2,
     "metadata": {},
     "output_type": "execute_result"
    }
   ],
   "source": [
    "dataframe = tf.constant(dataframe)\n",
    "\n",
    "### Seperate Data\n",
    "features = dataframe[:, :-1]\n",
    "label = dataframe[:, -1]\n",
    "\n",
    "features.dtype, features.shape, label.dtype, label.shape"
   ]
  },
  {
   "cell_type": "code",
   "execution_count": 3,
   "metadata": {},
   "outputs": [
    {
     "data": {
      "text/plain": [
       "<tf.Tensor: shape=(9568, 4), dtype=float32, numpy=\n",
       "array([[-0.6295194 , -0.9872969 ,  1.8204767 , -0.0095193 ],\n",
       "       [ 0.741909  ,  0.68104494,  1.1418564 , -0.9746202 ],\n",
       "       [-1.9512973 , -1.1730176 , -0.18508479,  1.2898399 ],\n",
       "       ...,\n",
       "       [ 1.5658395 ,  1.5758115 , -0.05710413, -2.522618  ],\n",
       "       [ 0.6479755 ,  1.1917777 ,  0.10118613, -0.74790037],\n",
       "       [ 0.26150653,  0.6464191 ,  0.66867125, -0.37254497]],\n",
       "      dtype=float32)>"
      ]
     },
     "execution_count": 3,
     "metadata": {},
     "output_type": "execute_result"
    }
   ],
   "source": [
    "### Normalize Data\n",
    "from keras.layers import Normalization\n",
    "\n",
    "normalizer = Normalization()\n",
    "normalizer.adapt(features)\n",
    "features = normalizer(features)\n",
    "\n",
    "features"
   ]
  },
  {
   "cell_type": "code",
   "execution_count": 4,
   "metadata": {},
   "outputs": [
    {
     "name": "stdout",
     "output_type": "stream",
     "text": [
      "Epoch 1/100\n",
      "\u001b[1m299/299\u001b[0m \u001b[32m━━━━━━━━━━━━━━━━━━━━\u001b[0m\u001b[37m\u001b[0m \u001b[1m2s\u001b[0m 2ms/step - loss: 340.8269 - mean_squared_error: 134075.5938 - r2_score: -457.7025\n",
      "Epoch 2/100\n",
      "\u001b[1m299/299\u001b[0m \u001b[32m━━━━━━━━━━━━━━━━━━━━\u001b[0m\u001b[37m\u001b[0m \u001b[1m1s\u001b[0m 2ms/step - loss: 14.8944 - mean_squared_error: 304.9716 - r2_score: -0.0498\n",
      "Epoch 3/100\n",
      "\u001b[1m299/299\u001b[0m \u001b[32m━━━━━━━━━━━━━━━━━━━━\u001b[0m\u001b[37m\u001b[0m \u001b[1m0s\u001b[0m 2ms/step - loss: 15.0536 - mean_squared_error: 314.7563 - r2_score: -0.0691\n",
      "Epoch 4/100\n",
      "\u001b[1m299/299\u001b[0m \u001b[32m━━━━━━━━━━━━━━━━━━━━\u001b[0m\u001b[37m\u001b[0m \u001b[1m1s\u001b[0m 2ms/step - loss: 14.9067 - mean_squared_error: 309.1893 - r2_score: -0.0644\n",
      "Epoch 5/100\n",
      "\u001b[1m299/299\u001b[0m \u001b[32m━━━━━━━━━━━━━━━━━━━━\u001b[0m\u001b[37m\u001b[0m \u001b[1m0s\u001b[0m 2ms/step - loss: 14.7334 - mean_squared_error: 301.4426 - r2_score: -0.0403\n",
      "Epoch 6/100\n",
      "\u001b[1m299/299\u001b[0m \u001b[32m━━━━━━━━━━━━━━━━━━━━\u001b[0m\u001b[37m\u001b[0m \u001b[1m1s\u001b[0m 2ms/step - loss: 14.7959 - mean_squared_error: 305.0079 - r2_score: -0.0422\n",
      "Epoch 7/100\n",
      "\u001b[1m299/299\u001b[0m \u001b[32m━━━━━━━━━━━━━━━━━━━━\u001b[0m\u001b[37m\u001b[0m \u001b[1m0s\u001b[0m 2ms/step - loss: 14.9602 - mean_squared_error: 306.7502 - r2_score: -0.0386\n",
      "Epoch 8/100\n",
      "\u001b[1m299/299\u001b[0m \u001b[32m━━━━━━━━━━━━━━━━━━━━\u001b[0m\u001b[37m\u001b[0m \u001b[1m1s\u001b[0m 1ms/step - loss: 14.6786 - mean_squared_error: 302.5522 - r2_score: -0.0404\n",
      "Epoch 9/100\n",
      "\u001b[1m299/299\u001b[0m \u001b[32m━━━━━━━━━━━━━━━━━━━━\u001b[0m\u001b[37m\u001b[0m \u001b[1m0s\u001b[0m 1ms/step - loss: 14.7321 - mean_squared_error: 299.3911 - r2_score: -0.0348\n",
      "Epoch 10/100\n",
      "\u001b[1m299/299\u001b[0m \u001b[32m━━━━━━━━━━━━━━━━━━━━\u001b[0m\u001b[37m\u001b[0m \u001b[1m0s\u001b[0m 2ms/step - loss: 14.6674 - mean_squared_error: 300.3896 - r2_score: -0.0375\n",
      "Epoch 11/100\n",
      "\u001b[1m299/299\u001b[0m \u001b[32m━━━━━━━━━━━━━━━━━━━━\u001b[0m\u001b[37m\u001b[0m \u001b[1m1s\u001b[0m 2ms/step - loss: 14.6883 - mean_squared_error: 301.6997 - r2_score: -0.0281\n",
      "Epoch 12/100\n",
      "\u001b[1m299/299\u001b[0m \u001b[32m━━━━━━━━━━━━━━━━━━━━\u001b[0m\u001b[37m\u001b[0m \u001b[1m0s\u001b[0m 1ms/step - loss: 14.5031 - mean_squared_error: 290.6866 - r2_score: 0.0036\n",
      "Epoch 13/100\n",
      "\u001b[1m299/299\u001b[0m \u001b[32m━━━━━━━━━━━━━━━━━━━━\u001b[0m\u001b[37m\u001b[0m \u001b[1m1s\u001b[0m 2ms/step - loss: 14.5554 - mean_squared_error: 294.0229 - r2_score: -0.0050\n",
      "Epoch 14/100\n",
      "\u001b[1m299/299\u001b[0m \u001b[32m━━━━━━━━━━━━━━━━━━━━\u001b[0m\u001b[37m\u001b[0m \u001b[1m0s\u001b[0m 1ms/step - loss: 14.5764 - mean_squared_error: 291.5402 - r2_score: 0.0098\n",
      "Epoch 15/100\n",
      "\u001b[1m299/299\u001b[0m \u001b[32m━━━━━━━━━━━━━━━━━━━━\u001b[0m\u001b[37m\u001b[0m \u001b[1m0s\u001b[0m 1ms/step - loss: 14.3802 - mean_squared_error: 286.7245 - r2_score: 0.0188\n",
      "Epoch 16/100\n",
      "\u001b[1m299/299\u001b[0m \u001b[32m━━━━━━━━━━━━━━━━━━━━\u001b[0m\u001b[37m\u001b[0m \u001b[1m0s\u001b[0m 1ms/step - loss: 14.5034 - mean_squared_error: 293.0016 - r2_score: 0.0074\n",
      "Epoch 17/100\n",
      "\u001b[1m299/299\u001b[0m \u001b[32m━━━━━━━━━━━━━━━━━━━━\u001b[0m\u001b[37m\u001b[0m \u001b[1m0s\u001b[0m 2ms/step - loss: 14.3790 - mean_squared_error: 287.4805 - r2_score: 0.0220\n",
      "Epoch 18/100\n",
      "\u001b[1m299/299\u001b[0m \u001b[32m━━━━━━━━━━━━━━━━━━━━\u001b[0m\u001b[37m\u001b[0m \u001b[1m1s\u001b[0m 2ms/step - loss: 14.1370 - mean_squared_error: 278.6018 - r2_score: 0.0323\n",
      "Epoch 19/100\n",
      "\u001b[1m299/299\u001b[0m \u001b[32m━━━━━━━━━━━━━━━━━━━━\u001b[0m\u001b[37m\u001b[0m \u001b[1m1s\u001b[0m 1ms/step - loss: 14.1526 - mean_squared_error: 280.5491 - r2_score: 0.0361\n",
      "Epoch 20/100\n",
      "\u001b[1m299/299\u001b[0m \u001b[32m━━━━━━━━━━━━━━━━━━━━\u001b[0m\u001b[37m\u001b[0m \u001b[1m0s\u001b[0m 1ms/step - loss: 14.1260 - mean_squared_error: 275.9998 - r2_score: 0.0530\n",
      "Epoch 21/100\n",
      "\u001b[1m299/299\u001b[0m \u001b[32m━━━━━━━━━━━━━━━━━━━━\u001b[0m\u001b[37m\u001b[0m \u001b[1m0s\u001b[0m 1ms/step - loss: 14.2325 - mean_squared_error: 280.3262 - r2_score: 0.0503\n",
      "Epoch 22/100\n",
      "\u001b[1m299/299\u001b[0m \u001b[32m━━━━━━━━━━━━━━━━━━━━\u001b[0m\u001b[37m\u001b[0m \u001b[1m0s\u001b[0m 1ms/step - loss: 14.0431 - mean_squared_error: 271.9922 - r2_score: 0.0564\n",
      "Epoch 23/100\n",
      "\u001b[1m299/299\u001b[0m \u001b[32m━━━━━━━━━━━━━━━━━━━━\u001b[0m\u001b[37m\u001b[0m \u001b[1m0s\u001b[0m 1ms/step - loss: 14.0912 - mean_squared_error: 273.4907 - r2_score: 0.0734\n",
      "Epoch 24/100\n",
      "\u001b[1m299/299\u001b[0m \u001b[32m━━━━━━━━━━━━━━━━━━━━\u001b[0m\u001b[37m\u001b[0m \u001b[1m0s\u001b[0m 1ms/step - loss: 14.0095 - mean_squared_error: 269.2735 - r2_score: 0.0754\n",
      "Epoch 25/100\n",
      "\u001b[1m299/299\u001b[0m \u001b[32m━━━━━━━━━━━━━━━━━━━━\u001b[0m\u001b[37m\u001b[0m \u001b[1m1s\u001b[0m 1ms/step - loss: 13.9310 - mean_squared_error: 270.9082 - r2_score: 0.0708\n",
      "Epoch 26/100\n",
      "\u001b[1m299/299\u001b[0m \u001b[32m━━━━━━━━━━━━━━━━━━━━\u001b[0m\u001b[37m\u001b[0m \u001b[1m0s\u001b[0m 1ms/step - loss: 13.8061 - mean_squared_error: 263.8716 - r2_score: 0.0883\n",
      "Epoch 27/100\n",
      "\u001b[1m299/299\u001b[0m \u001b[32m━━━━━━━━━━━━━━━━━━━━\u001b[0m\u001b[37m\u001b[0m \u001b[1m0s\u001b[0m 1ms/step - loss: 13.6541 - mean_squared_error: 257.5830 - r2_score: 0.0951\n",
      "Epoch 28/100\n",
      "\u001b[1m299/299\u001b[0m \u001b[32m━━━━━━━━━━━━━━━━━━━━\u001b[0m\u001b[37m\u001b[0m \u001b[1m0s\u001b[0m 1ms/step - loss: 13.7964 - mean_squared_error: 263.1413 - r2_score: 0.1048\n",
      "Epoch 29/100\n",
      "\u001b[1m299/299\u001b[0m \u001b[32m━━━━━━━━━━━━━━━━━━━━\u001b[0m\u001b[37m\u001b[0m \u001b[1m0s\u001b[0m 1ms/step - loss: 13.6317 - mean_squared_error: 257.7910 - r2_score: 0.1134\n",
      "Epoch 30/100\n",
      "\u001b[1m299/299\u001b[0m \u001b[32m━━━━━━━━━━━━━━━━━━━━\u001b[0m\u001b[37m\u001b[0m \u001b[1m1s\u001b[0m 2ms/step - loss: 13.6381 - mean_squared_error: 258.4806 - r2_score: 0.1187\n",
      "Epoch 31/100\n",
      "\u001b[1m299/299\u001b[0m \u001b[32m━━━━━━━━━━━━━━━━━━━━\u001b[0m\u001b[37m\u001b[0m \u001b[1m0s\u001b[0m 1ms/step - loss: 13.5203 - mean_squared_error: 255.5150 - r2_score: 0.1220\n",
      "Epoch 32/100\n",
      "\u001b[1m299/299\u001b[0m \u001b[32m━━━━━━━━━━━━━━━━━━━━\u001b[0m\u001b[37m\u001b[0m \u001b[1m0s\u001b[0m 1ms/step - loss: 13.5569 - mean_squared_error: 254.9333 - r2_score: 0.1334\n",
      "Epoch 33/100\n",
      "\u001b[1m299/299\u001b[0m \u001b[32m━━━━━━━━━━━━━━━━━━━━\u001b[0m\u001b[37m\u001b[0m \u001b[1m0s\u001b[0m 1ms/step - loss: 13.3486 - mean_squared_error: 249.7153 - r2_score: 0.1380\n",
      "Epoch 34/100\n",
      "\u001b[1m299/299\u001b[0m \u001b[32m━━━━━━━━━━━━━━━━━━━━\u001b[0m\u001b[37m\u001b[0m \u001b[1m0s\u001b[0m 1ms/step - loss: 13.2995 - mean_squared_error: 244.4382 - r2_score: 0.1491\n",
      "Epoch 35/100\n",
      "\u001b[1m299/299\u001b[0m \u001b[32m━━━━━━━━━━━━━━━━━━━━\u001b[0m\u001b[37m\u001b[0m \u001b[1m0s\u001b[0m 1ms/step - loss: 13.1304 - mean_squared_error: 239.9943 - r2_score: 0.1654\n",
      "Epoch 36/100\n",
      "\u001b[1m299/299\u001b[0m \u001b[32m━━━━━━━━━━━━━━━━━━━━\u001b[0m\u001b[37m\u001b[0m \u001b[1m1s\u001b[0m 2ms/step - loss: 13.1513 - mean_squared_error: 241.3425 - r2_score: 0.1661\n",
      "Epoch 37/100\n",
      "\u001b[1m299/299\u001b[0m \u001b[32m━━━━━━━━━━━━━━━━━━━━\u001b[0m\u001b[37m\u001b[0m \u001b[1m0s\u001b[0m 1ms/step - loss: 13.0657 - mean_squared_error: 240.9110 - r2_score: 0.1719\n",
      "Epoch 38/100\n",
      "\u001b[1m299/299\u001b[0m \u001b[32m━━━━━━━━━━━━━━━━━━━━\u001b[0m\u001b[37m\u001b[0m \u001b[1m1s\u001b[0m 1ms/step - loss: 13.0759 - mean_squared_error: 238.3197 - r2_score: 0.1844\n",
      "Epoch 39/100\n",
      "\u001b[1m299/299\u001b[0m \u001b[32m━━━━━━━━━━━━━━━━━━━━\u001b[0m\u001b[37m\u001b[0m \u001b[1m0s\u001b[0m 1ms/step - loss: 12.8531 - mean_squared_error: 234.0421 - r2_score: 0.1961\n",
      "Epoch 40/100\n",
      "\u001b[1m299/299\u001b[0m \u001b[32m━━━━━━━━━━━━━━━━━━━━\u001b[0m\u001b[37m\u001b[0m \u001b[1m0s\u001b[0m 1ms/step - loss: 12.7116 - mean_squared_error: 226.9129 - r2_score: 0.2145\n",
      "Epoch 41/100\n",
      "\u001b[1m299/299\u001b[0m \u001b[32m━━━━━━━━━━━━━━━━━━━━\u001b[0m\u001b[37m\u001b[0m \u001b[1m0s\u001b[0m 1ms/step - loss: 12.8385 - mean_squared_error: 227.1013 - r2_score: 0.2239\n",
      "Epoch 42/100\n",
      "\u001b[1m299/299\u001b[0m \u001b[32m━━━━━━━━━━━━━━━━━━━━\u001b[0m\u001b[37m\u001b[0m \u001b[1m0s\u001b[0m 1ms/step - loss: 12.5271 - mean_squared_error: 216.6458 - r2_score: 0.2448\n",
      "Epoch 43/100\n",
      "\u001b[1m299/299\u001b[0m \u001b[32m━━━━━━━━━━━━━━━━━━━━\u001b[0m\u001b[37m\u001b[0m \u001b[1m0s\u001b[0m 1ms/step - loss: 12.6559 - mean_squared_error: 225.2270 - r2_score: 0.2261\n",
      "Epoch 44/100\n",
      "\u001b[1m299/299\u001b[0m \u001b[32m━━━━━━━━━━━━━━━━━━━━\u001b[0m\u001b[37m\u001b[0m \u001b[1m0s\u001b[0m 1ms/step - loss: 12.4107 - mean_squared_error: 215.6508 - r2_score: 0.2636\n",
      "Epoch 45/100\n",
      "\u001b[1m299/299\u001b[0m \u001b[32m━━━━━━━━━━━━━━━━━━━━\u001b[0m\u001b[37m\u001b[0m \u001b[1m1s\u001b[0m 1ms/step - loss: 12.2295 - mean_squared_error: 209.6582 - r2_score: 0.2724\n",
      "Epoch 46/100\n",
      "\u001b[1m299/299\u001b[0m \u001b[32m━━━━━━━━━━━━━━━━━━━━\u001b[0m\u001b[37m\u001b[0m \u001b[1m0s\u001b[0m 1ms/step - loss: 12.1707 - mean_squared_error: 208.6135 - r2_score: 0.2817\n",
      "Epoch 47/100\n",
      "\u001b[1m299/299\u001b[0m \u001b[32m━━━━━━━━━━━━━━━━━━━━\u001b[0m\u001b[37m\u001b[0m \u001b[1m0s\u001b[0m 2ms/step - loss: 11.9985 - mean_squared_error: 201.1540 - r2_score: 0.3085\n",
      "Epoch 48/100\n",
      "\u001b[1m299/299\u001b[0m \u001b[32m━━━━━━━━━━━━━━━━━━━━\u001b[0m\u001b[37m\u001b[0m \u001b[1m1s\u001b[0m 1ms/step - loss: 11.9514 - mean_squared_error: 201.7463 - r2_score: 0.3121\n",
      "Epoch 49/100\n",
      "\u001b[1m299/299\u001b[0m \u001b[32m━━━━━━━━━━━━━━━━━━━━\u001b[0m\u001b[37m\u001b[0m \u001b[1m0s\u001b[0m 1ms/step - loss: 11.5546 - mean_squared_error: 190.9534 - r2_score: 0.3331\n",
      "Epoch 50/100\n",
      "\u001b[1m299/299\u001b[0m \u001b[32m━━━━━━━━━━━━━━━━━━━━\u001b[0m\u001b[37m\u001b[0m \u001b[1m0s\u001b[0m 1ms/step - loss: 11.4829 - mean_squared_error: 184.9311 - r2_score: 0.3604\n",
      "Epoch 51/100\n",
      "\u001b[1m299/299\u001b[0m \u001b[32m━━━━━━━━━━━━━━━━━━━━\u001b[0m\u001b[37m\u001b[0m \u001b[1m0s\u001b[0m 1ms/step - loss: 11.2496 - mean_squared_error: 180.6279 - r2_score: 0.3744\n",
      "Epoch 52/100\n",
      "\u001b[1m299/299\u001b[0m \u001b[32m━━━━━━━━━━━━━━━━━━━━\u001b[0m\u001b[37m\u001b[0m \u001b[1m1s\u001b[0m 1ms/step - loss: 11.2064 - mean_squared_error: 179.9432 - r2_score: 0.3816\n",
      "Epoch 53/100\n",
      "\u001b[1m299/299\u001b[0m \u001b[32m━━━━━━━━━━━━━━━━━━━━\u001b[0m\u001b[37m\u001b[0m \u001b[1m1s\u001b[0m 2ms/step - loss: 10.9331 - mean_squared_error: 169.0353 - r2_score: 0.4200\n",
      "Epoch 54/100\n",
      "\u001b[1m299/299\u001b[0m \u001b[32m━━━━━━━━━━━━━━━━━━━━\u001b[0m\u001b[37m\u001b[0m \u001b[1m0s\u001b[0m 1ms/step - loss: 10.7629 - mean_squared_error: 163.9296 - r2_score: 0.4477\n",
      "Epoch 55/100\n",
      "\u001b[1m299/299\u001b[0m \u001b[32m━━━━━━━━━━━━━━━━━━━━\u001b[0m\u001b[37m\u001b[0m \u001b[1m0s\u001b[0m 1ms/step - loss: 10.3983 - mean_squared_error: 154.7496 - r2_score: 0.4705\n",
      "Epoch 56/100\n",
      "\u001b[1m299/299\u001b[0m \u001b[32m━━━━━━━━━━━━━━━━━━━━\u001b[0m\u001b[37m\u001b[0m \u001b[1m0s\u001b[0m 1ms/step - loss: 10.2425 - mean_squared_error: 148.9840 - r2_score: 0.4991\n",
      "Epoch 57/100\n",
      "\u001b[1m299/299\u001b[0m \u001b[32m━━━━━━━━━━━━━━━━━━━━\u001b[0m\u001b[37m\u001b[0m \u001b[1m0s\u001b[0m 1ms/step - loss: 9.8169 - mean_squared_error: 137.1311 - r2_score: 0.5313\n",
      "Epoch 58/100\n",
      "\u001b[1m299/299\u001b[0m \u001b[32m━━━━━━━━━━━━━━━━━━━━\u001b[0m\u001b[37m\u001b[0m \u001b[1m0s\u001b[0m 2ms/step - loss: 9.3950 - mean_squared_error: 129.4728 - r2_score: 0.5584\n",
      "Epoch 59/100\n",
      "\u001b[1m299/299\u001b[0m \u001b[32m━━━━━━━━━━━━━━━━━━━━\u001b[0m\u001b[37m\u001b[0m \u001b[1m0s\u001b[0m 1ms/step - loss: 9.0484 - mean_squared_error: 119.5076 - r2_score: 0.5892\n",
      "Epoch 60/100\n",
      "\u001b[1m299/299\u001b[0m \u001b[32m━━━━━━━━━━━━━━━━━━━━\u001b[0m\u001b[37m\u001b[0m \u001b[1m0s\u001b[0m 1ms/step - loss: 8.7053 - mean_squared_error: 109.8994 - r2_score: 0.6231\n",
      "Epoch 61/100\n",
      "\u001b[1m299/299\u001b[0m \u001b[32m━━━━━━━━━━━━━━━━━━━━\u001b[0m\u001b[37m\u001b[0m \u001b[1m0s\u001b[0m 1ms/step - loss: 8.0531 - mean_squared_error: 95.1139 - r2_score: 0.6720\n",
      "Epoch 62/100\n",
      "\u001b[1m299/299\u001b[0m \u001b[32m━━━━━━━━━━━━━━━━━━━━\u001b[0m\u001b[37m\u001b[0m \u001b[1m0s\u001b[0m 1ms/step - loss: 7.7311 - mean_squared_error: 87.8668 - r2_score: 0.7015\n",
      "Epoch 63/100\n",
      "\u001b[1m299/299\u001b[0m \u001b[32m━━━━━━━━━━━━━━━━━━━━\u001b[0m\u001b[37m\u001b[0m \u001b[1m0s\u001b[0m 1ms/step - loss: 7.1548 - mean_squared_error: 75.6528 - r2_score: 0.7424\n",
      "Epoch 64/100\n",
      "\u001b[1m299/299\u001b[0m \u001b[32m━━━━━━━━━━━━━━━━━━━━\u001b[0m\u001b[37m\u001b[0m \u001b[1m1s\u001b[0m 2ms/step - loss: 6.6459 - mean_squared_error: 66.0010 - r2_score: 0.7742\n",
      "Epoch 65/100\n",
      "\u001b[1m299/299\u001b[0m \u001b[32m━━━━━━━━━━━━━━━━━━━━\u001b[0m\u001b[37m\u001b[0m \u001b[1m0s\u001b[0m 1ms/step - loss: 6.2758 - mean_squared_error: 59.2567 - r2_score: 0.8001\n",
      "Epoch 66/100\n",
      "\u001b[1m299/299\u001b[0m \u001b[32m━━━━━━━━━━━━━━━━━━━━\u001b[0m\u001b[37m\u001b[0m \u001b[1m1s\u001b[0m 1ms/step - loss: 5.7507 - mean_squared_error: 50.0020 - r2_score: 0.8273\n",
      "Epoch 67/100\n",
      "\u001b[1m299/299\u001b[0m \u001b[32m━━━━━━━━━━━━━━━━━━━━\u001b[0m\u001b[37m\u001b[0m \u001b[1m0s\u001b[0m 1ms/step - loss: 5.3911 - mean_squared_error: 43.5522 - r2_score: 0.8519\n",
      "Epoch 68/100\n",
      "\u001b[1m299/299\u001b[0m \u001b[32m━━━━━━━━━━━━━━━━━━━━\u001b[0m\u001b[37m\u001b[0m \u001b[1m1s\u001b[0m 2ms/step - loss: 4.9965 - mean_squared_error: 38.3358 - r2_score: 0.8671\n",
      "Epoch 69/100\n",
      "\u001b[1m299/299\u001b[0m \u001b[32m━━━━━━━━━━━━━━━━━━━━\u001b[0m\u001b[37m\u001b[0m \u001b[1m1s\u001b[0m 2ms/step - loss: 5.1706 - mean_squared_error: 41.3546 - r2_score: 0.8597\n",
      "Epoch 70/100\n",
      "\u001b[1m299/299\u001b[0m \u001b[32m━━━━━━━━━━━━━━━━━━━━\u001b[0m\u001b[37m\u001b[0m \u001b[1m1s\u001b[0m 1ms/step - loss: 4.7542 - mean_squared_error: 34.7991 - r2_score: 0.8815\n",
      "Epoch 71/100\n",
      "\u001b[1m299/299\u001b[0m \u001b[32m━━━━━━━━━━━━━━━━━━━━\u001b[0m\u001b[37m\u001b[0m \u001b[1m0s\u001b[0m 1ms/step - loss: 4.6092 - mean_squared_error: 33.0988 - r2_score: 0.8874\n",
      "Epoch 72/100\n",
      "\u001b[1m299/299\u001b[0m \u001b[32m━━━━━━━━━━━━━━━━━━━━\u001b[0m\u001b[37m\u001b[0m \u001b[1m0s\u001b[0m 1ms/step - loss: 4.4232 - mean_squared_error: 30.5370 - r2_score: 0.8938\n",
      "Epoch 73/100\n",
      "\u001b[1m299/299\u001b[0m \u001b[32m━━━━━━━━━━━━━━━━━━━━\u001b[0m\u001b[37m\u001b[0m \u001b[1m1s\u001b[0m 2ms/step - loss: 4.3517 - mean_squared_error: 29.7311 - r2_score: 0.8969\n",
      "Epoch 74/100\n",
      "\u001b[1m299/299\u001b[0m \u001b[32m━━━━━━━━━━━━━━━━━━━━\u001b[0m\u001b[37m\u001b[0m \u001b[1m0s\u001b[0m 1ms/step - loss: 4.3239 - mean_squared_error: 30.0808 - r2_score: 0.8973\n",
      "Epoch 75/100\n",
      "\u001b[1m299/299\u001b[0m \u001b[32m━━━━━━━━━━━━━━━━━━━━\u001b[0m\u001b[37m\u001b[0m \u001b[1m0s\u001b[0m 1ms/step - loss: 4.2029 - mean_squared_error: 28.1471 - r2_score: 0.9029\n",
      "Epoch 76/100\n",
      "\u001b[1m299/299\u001b[0m \u001b[32m━━━━━━━━━━━━━━━━━━━━\u001b[0m\u001b[37m\u001b[0m \u001b[1m0s\u001b[0m 1ms/step - loss: 4.1191 - mean_squared_error: 27.4727 - r2_score: 0.9044\n",
      "Epoch 77/100\n",
      "\u001b[1m299/299\u001b[0m \u001b[32m━━━━━━━━━━━━━━━━━━━━\u001b[0m\u001b[37m\u001b[0m \u001b[1m0s\u001b[0m 1ms/step - loss: 4.1273 - mean_squared_error: 27.7190 - r2_score: 0.9058\n",
      "Epoch 78/100\n",
      "\u001b[1m299/299\u001b[0m \u001b[32m━━━━━━━━━━━━━━━━━━━━\u001b[0m\u001b[37m\u001b[0m \u001b[1m0s\u001b[0m 1ms/step - loss: 4.1910 - mean_squared_error: 28.0061 - r2_score: 0.9037\n",
      "Epoch 79/100\n",
      "\u001b[1m299/299\u001b[0m \u001b[32m━━━━━━━━━━━━━━━━━━━━\u001b[0m\u001b[37m\u001b[0m \u001b[1m0s\u001b[0m 1ms/step - loss: 4.1527 - mean_squared_error: 28.0901 - r2_score: 0.9056\n",
      "Epoch 80/100\n",
      "\u001b[1m299/299\u001b[0m \u001b[32m━━━━━━━━━━━━━━━━━━━━\u001b[0m\u001b[37m\u001b[0m \u001b[1m0s\u001b[0m 1ms/step - loss: 4.1295 - mean_squared_error: 28.0613 - r2_score: 0.9032\n",
      "Epoch 81/100\n",
      "\u001b[1m299/299\u001b[0m \u001b[32m━━━━━━━━━━━━━━━━━━━━\u001b[0m\u001b[37m\u001b[0m \u001b[1m0s\u001b[0m 1ms/step - loss: 4.0707 - mean_squared_error: 26.6519 - r2_score: 0.9093\n",
      "Epoch 82/100\n",
      "\u001b[1m299/299\u001b[0m \u001b[32m━━━━━━━━━━━━━━━━━━━━\u001b[0m\u001b[37m\u001b[0m \u001b[1m0s\u001b[0m 1ms/step - loss: 4.1187 - mean_squared_error: 27.8407 - r2_score: 0.9050\n",
      "Epoch 83/100\n",
      "\u001b[1m299/299\u001b[0m \u001b[32m━━━━━━━━━━━━━━━━━━━━\u001b[0m\u001b[37m\u001b[0m \u001b[1m0s\u001b[0m 2ms/step - loss: 4.0975 - mean_squared_error: 27.8337 - r2_score: 0.9044\n",
      "Epoch 84/100\n",
      "\u001b[1m299/299\u001b[0m \u001b[32m━━━━━━━━━━━━━━━━━━━━\u001b[0m\u001b[37m\u001b[0m \u001b[1m1s\u001b[0m 1ms/step - loss: 4.1715 - mean_squared_error: 28.2771 - r2_score: 0.9027\n",
      "Epoch 85/100\n",
      "\u001b[1m299/299\u001b[0m \u001b[32m━━━━━━━━━━━━━━━━━━━━\u001b[0m\u001b[37m\u001b[0m \u001b[1m1s\u001b[0m 1ms/step - loss: 4.0307 - mean_squared_error: 26.6891 - r2_score: 0.9093\n",
      "Epoch 86/100\n",
      "\u001b[1m299/299\u001b[0m \u001b[32m━━━━━━━━━━━━━━━━━━━━\u001b[0m\u001b[37m\u001b[0m \u001b[1m0s\u001b[0m 1ms/step - loss: 4.1278 - mean_squared_error: 28.2003 - r2_score: 0.9038\n",
      "Epoch 87/100\n",
      "\u001b[1m299/299\u001b[0m \u001b[32m━━━━━━━━━━━━━━━━━━━━\u001b[0m\u001b[37m\u001b[0m \u001b[1m0s\u001b[0m 1ms/step - loss: 4.0823 - mean_squared_error: 27.4519 - r2_score: 0.9065\n",
      "Epoch 88/100\n",
      "\u001b[1m299/299\u001b[0m \u001b[32m━━━━━━━━━━━━━━━━━━━━\u001b[0m\u001b[37m\u001b[0m \u001b[1m0s\u001b[0m 2ms/step - loss: 4.0631 - mean_squared_error: 26.6186 - r2_score: 0.9081\n",
      "Epoch 89/100\n",
      "\u001b[1m299/299\u001b[0m \u001b[32m━━━━━━━━━━━━━━━━━━━━\u001b[0m\u001b[37m\u001b[0m \u001b[1m1s\u001b[0m 1ms/step - loss: 4.0277 - mean_squared_error: 26.5827 - r2_score: 0.9087\n",
      "Epoch 90/100\n",
      "\u001b[1m299/299\u001b[0m \u001b[32m━━━━━━━━━━━━━━━━━━━━\u001b[0m\u001b[37m\u001b[0m \u001b[1m0s\u001b[0m 1ms/step - loss: 3.9936 - mean_squared_error: 25.7184 - r2_score: 0.9135\n",
      "Epoch 91/100\n",
      "\u001b[1m299/299\u001b[0m \u001b[32m━━━━━━━━━━━━━━━━━━━━\u001b[0m\u001b[37m\u001b[0m \u001b[1m0s\u001b[0m 1ms/step - loss: 3.9224 - mean_squared_error: 25.4918 - r2_score: 0.9106\n",
      "Epoch 92/100\n",
      "\u001b[1m299/299\u001b[0m \u001b[32m━━━━━━━━━━━━━━━━━━━━\u001b[0m\u001b[37m\u001b[0m \u001b[1m0s\u001b[0m 1ms/step - loss: 4.0426 - mean_squared_error: 26.9084 - r2_score: 0.9079\n",
      "Epoch 93/100\n",
      "\u001b[1m299/299\u001b[0m \u001b[32m━━━━━━━━━━━━━━━━━━━━\u001b[0m\u001b[37m\u001b[0m \u001b[1m0s\u001b[0m 1ms/step - loss: 3.9801 - mean_squared_error: 25.7649 - r2_score: 0.9120\n",
      "Epoch 94/100\n",
      "\u001b[1m299/299\u001b[0m \u001b[32m━━━━━━━━━━━━━━━━━━━━\u001b[0m\u001b[37m\u001b[0m \u001b[1m0s\u001b[0m 1ms/step - loss: 4.1107 - mean_squared_error: 27.6424 - r2_score: 0.9051\n",
      "Epoch 95/100\n",
      "\u001b[1m299/299\u001b[0m \u001b[32m━━━━━━━━━━━━━━━━━━━━\u001b[0m\u001b[37m\u001b[0m \u001b[1m1s\u001b[0m 2ms/step - loss: 3.9877 - mean_squared_error: 25.9828 - r2_score: 0.9107\n",
      "Epoch 96/100\n",
      "\u001b[1m299/299\u001b[0m \u001b[32m━━━━━━━━━━━━━━━━━━━━\u001b[0m\u001b[37m\u001b[0m \u001b[1m1s\u001b[0m 2ms/step - loss: 4.0480 - mean_squared_error: 26.3711 - r2_score: 0.9101\n",
      "Epoch 97/100\n",
      "\u001b[1m299/299\u001b[0m \u001b[32m━━━━━━━━━━━━━━━━━━━━\u001b[0m\u001b[37m\u001b[0m \u001b[1m1s\u001b[0m 2ms/step - loss: 4.0301 - mean_squared_error: 26.4707 - r2_score: 0.9108\n",
      "Epoch 98/100\n",
      "\u001b[1m299/299\u001b[0m \u001b[32m━━━━━━━━━━━━━━━━━━━━\u001b[0m\u001b[37m\u001b[0m \u001b[1m1s\u001b[0m 2ms/step - loss: 3.9266 - mean_squared_error: 25.3162 - r2_score: 0.9125\n",
      "Epoch 99/100\n",
      "\u001b[1m299/299\u001b[0m \u001b[32m━━━━━━━━━━━━━━━━━━━━\u001b[0m\u001b[37m\u001b[0m \u001b[1m0s\u001b[0m 1ms/step - loss: 3.9932 - mean_squared_error: 25.8160 - r2_score: 0.9108\n",
      "Epoch 100/100\n",
      "\u001b[1m299/299\u001b[0m \u001b[32m━━━━━━━━━━━━━━━━━━━━\u001b[0m\u001b[37m\u001b[0m \u001b[1m0s\u001b[0m 1ms/step - loss: 4.1208 - mean_squared_error: 27.1334 - r2_score: 0.9068\n"
     ]
    },
    {
     "data": {
      "text/plain": [
       "<keras.src.callbacks.history.History at 0x24e0c3e8460>"
      ]
     },
     "execution_count": 4,
     "metadata": {},
     "output_type": "execute_result"
    }
   ],
   "source": [
    "### Build Model\n",
    "from keras import Sequential\n",
    "from keras.layers import InputLayer, Dense\n",
    "from keras.losses import MeanAbsoluteError\n",
    "from keras.metrics import MeanSquaredError, R2Score\n",
    "from keras.optimizers import Adam\n",
    "\n",
    "ANN = Sequential()\n",
    "ANN.add( InputLayer( shape = (4,) ) )\n",
    "ANN.add( normalizer )\n",
    "ANN.add( Dense( units = 20, activation = \"relu\" ) )\n",
    "ANN.add( Dense( units = 20, activation = \"relu\" ) )\n",
    "ANN.add( Dense( units = 1 ) )\n",
    "ANN.compile( optimizer = Adam(), loss = MeanAbsoluteError(), metrics = [MeanSquaredError(), R2Score()])\n",
    "\n",
    "### Train\n",
    "ANN.fit( features, label, epochs = 100)"
   ]
  },
  {
   "cell_type": "code",
   "execution_count": 5,
   "metadata": {},
   "outputs": [
    {
     "name": "stdout",
     "output_type": "stream",
     "text": [
      "\u001b[1m299/299\u001b[0m \u001b[32m━━━━━━━━━━━━━━━━━━━━\u001b[0m\u001b[37m\u001b[0m \u001b[1m0s\u001b[0m 954us/step - loss: 4.1910 - mean_squared_error: 27.8098 - r2_score: 0.9036\n"
     ]
    },
    {
     "data": {
      "text/plain": [
       "[4.185334205627441, 27.888322830200195, 0.9042288064956665]"
      ]
     },
     "execution_count": 5,
     "metadata": {},
     "output_type": "execute_result"
    }
   ],
   "source": [
    "### Evaluate\n",
    "ANN.evaluate(features, label)"
   ]
  }
 ],
 "metadata": {
  "kernelspec": {
   "display_name": "Python 3",
   "language": "python",
   "name": "python3"
  },
  "language_info": {
   "codemirror_mode": {
    "name": "ipython",
    "version": 3
   },
   "file_extension": ".py",
   "mimetype": "text/x-python",
   "name": "python",
   "nbconvert_exporter": "python",
   "pygments_lexer": "ipython3",
   "version": "3.10.7"
  }
 },
 "nbformat": 4,
 "nbformat_minor": 2
}
