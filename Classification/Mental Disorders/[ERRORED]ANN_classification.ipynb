{
 "cells": [
  {
   "cell_type": "code",
   "execution_count": null,
   "metadata": {},
   "outputs": [],
   "source": [
    "### General Imports\n",
    "import pandas as pd\n",
    "import tensorflow as tf\n",
    "import numpy as np\n",
    "\n",
    "dataframe = pd.read_csv(\"Dataset-Mental-Disorders.csv\")\n",
    "dataframe = dataframe.drop([\"Patient Number\"], axis = 1)\n",
    "\n",
    "### Data Preprocessing \n",
    "for row_number in range(len(dataframe)):\n",
    "\n",
    "  # Columns 0 -> 3: ['Sometimes', 'Usually', 'Seldom', 'Most-Often']\n",
    "  columns_type1 = dataframe.columns[:4]\n",
    "  for column in columns_type1:\n",
    "    value = dataframe.loc[row_number, column]\n",
    "    if value == 'Sometimes': dataframe.loc[row_number, column] = 0.0\n",
    "    elif value == 'Usually': dataframe.loc[row_number, column] = 1.0\n",
    "    elif value == 'Seldom': dataframe.loc[row_number, column] = 2.0\n",
    "    else: dataframe.loc[row_number, column] = 3.0\n",
    "\n",
    "\n",
    "  # Columns 4 -> 13: ['YES', 'NO']\n",
    "  columns_type2 = dataframe.columns[4:14]\n",
    "  for column in columns_type2:\n",
    "    value = dataframe.loc[row_number, column]\n",
    "    if value == 'NO': dataframe.loc[row_number, column] = 0.0\n",
    "    else: dataframe.loc[row_number, column] = 1.0\n",
    "\n",
    "  # Columns 14 -> 16: [int from int] => get the first int\n",
    "  columns_type3 = dataframe.columns[14: 17]\n",
    "  for column in columns_type3:\n",
    "    value = dataframe.loc[row_number, column].split()\n",
    "    dataframe.loc[row_number, column] = float(value[0]) \n",
    "  \n",
    "  value = dataframe.loc[row_number, \"Expert Diagnose\"]\n",
    "  if value == \"Bipolar Type-2\": dataframe.loc[row_number, \"Expert Diagnose\"] = 0\n",
    "  elif value == \"Depression\": dataframe.loc[row_number, \"Expert Diagnose\"] = 1\n",
    "  elif value == \"Bipolar Type-1\": dataframe.loc[row_number, \"Expert Diagnose\"] = 2\n",
    "  elif value == \"Normal\": dataframe.loc[row_number, \"Expert Diagnose\"] = 3"
   ]
  },
  {
   "cell_type": "code",
   "execution_count": null,
   "metadata": {},
   "outputs": [],
   "source": [
    "### Change Data Type of features to make them compatible with tensors\n",
    "### Split Data\n",
    "features = dataframe.iloc[:, :-1].values\n",
    "features = np.asarray(features).astype('float32')\n",
    "features = tf.constant(features)  \n",
    "\n",
    "label = dataframe.iloc[:, -1].values\n",
    "label = np.asarray(label).astype('float32')\n",
    "label = tf.constant(label)"
   ]
  },
  {
   "cell_type": "code",
   "execution_count": null,
   "metadata": {},
   "outputs": [],
   "source": [
    "### Normalize the Tensor\n",
    "from keras.layers import Normalization\n",
    "normalizer = Normalization()\n",
    "normalizer.adapt(features)"
   ]
  },
  {
   "cell_type": "code",
   "execution_count": null,
   "metadata": {},
   "outputs": [],
   "source": [
    "### Build ANN\n",
    "from keras import Sequential\n",
    "from keras.layers import Dense, InputLayer\n",
    "from keras.optimizers import Adam\n",
    " \n",
    "ANN = Sequential()\n",
    "ANN.add( InputLayer(shape = (17,)) )\n",
    "ANN.add( Dense(units = 17, activation = \"relu\") )\n",
    "ANN.add( Dense(units = 17, activation = \"relu\") )\n",
    "ANN.add( Dense(units = 1, activation = \"softmax\") )\n",
    "\n",
    "### Train ANN\n",
    "from keras.metrics import Accuracy\n",
    "from keras.losses import CategoricalCrossentropy\n",
    "ANN.compile( optimizer = Adam(), loss = \"sparse_categorical_crossentropy\", metrics = [Accuracy()] )\n",
    "ANN.fit(features, label, epochs = 100)"
   ]
  }
 ],
 "metadata": {
  "kernelspec": {
   "display_name": "Python 3",
   "language": "python",
   "name": "python3"
  },
  "language_info": {
   "codemirror_mode": {
    "name": "ipython",
    "version": 3
   },
   "file_extension": ".py",
   "mimetype": "text/x-python",
   "name": "python",
   "nbconvert_exporter": "python",
   "pygments_lexer": "ipython3",
   "version": "3.10.7"
  }
 },
 "nbformat": 4,
 "nbformat_minor": 2
}
