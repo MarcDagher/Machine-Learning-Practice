{
 "cells": [
  {
   "cell_type": "markdown",
   "metadata": {},
   "source": [
    "<strong>NOTE:</strong> When I removed the normalization layer, the loss decreased super fast."
   ]
  },
  {
   "cell_type": "code",
   "execution_count": 1,
   "metadata": {},
   "outputs": [],
   "source": [
    "import pandas as pd\n",
    "import tensorflow as tf\n",
    "\n",
    "dataframe = pd.read_csv(\"Energy.csv\")"
   ]
  },
  {
   "cell_type": "code",
   "execution_count": 2,
   "metadata": {},
   "outputs": [
    {
     "data": {
      "text/plain": [
       "(tf.float64, tf.float64)"
      ]
     },
     "execution_count": 2,
     "metadata": {},
     "output_type": "execute_result"
    }
   ],
   "source": [
    "dataframe = tf.constant(dataframe)\n",
    "\n",
    "### Seperate Data\n",
    "features = dataframe[:, :-1]\n",
    "label = dataframe[:, -1]\n",
    "label = tf.expand_dims(label, axis = 1)\n",
    "\n",
    "features.dtype, label.dtype"
   ]
  },
  {
   "cell_type": "code",
   "execution_count": 3,
   "metadata": {},
   "outputs": [
    {
     "data": {
      "text/plain": [
       "(tf.float32, TensorShape([9568, 4]), tf.float64, TensorShape([9568, 1]))"
      ]
     },
     "execution_count": 3,
     "metadata": {},
     "output_type": "execute_result"
    }
   ],
   "source": [
    "### Normalize Data\n",
    "from keras.layers import Normalization\n",
    "\n",
    "normalizer = Normalization()\n",
    "normalizer.adapt(features)\n",
    "features = normalizer(features)\n",
    "\n",
    "features.dtype, features.shape, label.dtype, label.shape "
   ]
  },
  {
   "cell_type": "code",
   "execution_count": 4,
   "metadata": {},
   "outputs": [
    {
     "name": "stdout",
     "output_type": "stream",
     "text": [
      "Epoch 1/100\n",
      "\u001b[1m299/299\u001b[0m \u001b[32m━━━━━━━━━━━━━━━━━━━━\u001b[0m\u001b[37m\u001b[0m \u001b[1m1s\u001b[0m 1ms/step - loss: 368.7262 - mean_squared_error: 148958.9844 - r2_score: -520.1577\n",
      "Epoch 2/100\n",
      "\u001b[1m299/299\u001b[0m \u001b[32m━━━━━━━━━━━━━━━━━━━━\u001b[0m\u001b[37m\u001b[0m \u001b[1m0s\u001b[0m 1ms/step - loss: 14.8418 - mean_squared_error: 302.5147 - r2_score: -0.0344\n",
      "Epoch 3/100\n",
      "\u001b[1m299/299\u001b[0m \u001b[32m━━━━━━━━━━━━━━━━━━━━\u001b[0m\u001b[37m\u001b[0m \u001b[1m0s\u001b[0m 1ms/step - loss: 14.7456 - mean_squared_error: 299.5554 - r2_score: -0.0325\n",
      "Epoch 4/100\n",
      "\u001b[1m299/299\u001b[0m \u001b[32m━━━━━━━━━━━━━━━━━━━━\u001b[0m\u001b[37m\u001b[0m \u001b[1m0s\u001b[0m 1ms/step - loss: 14.6111 - mean_squared_error: 291.6877 - r2_score: -0.0152\n",
      "Epoch 5/100\n",
      "\u001b[1m299/299\u001b[0m \u001b[32m━━━━━━━━━━━━━━━━━━━━\u001b[0m\u001b[37m\u001b[0m \u001b[1m0s\u001b[0m 1ms/step - loss: 14.8185 - mean_squared_error: 304.6643 - r2_score: -0.0468\n",
      "Epoch 6/100\n",
      "\u001b[1m299/299\u001b[0m \u001b[32m━━━━━━━━━━━━━━━━━━━━\u001b[0m\u001b[37m\u001b[0m \u001b[1m1s\u001b[0m 2ms/step - loss: 14.5796 - mean_squared_error: 292.5615 - r2_score: -0.0200\n",
      "Epoch 7/100\n",
      "\u001b[1m299/299\u001b[0m \u001b[32m━━━━━━━━━━━━━━━━━━━━\u001b[0m\u001b[37m\u001b[0m \u001b[1m0s\u001b[0m 1ms/step - loss: 14.8346 - mean_squared_error: 302.5140 - r2_score: -0.0316\n",
      "Epoch 8/100\n",
      "\u001b[1m299/299\u001b[0m \u001b[32m━━━━━━━━━━━━━━━━━━━━\u001b[0m\u001b[37m\u001b[0m \u001b[1m0s\u001b[0m 1ms/step - loss: 14.5775 - mean_squared_error: 292.7776 - r2_score: -0.0079\n",
      "Epoch 9/100\n",
      "\u001b[1m299/299\u001b[0m \u001b[32m━━━━━━━━━━━━━━━━━━━━\u001b[0m\u001b[37m\u001b[0m \u001b[1m0s\u001b[0m 1ms/step - loss: 14.5975 - mean_squared_error: 295.8022 - r2_score: -0.0061\n",
      "Epoch 10/100\n",
      "\u001b[1m299/299\u001b[0m \u001b[32m━━━━━━━━━━━━━━━━━━━━\u001b[0m\u001b[37m\u001b[0m \u001b[1m1s\u001b[0m 1ms/step - loss: 14.4610 - mean_squared_error: 291.4953 - r2_score: -0.0060\n",
      "Epoch 11/100\n",
      "\u001b[1m299/299\u001b[0m \u001b[32m━━━━━━━━━━━━━━━━━━━━\u001b[0m\u001b[37m\u001b[0m \u001b[1m0s\u001b[0m 1ms/step - loss: 14.5545 - mean_squared_error: 291.5262 - r2_score: 0.0033\n",
      "Epoch 12/100\n",
      "\u001b[1m299/299\u001b[0m \u001b[32m━━━━━━━━━━━━━━━━━━━━\u001b[0m\u001b[37m\u001b[0m \u001b[1m1s\u001b[0m 2ms/step - loss: 14.4873 - mean_squared_error: 291.6557 - r2_score: -0.0079\n",
      "Epoch 13/100\n",
      "\u001b[1m299/299\u001b[0m \u001b[32m━━━━━━━━━━━━━━━━━━━━\u001b[0m\u001b[37m\u001b[0m \u001b[1m0s\u001b[0m 1ms/step - loss: 14.4025 - mean_squared_error: 292.3631 - r2_score: -0.0084\n",
      "Epoch 14/100\n",
      "\u001b[1m299/299\u001b[0m \u001b[32m━━━━━━━━━━━━━━━━━━━━\u001b[0m\u001b[37m\u001b[0m \u001b[1m1s\u001b[0m 1ms/step - loss: 14.3135 - mean_squared_error: 284.4947 - r2_score: 0.0228\n",
      "Epoch 15/100\n",
      "\u001b[1m299/299\u001b[0m \u001b[32m━━━━━━━━━━━━━━━━━━━━\u001b[0m\u001b[37m\u001b[0m \u001b[1m0s\u001b[0m 1ms/step - loss: 14.1892 - mean_squared_error: 276.9911 - r2_score: 0.0289\n",
      "Epoch 16/100\n",
      "\u001b[1m299/299\u001b[0m \u001b[32m━━━━━━━━━━━━━━━━━━━━\u001b[0m\u001b[37m\u001b[0m \u001b[1m1s\u001b[0m 2ms/step - loss: 14.4764 - mean_squared_error: 290.0337 - r2_score: 0.0109\n",
      "Epoch 17/100\n",
      "\u001b[1m299/299\u001b[0m \u001b[32m━━━━━━━━━━━━━━━━━━━━\u001b[0m\u001b[37m\u001b[0m \u001b[1m0s\u001b[0m 2ms/step - loss: 14.3982 - mean_squared_error: 290.9107 - r2_score: 0.0120\n",
      "Epoch 18/100\n",
      "\u001b[1m299/299\u001b[0m \u001b[32m━━━━━━━━━━━━━━━━━━━━\u001b[0m\u001b[37m\u001b[0m \u001b[1m1s\u001b[0m 1ms/step - loss: 14.3264 - mean_squared_error: 281.2589 - r2_score: 0.0427\n",
      "Epoch 19/100\n",
      "\u001b[1m299/299\u001b[0m \u001b[32m━━━━━━━━━━━━━━━━━━━━\u001b[0m\u001b[37m\u001b[0m \u001b[1m1s\u001b[0m 1ms/step - loss: 14.0081 - mean_squared_error: 274.0689 - r2_score: 0.0478\n",
      "Epoch 20/100\n",
      "\u001b[1m299/299\u001b[0m \u001b[32m━━━━━━━━━━━━━━━━━━━━\u001b[0m\u001b[37m\u001b[0m \u001b[1m1s\u001b[0m 1ms/step - loss: 14.0958 - mean_squared_error: 279.7147 - r2_score: 0.0427\n",
      "Epoch 21/100\n",
      "\u001b[1m299/299\u001b[0m \u001b[32m━━━━━━━━━━━━━━━━━━━━\u001b[0m\u001b[37m\u001b[0m \u001b[1m0s\u001b[0m 1ms/step - loss: 13.8433 - mean_squared_error: 265.6431 - r2_score: 0.0592\n",
      "Epoch 22/100\n",
      "\u001b[1m299/299\u001b[0m \u001b[32m━━━━━━━━━━━━━━━━━━━━\u001b[0m\u001b[37m\u001b[0m \u001b[1m0s\u001b[0m 1ms/step - loss: 13.9784 - mean_squared_error: 272.1246 - r2_score: 0.0590\n",
      "Epoch 23/100\n",
      "\u001b[1m299/299\u001b[0m \u001b[32m━━━━━━━━━━━━━━━━━━━━\u001b[0m\u001b[37m\u001b[0m \u001b[1m1s\u001b[0m 2ms/step - loss: 13.9106 - mean_squared_error: 267.3493 - r2_score: 0.0774\n",
      "Epoch 24/100\n",
      "\u001b[1m299/299\u001b[0m \u001b[32m━━━━━━━━━━━━━━━━━━━━\u001b[0m\u001b[37m\u001b[0m \u001b[1m1s\u001b[0m 1ms/step - loss: 13.7239 - mean_squared_error: 262.0251 - r2_score: 0.0778\n",
      "Epoch 25/100\n",
      "\u001b[1m299/299\u001b[0m \u001b[32m━━━━━━━━━━━━━━━━━━━━\u001b[0m\u001b[37m\u001b[0m \u001b[1m1s\u001b[0m 1ms/step - loss: 13.9487 - mean_squared_error: 268.3926 - r2_score: 0.0850\n",
      "Epoch 26/100\n",
      "\u001b[1m299/299\u001b[0m \u001b[32m━━━━━━━━━━━━━━━━━━━━\u001b[0m\u001b[37m\u001b[0m \u001b[1m1s\u001b[0m 2ms/step - loss: 13.8544 - mean_squared_error: 264.3499 - r2_score: 0.0913\n",
      "Epoch 27/100\n",
      "\u001b[1m299/299\u001b[0m \u001b[32m━━━━━━━━━━━━━━━━━━━━\u001b[0m\u001b[37m\u001b[0m \u001b[1m0s\u001b[0m 1ms/step - loss: 13.6863 - mean_squared_error: 261.3012 - r2_score: 0.1011\n",
      "Epoch 28/100\n",
      "\u001b[1m299/299\u001b[0m \u001b[32m━━━━━━━━━━━━━━━━━━━━\u001b[0m\u001b[37m\u001b[0m \u001b[1m0s\u001b[0m 1ms/step - loss: 13.8245 - mean_squared_error: 260.9399 - r2_score: 0.1153\n",
      "Epoch 29/100\n",
      "\u001b[1m299/299\u001b[0m \u001b[32m━━━━━━━━━━━━━━━━━━━━\u001b[0m\u001b[37m\u001b[0m \u001b[1m0s\u001b[0m 1ms/step - loss: 13.6618 - mean_squared_error: 257.9990 - r2_score: 0.1157\n",
      "Epoch 30/100\n",
      "\u001b[1m299/299\u001b[0m \u001b[32m━━━━━━━━━━━━━━━━━━━━\u001b[0m\u001b[37m\u001b[0m \u001b[1m1s\u001b[0m 2ms/step - loss: 13.6060 - mean_squared_error: 255.4075 - r2_score: 0.1210\n",
      "Epoch 31/100\n",
      "\u001b[1m299/299\u001b[0m \u001b[32m━━━━━━━━━━━━━━━━━━━━\u001b[0m\u001b[37m\u001b[0m \u001b[1m0s\u001b[0m 1ms/step - loss: 13.4790 - mean_squared_error: 255.7895 - r2_score: 0.1154\n",
      "Epoch 32/100\n",
      "\u001b[1m299/299\u001b[0m \u001b[32m━━━━━━━━━━━━━━━━━━━━\u001b[0m\u001b[37m\u001b[0m \u001b[1m0s\u001b[0m 1ms/step - loss: 13.3616 - mean_squared_error: 250.9604 - r2_score: 0.1238\n",
      "Epoch 33/100\n",
      "\u001b[1m299/299\u001b[0m \u001b[32m━━━━━━━━━━━━━━━━━━━━\u001b[0m\u001b[37m\u001b[0m \u001b[1m1s\u001b[0m 2ms/step - loss: 13.5042 - mean_squared_error: 254.8589 - r2_score: 0.1273\n",
      "Epoch 34/100\n",
      "\u001b[1m299/299\u001b[0m \u001b[32m━━━━━━━━━━━━━━━━━━━━\u001b[0m\u001b[37m\u001b[0m \u001b[1m0s\u001b[0m 1ms/step - loss: 13.3108 - mean_squared_error: 249.3147 - r2_score: 0.1389\n",
      "Epoch 35/100\n",
      "\u001b[1m299/299\u001b[0m \u001b[32m━━━━━━━━━━━━━━━━━━━━\u001b[0m\u001b[37m\u001b[0m \u001b[1m1s\u001b[0m 2ms/step - loss: 13.2859 - mean_squared_error: 247.1794 - r2_score: 0.1494\n",
      "Epoch 36/100\n",
      "\u001b[1m299/299\u001b[0m \u001b[32m━━━━━━━━━━━━━━━━━━━━\u001b[0m\u001b[37m\u001b[0m \u001b[1m1s\u001b[0m 2ms/step - loss: 13.1953 - mean_squared_error: 244.8869 - r2_score: 0.1525\n",
      "Epoch 37/100\n",
      "\u001b[1m299/299\u001b[0m \u001b[32m━━━━━━━━━━━━━━━━━━━━\u001b[0m\u001b[37m\u001b[0m \u001b[1m1s\u001b[0m 2ms/step - loss: 13.1465 - mean_squared_error: 240.9155 - r2_score: 0.1630\n",
      "Epoch 38/100\n",
      "\u001b[1m299/299\u001b[0m \u001b[32m━━━━━━━━━━━━━━━━━━━━\u001b[0m\u001b[37m\u001b[0m \u001b[1m1s\u001b[0m 1ms/step - loss: 13.1556 - mean_squared_error: 245.4624 - r2_score: 0.1517\n",
      "Epoch 39/100\n",
      "\u001b[1m299/299\u001b[0m \u001b[32m━━━━━━━━━━━━━━━━━━━━\u001b[0m\u001b[37m\u001b[0m \u001b[1m1s\u001b[0m 2ms/step - loss: 13.2377 - mean_squared_error: 244.6900 - r2_score: 0.1761\n",
      "Epoch 40/100\n",
      "\u001b[1m299/299\u001b[0m \u001b[32m━━━━━━━━━━━━━━━━━━━━\u001b[0m\u001b[37m\u001b[0m \u001b[1m1s\u001b[0m 2ms/step - loss: 12.9587 - mean_squared_error: 237.0475 - r2_score: 0.1800\n",
      "Epoch 41/100\n",
      "\u001b[1m299/299\u001b[0m \u001b[32m━━━━━━━━━━━━━━━━━━━━\u001b[0m\u001b[37m\u001b[0m \u001b[1m0s\u001b[0m 2ms/step - loss: 12.9070 - mean_squared_error: 233.9991 - r2_score: 0.1819\n",
      "Epoch 42/100\n",
      "\u001b[1m299/299\u001b[0m \u001b[32m━━━━━━━━━━━━━━━━━━━━\u001b[0m\u001b[37m\u001b[0m \u001b[1m1s\u001b[0m 2ms/step - loss: 12.8003 - mean_squared_error: 226.1353 - r2_score: 0.2156\n",
      "Epoch 43/100\n",
      "\u001b[1m299/299\u001b[0m \u001b[32m━━━━━━━━━━━━━━━━━━━━\u001b[0m\u001b[37m\u001b[0m \u001b[1m1s\u001b[0m 2ms/step - loss: 12.9155 - mean_squared_error: 232.6622 - r2_score: 0.2064\n",
      "Epoch 44/100\n",
      "\u001b[1m299/299\u001b[0m \u001b[32m━━━━━━━━━━━━━━━━━━━━\u001b[0m\u001b[37m\u001b[0m \u001b[1m1s\u001b[0m 2ms/step - loss: 12.6838 - mean_squared_error: 227.1201 - r2_score: 0.2112\n",
      "Epoch 45/100\n",
      "\u001b[1m299/299\u001b[0m \u001b[32m━━━━━━━━━━━━━━━━━━━━\u001b[0m\u001b[37m\u001b[0m \u001b[1m1s\u001b[0m 1ms/step - loss: 12.7453 - mean_squared_error: 224.8212 - r2_score: 0.2283\n",
      "Epoch 46/100\n",
      "\u001b[1m299/299\u001b[0m \u001b[32m━━━━━━━━━━━━━━━━━━━━\u001b[0m\u001b[37m\u001b[0m \u001b[1m0s\u001b[0m 1ms/step - loss: 12.5139 - mean_squared_error: 216.7099 - r2_score: 0.2455\n",
      "Epoch 47/100\n",
      "\u001b[1m299/299\u001b[0m \u001b[32m━━━━━━━━━━━━━━━━━━━━\u001b[0m\u001b[37m\u001b[0m \u001b[1m0s\u001b[0m 1ms/step - loss: 12.5459 - mean_squared_error: 218.4642 - r2_score: 0.2485\n",
      "Epoch 48/100\n",
      "\u001b[1m299/299\u001b[0m \u001b[32m━━━━━━━━━━━━━━━━━━━━\u001b[0m\u001b[37m\u001b[0m \u001b[1m0s\u001b[0m 1ms/step - loss: 12.5642 - mean_squared_error: 221.9890 - r2_score: 0.2486\n",
      "Epoch 49/100\n",
      "\u001b[1m299/299\u001b[0m \u001b[32m━━━━━━━━━━━━━━━━━━━━\u001b[0m\u001b[37m\u001b[0m \u001b[1m0s\u001b[0m 1ms/step - loss: 12.4684 - mean_squared_error: 217.7856 - r2_score: 0.2557\n",
      "Epoch 50/100\n",
      "\u001b[1m299/299\u001b[0m \u001b[32m━━━━━━━━━━━━━━━━━━━━\u001b[0m\u001b[37m\u001b[0m \u001b[1m0s\u001b[0m 1ms/step - loss: 12.3312 - mean_squared_error: 214.5965 - r2_score: 0.2704\n",
      "Epoch 51/100\n",
      "\u001b[1m299/299\u001b[0m \u001b[32m━━━━━━━━━━━━━━━━━━━━\u001b[0m\u001b[37m\u001b[0m \u001b[1m0s\u001b[0m 1ms/step - loss: 12.0679 - mean_squared_error: 206.6283 - r2_score: 0.2818\n",
      "Epoch 52/100\n",
      "\u001b[1m299/299\u001b[0m \u001b[32m━━━━━━━━━━━━━━━━━━━━\u001b[0m\u001b[37m\u001b[0m \u001b[1m0s\u001b[0m 1ms/step - loss: 12.0703 - mean_squared_error: 202.9361 - r2_score: 0.2932\n",
      "Epoch 53/100\n",
      "\u001b[1m299/299\u001b[0m \u001b[32m━━━━━━━━━━━━━━━━━━━━\u001b[0m\u001b[37m\u001b[0m \u001b[1m0s\u001b[0m 1ms/step - loss: 12.1784 - mean_squared_error: 207.3888 - r2_score: 0.2863\n",
      "Epoch 54/100\n",
      "\u001b[1m299/299\u001b[0m \u001b[32m━━━━━━━━━━━━━━━━━━━━\u001b[0m\u001b[37m\u001b[0m \u001b[1m0s\u001b[0m 1ms/step - loss: 11.9626 - mean_squared_error: 201.3098 - r2_score: 0.3036\n",
      "Epoch 55/100\n",
      "\u001b[1m299/299\u001b[0m \u001b[32m━━━━━━━━━━━━━━━━━━━━\u001b[0m\u001b[37m\u001b[0m \u001b[1m0s\u001b[0m 2ms/step - loss: 11.7497 - mean_squared_error: 194.6983 - r2_score: 0.3172\n",
      "Epoch 56/100\n",
      "\u001b[1m299/299\u001b[0m \u001b[32m━━━━━━━━━━━━━━━━━━━━\u001b[0m\u001b[37m\u001b[0m \u001b[1m0s\u001b[0m 1ms/step - loss: 11.7532 - mean_squared_error: 193.8175 - r2_score: 0.3318\n",
      "Epoch 57/100\n",
      "\u001b[1m299/299\u001b[0m \u001b[32m━━━━━━━━━━━━━━━━━━━━\u001b[0m\u001b[37m\u001b[0m \u001b[1m0s\u001b[0m 1ms/step - loss: 11.5839 - mean_squared_error: 190.6431 - r2_score: 0.3426\n",
      "Epoch 58/100\n",
      "\u001b[1m299/299\u001b[0m \u001b[32m━━━━━━━━━━━━━━━━━━━━\u001b[0m\u001b[37m\u001b[0m \u001b[1m0s\u001b[0m 1ms/step - loss: 11.5413 - mean_squared_error: 185.6291 - r2_score: 0.3625\n",
      "Epoch 59/100\n",
      "\u001b[1m299/299\u001b[0m \u001b[32m━━━━━━━━━━━━━━━━━━━━\u001b[0m\u001b[37m\u001b[0m \u001b[1m0s\u001b[0m 1ms/step - loss: 11.3380 - mean_squared_error: 180.5296 - r2_score: 0.3701\n",
      "Epoch 60/100\n",
      "\u001b[1m299/299\u001b[0m \u001b[32m━━━━━━━━━━━━━━━━━━━━\u001b[0m\u001b[37m\u001b[0m \u001b[1m0s\u001b[0m 1ms/step - loss: 11.2690 - mean_squared_error: 178.8360 - r2_score: 0.3844\n",
      "Epoch 61/100\n",
      "\u001b[1m299/299\u001b[0m \u001b[32m━━━━━━━━━━━━━━━━━━━━\u001b[0m\u001b[37m\u001b[0m \u001b[1m0s\u001b[0m 2ms/step - loss: 11.3430 - mean_squared_error: 182.6524 - r2_score: 0.3795\n",
      "Epoch 62/100\n",
      "\u001b[1m299/299\u001b[0m \u001b[32m━━━━━━━━━━━━━━━━━━━━\u001b[0m\u001b[37m\u001b[0m \u001b[1m0s\u001b[0m 1ms/step - loss: 11.1221 - mean_squared_error: 174.8463 - r2_score: 0.4018\n",
      "Epoch 63/100\n",
      "\u001b[1m299/299\u001b[0m \u001b[32m━━━━━━━━━━━━━━━━━━━━\u001b[0m\u001b[37m\u001b[0m \u001b[1m0s\u001b[0m 1ms/step - loss: 10.9830 - mean_squared_error: 169.5809 - r2_score: 0.4274\n",
      "Epoch 64/100\n",
      "\u001b[1m299/299\u001b[0m \u001b[32m━━━━━━━━━━━━━━━━━━━━\u001b[0m\u001b[37m\u001b[0m \u001b[1m0s\u001b[0m 1ms/step - loss: 10.7847 - mean_squared_error: 167.0338 - r2_score: 0.4311\n",
      "Epoch 65/100\n",
      "\u001b[1m299/299\u001b[0m \u001b[32m━━━━━━━━━━━━━━━━━━━━\u001b[0m\u001b[37m\u001b[0m \u001b[1m0s\u001b[0m 1ms/step - loss: 10.7034 - mean_squared_error: 162.2801 - r2_score: 0.4476\n",
      "Epoch 66/100\n",
      "\u001b[1m299/299\u001b[0m \u001b[32m━━━━━━━━━━━━━━━━━━━━\u001b[0m\u001b[37m\u001b[0m \u001b[1m0s\u001b[0m 1ms/step - loss: 10.4282 - mean_squared_error: 155.5515 - r2_score: 0.4607\n",
      "Epoch 67/100\n",
      "\u001b[1m299/299\u001b[0m \u001b[32m━━━━━━━━━━━━━━━━━━━━\u001b[0m\u001b[37m\u001b[0m \u001b[1m0s\u001b[0m 1ms/step - loss: 10.2738 - mean_squared_error: 148.4969 - r2_score: 0.4887\n",
      "Epoch 68/100\n",
      "\u001b[1m299/299\u001b[0m \u001b[32m━━━━━━━━━━━━━━━━━━━━\u001b[0m\u001b[37m\u001b[0m \u001b[1m0s\u001b[0m 1ms/step - loss: 10.0522 - mean_squared_error: 144.8357 - r2_score: 0.4952\n",
      "Epoch 69/100\n",
      "\u001b[1m299/299\u001b[0m \u001b[32m━━━━━━━━━━━━━━━━━━━━\u001b[0m\u001b[37m\u001b[0m \u001b[1m0s\u001b[0m 1ms/step - loss: 10.0009 - mean_squared_error: 141.1670 - r2_score: 0.5183\n",
      "Epoch 70/100\n",
      "\u001b[1m299/299\u001b[0m \u001b[32m━━━━━━━━━━━━━━━━━━━━\u001b[0m\u001b[37m\u001b[0m \u001b[1m0s\u001b[0m 1ms/step - loss: 9.7605 - mean_squared_error: 134.4935 - r2_score: 0.5365\n",
      "Epoch 71/100\n",
      "\u001b[1m299/299\u001b[0m \u001b[32m━━━━━━━━━━━━━━━━━━━━\u001b[0m\u001b[37m\u001b[0m \u001b[1m0s\u001b[0m 1ms/step - loss: 9.6607 - mean_squared_error: 132.8550 - r2_score: 0.5521\n",
      "Epoch 72/100\n",
      "\u001b[1m299/299\u001b[0m \u001b[32m━━━━━━━━━━━━━━━━━━━━\u001b[0m\u001b[37m\u001b[0m \u001b[1m1s\u001b[0m 2ms/step - loss: 9.3116 - mean_squared_error: 124.9876 - r2_score: 0.5718\n",
      "Epoch 73/100\n",
      "\u001b[1m299/299\u001b[0m \u001b[32m━━━━━━━━━━━━━━━━━━━━\u001b[0m\u001b[37m\u001b[0m \u001b[1m1s\u001b[0m 2ms/step - loss: 9.0163 - mean_squared_error: 117.1277 - r2_score: 0.5930\n",
      "Epoch 74/100\n",
      "\u001b[1m299/299\u001b[0m \u001b[32m━━━━━━━━━━━━━━━━━━━━\u001b[0m\u001b[37m\u001b[0m \u001b[1m0s\u001b[0m 1ms/step - loss: 8.7804 - mean_squared_error: 110.4660 - r2_score: 0.6158\n",
      "Epoch 75/100\n",
      "\u001b[1m299/299\u001b[0m \u001b[32m━━━━━━━━━━━━━━━━━━━━\u001b[0m\u001b[37m\u001b[0m \u001b[1m0s\u001b[0m 1ms/step - loss: 8.5006 - mean_squared_error: 104.7477 - r2_score: 0.6374\n",
      "Epoch 76/100\n",
      "\u001b[1m299/299\u001b[0m \u001b[32m━━━━━━━━━━━━━━━━━━━━\u001b[0m\u001b[37m\u001b[0m \u001b[1m0s\u001b[0m 2ms/step - loss: 8.2834 - mean_squared_error: 100.8896 - r2_score: 0.6506\n",
      "Epoch 77/100\n",
      "\u001b[1m299/299\u001b[0m \u001b[32m━━━━━━━━━━━━━━━━━━━━\u001b[0m\u001b[37m\u001b[0m \u001b[1m0s\u001b[0m 1ms/step - loss: 8.1321 - mean_squared_error: 95.6156 - r2_score: 0.6738\n",
      "Epoch 78/100\n",
      "\u001b[1m299/299\u001b[0m \u001b[32m━━━━━━━━━━━━━━━━━━━━\u001b[0m\u001b[37m\u001b[0m \u001b[1m0s\u001b[0m 1ms/step - loss: 7.7033 - mean_squared_error: 86.4214 - r2_score: 0.7021\n",
      "Epoch 79/100\n",
      "\u001b[1m299/299\u001b[0m \u001b[32m━━━━━━━━━━━━━━━━━━━━\u001b[0m\u001b[37m\u001b[0m \u001b[1m0s\u001b[0m 1ms/step - loss: 7.5148 - mean_squared_error: 82.2826 - r2_score: 0.7161\n",
      "Epoch 80/100\n",
      "\u001b[1m299/299\u001b[0m \u001b[32m━━━━━━━━━━━━━━━━━━━━\u001b[0m\u001b[37m\u001b[0m \u001b[1m0s\u001b[0m 2ms/step - loss: 7.1611 - mean_squared_error: 75.2182 - r2_score: 0.7428\n",
      "Epoch 81/100\n",
      "\u001b[1m299/299\u001b[0m \u001b[32m━━━━━━━━━━━━━━━━━━━━\u001b[0m\u001b[37m\u001b[0m \u001b[1m0s\u001b[0m 2ms/step - loss: 6.9746 - mean_squared_error: 71.8505 - r2_score: 0.7580\n",
      "Epoch 82/100\n",
      "\u001b[1m299/299\u001b[0m \u001b[32m━━━━━━━━━━━━━━━━━━━━\u001b[0m\u001b[37m\u001b[0m \u001b[1m0s\u001b[0m 1ms/step - loss: 6.6397 - mean_squared_error: 66.0308 - r2_score: 0.7722\n",
      "Epoch 83/100\n",
      "\u001b[1m299/299\u001b[0m \u001b[32m━━━━━━━━━━━━━━━━━━━━\u001b[0m\u001b[37m\u001b[0m \u001b[1m0s\u001b[0m 1ms/step - loss: 6.3728 - mean_squared_error: 60.6418 - r2_score: 0.7934\n",
      "Epoch 84/100\n",
      "\u001b[1m299/299\u001b[0m \u001b[32m━━━━━━━━━━━━━━━━━━━━\u001b[0m\u001b[37m\u001b[0m \u001b[1m1s\u001b[0m 2ms/step - loss: 6.0254 - mean_squared_error: 54.9107 - r2_score: 0.8145\n",
      "Epoch 85/100\n",
      "\u001b[1m299/299\u001b[0m \u001b[32m━━━━━━━━━━━━━━━━━━━━\u001b[0m\u001b[37m\u001b[0m \u001b[1m1s\u001b[0m 2ms/step - loss: 5.8426 - mean_squared_error: 51.8459 - r2_score: 0.8203\n",
      "Epoch 86/100\n",
      "\u001b[1m299/299\u001b[0m \u001b[32m━━━━━━━━━━━━━━━━━━━━\u001b[0m\u001b[37m\u001b[0m \u001b[1m0s\u001b[0m 1ms/step - loss: 5.4701 - mean_squared_error: 45.2738 - r2_score: 0.8430\n",
      "Epoch 87/100\n",
      "\u001b[1m299/299\u001b[0m \u001b[32m━━━━━━━━━━━━━━━━━━━━\u001b[0m\u001b[37m\u001b[0m \u001b[1m0s\u001b[0m 2ms/step - loss: 5.2961 - mean_squared_error: 42.6960 - r2_score: 0.8523\n",
      "Epoch 88/100\n",
      "\u001b[1m299/299\u001b[0m \u001b[32m━━━━━━━━━━━━━━━━━━━━\u001b[0m\u001b[37m\u001b[0m \u001b[1m0s\u001b[0m 1ms/step - loss: 5.0698 - mean_squared_error: 38.9946 - r2_score: 0.8666\n",
      "Epoch 89/100\n",
      "\u001b[1m299/299\u001b[0m \u001b[32m━━━━━━━━━━━━━━━━━━━━\u001b[0m\u001b[37m\u001b[0m \u001b[1m0s\u001b[0m 1ms/step - loss: 5.0313 - mean_squared_error: 39.1124 - r2_score: 0.8645\n",
      "Epoch 90/100\n",
      "\u001b[1m299/299\u001b[0m \u001b[32m━━━━━━━━━━━━━━━━━━━━\u001b[0m\u001b[37m\u001b[0m \u001b[1m0s\u001b[0m 1ms/step - loss: 4.8670 - mean_squared_error: 36.2488 - r2_score: 0.8770\n",
      "Epoch 91/100\n",
      "\u001b[1m299/299\u001b[0m \u001b[32m━━━━━━━━━━━━━━━━━━━━\u001b[0m\u001b[37m\u001b[0m \u001b[1m0s\u001b[0m 1ms/step - loss: 4.6655 - mean_squared_error: 33.3431 - r2_score: 0.8879\n",
      "Epoch 92/100\n",
      "\u001b[1m299/299\u001b[0m \u001b[32m━━━━━━━━━━━━━━━━━━━━\u001b[0m\u001b[37m\u001b[0m \u001b[1m0s\u001b[0m 1ms/step - loss: 4.5487 - mean_squared_error: 32.0660 - r2_score: 0.8892\n",
      "Epoch 93/100\n",
      "\u001b[1m299/299\u001b[0m \u001b[32m━━━━━━━━━━━━━━━━━━━━\u001b[0m\u001b[37m\u001b[0m \u001b[1m0s\u001b[0m 1ms/step - loss: 4.4664 - mean_squared_error: 31.1948 - r2_score: 0.8925\n",
      "Epoch 94/100\n",
      "\u001b[1m299/299\u001b[0m \u001b[32m━━━━━━━━━━━━━━━━━━━━\u001b[0m\u001b[37m\u001b[0m \u001b[1m0s\u001b[0m 1ms/step - loss: 4.6294 - mean_squared_error: 34.1084 - r2_score: 0.8832\n",
      "Epoch 95/100\n",
      "\u001b[1m299/299\u001b[0m \u001b[32m━━━━━━━━━━━━━━━━━━━━\u001b[0m\u001b[37m\u001b[0m \u001b[1m0s\u001b[0m 1ms/step - loss: 4.3560 - mean_squared_error: 29.9029 - r2_score: 0.8981\n",
      "Epoch 96/100\n",
      "\u001b[1m299/299\u001b[0m \u001b[32m━━━━━━━━━━━━━━━━━━━━\u001b[0m\u001b[37m\u001b[0m \u001b[1m0s\u001b[0m 1ms/step - loss: 4.3744 - mean_squared_error: 30.2646 - r2_score: 0.8957\n",
      "Epoch 97/100\n",
      "\u001b[1m299/299\u001b[0m \u001b[32m━━━━━━━━━━━━━━━━━━━━\u001b[0m\u001b[37m\u001b[0m \u001b[1m0s\u001b[0m 1ms/step - loss: 4.3054 - mean_squared_error: 29.7078 - r2_score: 0.8981\n",
      "Epoch 98/100\n",
      "\u001b[1m299/299\u001b[0m \u001b[32m━━━━━━━━━━━━━━━━━━━━\u001b[0m\u001b[37m\u001b[0m \u001b[1m0s\u001b[0m 1ms/step - loss: 4.3548 - mean_squared_error: 30.1912 - r2_score: 0.8965\n",
      "Epoch 99/100\n",
      "\u001b[1m299/299\u001b[0m \u001b[32m━━━━━━━━━━━━━━━━━━━━\u001b[0m\u001b[37m\u001b[0m \u001b[1m0s\u001b[0m 1ms/step - loss: 4.2694 - mean_squared_error: 28.6034 - r2_score: 0.9022\n",
      "Epoch 100/100\n",
      "\u001b[1m299/299\u001b[0m \u001b[32m━━━━━━━━━━━━━━━━━━━━\u001b[0m\u001b[37m\u001b[0m \u001b[1m0s\u001b[0m 1ms/step - loss: 4.2460 - mean_squared_error: 29.0301 - r2_score: 0.8992\n"
     ]
    },
    {
     "data": {
      "text/plain": [
       "<keras.src.callbacks.history.History at 0x1b5bfc13bb0>"
      ]
     },
     "execution_count": 4,
     "metadata": {},
     "output_type": "execute_result"
    }
   ],
   "source": [
    "### Build Model\n",
    "from keras import Sequential\n",
    "from keras.layers import InputLayer, Dense\n",
    "from keras.losses import MeanAbsoluteError\n",
    "from keras.metrics import MeanSquaredError, R2Score\n",
    "from keras.optimizers import Adam\n",
    "\n",
    "ANN = Sequential()\n",
    "ANN.add( InputLayer( shape = (4,) ) )\n",
    "ANN.add( normalizer )\n",
    "ANN.add( Dense( units = 20, activation = \"relu\" ) )\n",
    "ANN.add( Dense( units = 20, activation = \"relu\" ) )\n",
    "ANN.add( Dense( units = 1 ) )\n",
    "ANN.compile( optimizer = Adam(), loss = MeanAbsoluteError(), metrics = [MeanSquaredError(), R2Score()])\n",
    "\n",
    "### Train\n",
    "ANN.fit( features, label, epochs = 100)"
   ]
  },
  {
   "cell_type": "code",
   "execution_count": 5,
   "metadata": {},
   "outputs": [
    {
     "name": "stdout",
     "output_type": "stream",
     "text": [
      "\u001b[1m299/299\u001b[0m \u001b[32m━━━━━━━━━━━━━━━━━━━━\u001b[0m\u001b[37m\u001b[0m \u001b[1m0s\u001b[0m 954us/step - loss: 4.1910 - mean_squared_error: 27.8098 - r2_score: 0.9036\n"
     ]
    },
    {
     "data": {
      "text/plain": [
       "[4.185334205627441, 27.888322830200195, 0.9042288064956665]"
      ]
     },
     "execution_count": 5,
     "metadata": {},
     "output_type": "execute_result"
    }
   ],
   "source": [
    "### Evaluate\n",
    "ANN.evaluate(features, label)"
   ]
  }
 ],
 "metadata": {
  "kernelspec": {
   "display_name": "Python 3",
   "language": "python",
   "name": "python3"
  },
  "language_info": {
   "codemirror_mode": {
    "name": "ipython",
    "version": 3
   },
   "file_extension": ".py",
   "mimetype": "text/x-python",
   "name": "python",
   "nbconvert_exporter": "python",
   "pygments_lexer": "ipython3",
   "version": "3.10.7"
  }
 },
 "nbformat": 4,
 "nbformat_minor": 2
}
