{
 "cells": [
  {
   "cell_type": "code",
   "execution_count": 1,
   "metadata": {},
   "outputs": [],
   "source": [
    "# Prepare dataset\n",
    "import pandas as pd\n",
    "\n",
    "csv1 = pd.read_csv(\"emotion-labels-test.csv\")\n",
    "csv2 = pd.read_csv(\"emotion-labels-train.csv\")\n",
    "csv3 = pd.read_csv(\"emotion-labels-val.csv\")\n",
    "\n",
    "dataframe = pd.concat( [csv1, csv2, csv3], ignore_index = True)"
   ]
  },
  {
   "cell_type": "code",
   "execution_count": 2,
   "metadata": {},
   "outputs": [],
   "source": [
    "### Text Preprocessing\n",
    "import re\n",
    "from nltk.corpus import stopwords\n",
    "from nltk.stem.porter import PorterStemmer\n",
    "\n",
    "corpus = []\n",
    "stopwords = stopwords.words(\"english\")\n",
    "\n",
    "for i in range(len(dataframe)):\n",
    "  # Remove non-letters\n",
    "  phrase = re.sub( \"[^a-zA-Z]\", \" \", dataframe.loc[i, 'text']).lower().split()\n",
    "\n",
    "  # Remove suffixes and Remove stop words that are not helpful\n",
    "  stemmer = PorterStemmer()\n",
    "  phrase = [ stemmer.stem(word) for word in phrase if word not in stopwords]\n",
    "  phrase = \" \".join(phrase)\n",
    "\n",
    "  corpus.append( phrase )"
   ]
  },
  {
   "cell_type": "code",
   "execution_count": 3,
   "metadata": {},
   "outputs": [],
   "source": [
    "### Create Bag of Words [Matrix of numbers which represnt the count of existing words in each phrase]\n",
    "from sklearn.feature_extraction.text import CountVectorizer\n",
    "\n",
    "vectorizer = CountVectorizer( )\n",
    "features = vectorizer.fit_transform( corpus ).toarray()\n",
    "label = dataframe[\"label\"]\n",
    "\n",
    "from sklearn.model_selection import train_test_split\n",
    "X_train, X_test, y_train, y_test = train_test_split(features, label, test_size = 0.2)"
   ]
  },
  {
   "cell_type": "code",
   "execution_count": 4,
   "metadata": {},
   "outputs": [],
   "source": [
    "### Import evaluaters\n",
    "from sklearn.metrics import accuracy_score, confusion_matrix\n",
    "from sklearn.model_selection import cross_val_score"
   ]
  },
  {
   "cell_type": "code",
   "execution_count": 10,
   "metadata": {},
   "outputs": [
    {
     "name": "stdout",
     "output_type": "stream",
     "text": [
      "Logistic Regression\n",
      "[[292  21   3  21]\n",
      " [ 11 406   5  22]\n",
      " [  9  19 294   8]\n",
      " [ 17  40  14 239]]\n",
      "Accuracy: 0.8662913441238564\n",
      "Score: [0.82952548 0.82570423 0.85739437 0.85211268 0.83802817 0.86267606\n",
      " 0.87147887 0.875      0.87852113 0.85915493]\n",
      "Mean Score: 0.8549595905839252\n"
     ]
    }
   ],
   "source": [
    "### Build Logistic Regression\n",
    "from sklearn.linear_model import LogisticRegression\n",
    "logistic_reg = LogisticRegression()\n",
    "logistic_reg.fit( X_train, y_train )\n",
    "prediction = logistic_reg.predict( X_test )\n",
    "LR_matrix = confusion_matrix( y_test, prediction )\n",
    "LR_accuracy = accuracy_score( y_test, prediction )\n",
    "LR_score = cross_val_score( estimator = logistic_reg, X = X_train, y = y_train, cv = 10)\n",
    "\n",
    "print(f\"Logistic Regression\\n{LR_matrix}\\nAccuracy: {LR_accuracy}\\nScore: {LR_score}\\nMean Score: {LR_score.mean()}\")"
   ]
  },
  {
   "cell_type": "code",
   "execution_count": 5,
   "metadata": {},
   "outputs": [
    {
     "name": "stdout",
     "output_type": "stream",
     "text": [
      "K-Nearest Neighbors \n",
      "[[226  80  14  17]\n",
      " [ 67 350   9  18]\n",
      " [ 47 100 169  14]\n",
      " [ 59 124  30  97]]\n",
      "Accuracy: 0.5925404644616468\n",
      "Score: [0.56766257 0.54753521 0.55633803 0.58274648 0.56514085 0.57570423\n",
      " 0.55985915 0.5334507  0.60915493 0.58802817]\n",
      "Mean Score: 0.568562031238397\n"
     ]
    }
   ],
   "source": [
    "### K-Nearest Neighbors \n",
    "from sklearn.neighbors import KNeighborsClassifier\n",
    "KNN = KNeighborsClassifier( n_neighbors = 5)\n",
    "KNN.fit( X_train, y_train )\n",
    "\n",
    "KNN_prediction = KNN.predict( X_test )\n",
    "KNN_matrix = confusion_matrix( y_test, KNN_prediction )\n",
    "KNN_accuracy = accuracy_score( y_test, KNN_prediction )\n",
    "KNN_score = cross_val_score( estimator = KNN, X = X_train, y = y_train, cv = 10)\n",
    "\n",
    "print(f\"K-Nearest Neighbors \\n{KNN_matrix}\\nAccuracy: {KNN_accuracy}\\nScore: {KNN_score}\\nMean Score: {KNN_score.mean()}\")"
   ]
  },
  {
   "cell_type": "code",
   "execution_count": 8,
   "metadata": {},
   "outputs": [
    {
     "name": "stdout",
     "output_type": "stream",
     "text": [
      "K-Nearest Neighbors \n",
      "[[279  33   3  22]\n",
      " [  4 415   2  23]\n",
      " [  5  39 278   8]\n",
      " [ 16  49   8 237]]\n",
      "Accuracy: 0.8508092892329345\n"
     ]
    }
   ],
   "source": [
    "### Support Vector\n",
    "from sklearn.svm import SVC\n",
    "SVC = SVC( kernel = 'rbf')\n",
    "SVC.fit( X_train, y_train )\n",
    "SVC_prediction = SVC.predict( X_test )\n",
    "\n",
    "SVC_matrix = confusion_matrix( y_test, SVC_prediction )\n",
    "SVC_accuracy = accuracy_score( y_test, SVC_prediction )\n",
    "# SVC_score = cross_val_score( estimator = SVC, X = X_train, y = y_train, cv = 3)\n",
    "\n",
    "print(f\"SVM \\n{SVC_matrix}\\nAccuracy: {SVC_accuracy}\")"
   ]
  },
  {
   "cell_type": "code",
   "execution_count": 6,
   "metadata": {},
   "outputs": [
    {
     "name": "stdout",
     "output_type": "stream",
     "text": [
      "K-Nearest Neighbors \n",
      "[[275  42   3  17]\n",
      " [  6 411   3  24]\n",
      " [  1  33 290   6]\n",
      " [ 20  49  14 227]]\n",
      "Accuracy: 0.8465869106263195\n",
      "Score: [0.84358524 0.82570423 0.86267606 0.85915493 0.85387324 0.83450704\n",
      " 0.85739437 0.86091549 0.87323944 0.8415493 ]\n",
      "Mean Score: 0.851259932176539\n"
     ]
    }
   ],
   "source": [
    "### Random Forest \n",
    "from sklearn.ensemble import RandomForestClassifier\n",
    "FOREST = RandomForestClassifier( n_estimators = 100 )\n",
    "FOREST.fit( X_train, y_train )\n",
    "FOREST_prediction = FOREST.predict( X_test )\n",
    "\n",
    "FOREST_matrix = confusion_matrix( y_test, FOREST_prediction )\n",
    "FOREST_accuracy = accuracy_score( y_test, FOREST_prediction )\n",
    "FOREST_score = cross_val_score( estimator = FOREST, X = X_train, y = y_train, cv = 10)\n",
    "\n",
    "print(f\"Random Forest \\n{FOREST_matrix}\\nAccuracy: {FOREST_accuracy}\\nScore: {FOREST_score}\\nMean Score: {FOREST_score.mean()}\")"
   ]
  },
  {
   "cell_type": "code",
   "execution_count": 7,
   "metadata": {},
   "outputs": [
    {
     "name": "stdout",
     "output_type": "stream",
     "text": [
      "K-Nearest Neighbors \n",
      "[[195  24  57  61]\n",
      " [ 33 240  70 101]\n",
      " [ 26  18 244  42]\n",
      " [ 44  40  66 160]]\n",
      "Accuracy: 0.5904292751583392\n",
      "Score: [0.56414763 0.6056338  0.59683099 0.60387324 0.56866197 0.58274648\n",
      " 0.61267606 0.58978873 0.56690141 0.63028169]\n",
      "Mean Score: 0.5921541993613704\n"
     ]
    }
   ],
   "source": [
    "### Naive Bayes\n",
    "from sklearn.naive_bayes import GaussianNB\n",
    "NAIVE_bayes = GaussianNB()\n",
    "NAIVE_bayes.fit( X_train, y_train )\n",
    "NB_prediction = NAIVE_bayes.predict( X_test )\n",
    "\n",
    "NB_matrix = confusion_matrix( y_test, NB_prediction )\n",
    "NB_accuracy = accuracy_score( y_test, NB_prediction )\n",
    "NB_score = cross_val_score( estimator = NAIVE_bayes, X = X_train, y = y_train, cv = 10)\n",
    "\n",
    "print(f\"Naive Bayes \\n{NB_matrix}\\nAccuracy: {NB_accuracy}\\nScore: {NB_score}\\nMean Score: {NB_score.mean()}\")"
   ]
  },
  {
   "cell_type": "code",
   "execution_count": 37,
   "metadata": {},
   "outputs": [
    {
     "name": "stdout",
     "output_type": "stream",
     "text": [
      "[[0 0 0 ... 0 0 0]]\n",
      "Logistic Regression: ['fear']\n",
      "Support Vector: ['fear']\n",
      "Random Forest: ['fear']\n",
      "K-Nearest Neighbor: ['anger']\n",
      "Naive Bayes: ['joy']\n"
     ]
    }
   ],
   "source": [
    "# Maybe vectorized phrase is wrong ...\n",
    "\n",
    "test_phrase = \"Happy\"\n",
    "vectorized_phrase = vectorizer.transform( [test_phrase] ).toarray()\n",
    "print(vectorized_phrase)\n",
    "print(f\"Logistic Regression: {logistic_reg.predict( vectorized_phrase )}\")\n",
    "print(f\"Support Vector: {SVC.predict( vectorized_phrase )}\")\n",
    "print(f\"Random Forest: {FOREST.predict( vectorized_phrase )}\")\n",
    "print(f\"K-Nearest Neighbor: {KNN.predict( vectorized_phrase )}\")\n",
    "print(f\"Naive Bayes: {NAIVE_bayes.predict( vectorized_phrase )}\")"
   ]
  }
 ],
 "metadata": {
  "kernelspec": {
   "display_name": "Python 3",
   "language": "python",
   "name": "python3"
  },
  "language_info": {
   "codemirror_mode": {
    "name": "ipython",
    "version": 3
   },
   "file_extension": ".py",
   "mimetype": "text/x-python",
   "name": "python",
   "nbconvert_exporter": "python",
   "pygments_lexer": "ipython3",
   "version": "3.10.7"
  }
 },
 "nbformat": 4,
 "nbformat_minor": 2
}
