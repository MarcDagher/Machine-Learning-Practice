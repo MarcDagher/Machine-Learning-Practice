{
 "cells": [
  {
   "cell_type": "markdown",
   "metadata": {},
   "source": [
    "<strong>NOTE:</strong> When the normalizer is adapted on X_train, the loss function decreases much faster than when the normalizer is adapted on all the features."
   ]
  },
  {
   "cell_type": "code",
   "execution_count": 1,
   "metadata": {},
   "outputs": [],
   "source": [
    "import pandas as pd\n",
    "import tensorflow as tf\n",
    "\n",
    "dataframe = pd.read_csv(\"Energy.csv\")"
   ]
  },
  {
   "cell_type": "code",
   "execution_count": 2,
   "metadata": {},
   "outputs": [],
   "source": [
    "### Seperate Data\n",
    "features = dataframe.iloc[:, :-1]\n",
    "label = dataframe.iloc[:, -1]"
   ]
  },
  {
   "cell_type": "code",
   "execution_count": 3,
   "metadata": {},
   "outputs": [],
   "source": [
    "### Split Data\n",
    "from sklearn.model_selection import train_test_split\n",
    "X_train, X_test, y_train, y_test = train_test_split(features.values, label.values, test_size = 0.2)"
   ]
  },
  {
   "cell_type": "code",
   "execution_count": 4,
   "metadata": {},
   "outputs": [
    {
     "data": {
      "text/plain": [
       "((7654, 4), (1914, 4), (7654,), (1914,))"
      ]
     },
     "execution_count": 4,
     "metadata": {},
     "output_type": "execute_result"
    }
   ],
   "source": [
    "### Normalize Data\n",
    "from sklearn.preprocessing import StandardScaler\n",
    "training_scaler = StandardScaler()\n",
    "testing_scaler = StandardScaler()\n",
    "\n",
    "X_train = training_scaler.fit_transform(X_train)\n",
    "X_test = testing_scaler.fit_transform(X_test)\n",
    "\n",
    "X_train.shape, X_test.shape, y_train.shape, y_test.shape"
   ]
  },
  {
   "cell_type": "code",
   "execution_count": 5,
   "metadata": {},
   "outputs": [],
   "source": [
    "### Adjust the shape of y to make it compatible with the shape of X\n",
    "y_train = y_train.reshape(len(y_train), 1)\n",
    "y_test = y_test.reshape(len(y_test), 1)"
   ]
  },
  {
   "cell_type": "code",
   "execution_count": 6,
   "metadata": {},
   "outputs": [],
   "source": [
    "### Create Normalizer to add a Normalizing layer\n",
    "from keras.layers import Normalization\n",
    "training_features = tf.constant(features)\n",
    "# training_features = tf.constant(X_train)\n",
    "normalizer = Normalization()\n",
    "normalizer.adapt(training_features)"
   ]
  },
  {
   "cell_type": "code",
   "execution_count": 7,
   "metadata": {},
   "outputs": [
    {
     "name": "stdout",
     "output_type": "stream",
     "text": [
      "Epoch 1/100\n",
      "\u001b[1m240/240\u001b[0m \u001b[32m━━━━━━━━━━━━━━━━━━━━\u001b[0m\u001b[37m\u001b[0m \u001b[1m2s\u001b[0m 1ms/step - loss: 389.3153 - mean_squared_error: 165429.7500 - r2_score: -568.3644\n",
      "Epoch 2/100\n",
      "\u001b[1m240/240\u001b[0m \u001b[32m━━━━━━━━━━━━━━━━━━━━\u001b[0m\u001b[37m\u001b[0m \u001b[1m0s\u001b[0m 1ms/step - loss: 14.7766 - mean_squared_error: 304.4073 - r2_score: -0.0442\n",
      "Epoch 3/100\n",
      "\u001b[1m240/240\u001b[0m \u001b[32m━━━━━━━━━━━━━━━━━━━━\u001b[0m\u001b[37m\u001b[0m \u001b[1m0s\u001b[0m 2ms/step - loss: 14.6714 - mean_squared_error: 294.5750 - r2_score: -0.0245\n",
      "Epoch 4/100\n",
      "\u001b[1m240/240\u001b[0m \u001b[32m━━━━━━━━━━━━━━━━━━━━\u001b[0m\u001b[37m\u001b[0m \u001b[1m1s\u001b[0m 1ms/step - loss: 14.9014 - mean_squared_error: 304.7369 - r2_score: -0.0316\n",
      "Epoch 5/100\n",
      "\u001b[1m240/240\u001b[0m \u001b[32m━━━━━━━━━━━━━━━━━━━━\u001b[0m\u001b[37m\u001b[0m \u001b[1m0s\u001b[0m 2ms/step - loss: 14.6127 - mean_squared_error: 297.5396 - r2_score: -0.0352\n",
      "Epoch 6/100\n",
      "\u001b[1m240/240\u001b[0m \u001b[32m━━━━━━━━━━━━━━━━━━━━\u001b[0m\u001b[37m\u001b[0m \u001b[1m0s\u001b[0m 1ms/step - loss: 14.5975 - mean_squared_error: 299.1243 - r2_score: -0.0369\n",
      "Epoch 7/100\n",
      "\u001b[1m240/240\u001b[0m \u001b[32m━━━━━━━━━━━━━━━━━━━━\u001b[0m\u001b[37m\u001b[0m \u001b[1m0s\u001b[0m 1ms/step - loss: 14.6706 - mean_squared_error: 299.0482 - r2_score: -0.0243\n",
      "Epoch 8/100\n",
      "\u001b[1m240/240\u001b[0m \u001b[32m━━━━━━━━━━━━━━━━━━━━\u001b[0m\u001b[37m\u001b[0m \u001b[1m0s\u001b[0m 1ms/step - loss: 14.4962 - mean_squared_error: 289.7235 - r2_score: -0.0041 \n",
      "Epoch 9/100\n",
      "\u001b[1m240/240\u001b[0m \u001b[32m━━━━━━━━━━━━━━━━━━━━\u001b[0m\u001b[37m\u001b[0m \u001b[1m0s\u001b[0m 1ms/step - loss: 14.6366 - mean_squared_error: 291.4303 - r2_score: -0.0055\n",
      "Epoch 10/100\n",
      "\u001b[1m240/240\u001b[0m \u001b[32m━━━━━━━━━━━━━━━━━━━━\u001b[0m\u001b[37m\u001b[0m \u001b[1m0s\u001b[0m 1ms/step - loss: 14.5710 - mean_squared_error: 295.0900 - r2_score: -0.0084\n",
      "Epoch 11/100\n",
      "\u001b[1m240/240\u001b[0m \u001b[32m━━━━━━━━━━━━━━━━━━━━\u001b[0m\u001b[37m\u001b[0m \u001b[1m0s\u001b[0m 1ms/step - loss: 14.3262 - mean_squared_error: 285.8290 - r2_score: 9.5362e-04\n",
      "Epoch 12/100\n",
      "\u001b[1m240/240\u001b[0m \u001b[32m━━━━━━━━━━━━━━━━━━━━\u001b[0m\u001b[37m\u001b[0m \u001b[1m0s\u001b[0m 2ms/step - loss: 14.3861 - mean_squared_error: 285.0759 - r2_score: 0.0101\n",
      "Epoch 13/100\n",
      "\u001b[1m240/240\u001b[0m \u001b[32m━━━━━━━━━━━━━━━━━━━━\u001b[0m\u001b[37m\u001b[0m \u001b[1m0s\u001b[0m 1ms/step - loss: 14.2758 - mean_squared_error: 282.7508 - r2_score: 0.0132\n",
      "Epoch 14/100\n",
      "\u001b[1m240/240\u001b[0m \u001b[32m━━━━━━━━━━━━━━━━━━━━\u001b[0m\u001b[37m\u001b[0m \u001b[1m0s\u001b[0m 1ms/step - loss: 14.4084 - mean_squared_error: 288.2164 - r2_score: 0.0076\n",
      "Epoch 15/100\n",
      "\u001b[1m240/240\u001b[0m \u001b[32m━━━━━━━━━━━━━━━━━━━━\u001b[0m\u001b[37m\u001b[0m \u001b[1m0s\u001b[0m 1ms/step - loss: 14.4749 - mean_squared_error: 288.8221 - r2_score: 0.0215\n",
      "Epoch 16/100\n",
      "\u001b[1m240/240\u001b[0m \u001b[32m━━━━━━━━━━━━━━━━━━━━\u001b[0m\u001b[37m\u001b[0m \u001b[1m0s\u001b[0m 1ms/step - loss: 14.3167 - mean_squared_error: 281.4055 - r2_score: 0.0407\n",
      "Epoch 17/100\n",
      "\u001b[1m240/240\u001b[0m \u001b[32m━━━━━━━━━━━━━━━━━━━━\u001b[0m\u001b[37m\u001b[0m \u001b[1m0s\u001b[0m 1ms/step - loss: 14.1685 - mean_squared_error: 279.2424 - r2_score: 0.0318\n",
      "Epoch 18/100\n",
      "\u001b[1m240/240\u001b[0m \u001b[32m━━━━━━━━━━━━━━━━━━━━\u001b[0m\u001b[37m\u001b[0m \u001b[1m0s\u001b[0m 2ms/step - loss: 14.1997 - mean_squared_error: 277.0739 - r2_score: 0.0393\n",
      "Epoch 19/100\n",
      "\u001b[1m240/240\u001b[0m \u001b[32m━━━━━━━━━━━━━━━━━━━━\u001b[0m\u001b[37m\u001b[0m \u001b[1m0s\u001b[0m 1ms/step - loss: 14.1525 - mean_squared_error: 280.8568 - r2_score: 0.0421\n",
      "Epoch 20/100\n",
      "\u001b[1m240/240\u001b[0m \u001b[32m━━━━━━━━━━━━━━━━━━━━\u001b[0m\u001b[37m\u001b[0m \u001b[1m0s\u001b[0m 1ms/step - loss: 14.0244 - mean_squared_error: 272.1285 - r2_score: 0.0707\n",
      "Epoch 21/100\n",
      "\u001b[1m240/240\u001b[0m \u001b[32m━━━━━━━━━━━━━━━━━━━━\u001b[0m\u001b[37m\u001b[0m \u001b[1m0s\u001b[0m 1ms/step - loss: 14.0836 - mean_squared_error: 276.4110 - r2_score: 0.0550\n",
      "Epoch 22/100\n",
      "\u001b[1m240/240\u001b[0m \u001b[32m━━━━━━━━━━━━━━━━━━━━\u001b[0m\u001b[37m\u001b[0m \u001b[1m0s\u001b[0m 2ms/step - loss: 14.0052 - mean_squared_error: 273.2791 - r2_score: 0.0571\n",
      "Epoch 23/100\n",
      "\u001b[1m240/240\u001b[0m \u001b[32m━━━━━━━━━━━━━━━━━━━━\u001b[0m\u001b[37m\u001b[0m \u001b[1m0s\u001b[0m 1ms/step - loss: 13.7533 - mean_squared_error: 263.2036 - r2_score: 0.0793\n",
      "Epoch 24/100\n",
      "\u001b[1m240/240\u001b[0m \u001b[32m━━━━━━━━━━━━━━━━━━━━\u001b[0m\u001b[37m\u001b[0m \u001b[1m0s\u001b[0m 1ms/step - loss: 13.7169 - mean_squared_error: 260.3582 - r2_score: 0.0989\n",
      "Epoch 25/100\n",
      "\u001b[1m240/240\u001b[0m \u001b[32m━━━━━━━━━━━━━━━━━━━━\u001b[0m\u001b[37m\u001b[0m \u001b[1m0s\u001b[0m 2ms/step - loss: 13.8626 - mean_squared_error: 266.2180 - r2_score: 0.0997\n",
      "Epoch 26/100\n",
      "\u001b[1m240/240\u001b[0m \u001b[32m━━━━━━━━━━━━━━━━━━━━\u001b[0m\u001b[37m\u001b[0m \u001b[1m0s\u001b[0m 1ms/step - loss: 13.7953 - mean_squared_error: 274.4574 - r2_score: 0.0697\n",
      "Epoch 27/100\n",
      "\u001b[1m240/240\u001b[0m \u001b[32m━━━━━━━━━━━━━━━━━━━━\u001b[0m\u001b[37m\u001b[0m \u001b[1m0s\u001b[0m 1ms/step - loss: 13.4714 - mean_squared_error: 257.1963 - r2_score: 0.1108\n",
      "Epoch 28/100\n",
      "\u001b[1m240/240\u001b[0m \u001b[32m━━━━━━━━━━━━━━━━━━━━\u001b[0m\u001b[37m\u001b[0m \u001b[1m0s\u001b[0m 1ms/step - loss: 13.5977 - mean_squared_error: 263.8257 - r2_score: 0.1002\n",
      "Epoch 29/100\n",
      "\u001b[1m240/240\u001b[0m \u001b[32m━━━━━━━━━━━━━━━━━━━━\u001b[0m\u001b[37m\u001b[0m \u001b[1m0s\u001b[0m 1ms/step - loss: 13.4329 - mean_squared_error: 250.5463 - r2_score: 0.1346\n",
      "Epoch 30/100\n",
      "\u001b[1m240/240\u001b[0m \u001b[32m━━━━━━━━━━━━━━━━━━━━\u001b[0m\u001b[37m\u001b[0m \u001b[1m0s\u001b[0m 1ms/step - loss: 13.4212 - mean_squared_error: 250.6392 - r2_score: 0.1438\n",
      "Epoch 31/100\n",
      "\u001b[1m240/240\u001b[0m \u001b[32m━━━━━━━━━━━━━━━━━━━━\u001b[0m\u001b[37m\u001b[0m \u001b[1m0s\u001b[0m 1ms/step - loss: 13.3431 - mean_squared_error: 244.3014 - r2_score: 0.1577\n",
      "Epoch 32/100\n",
      "\u001b[1m240/240\u001b[0m \u001b[32m━━━━━━━━━━━━━━━━━━━━\u001b[0m\u001b[37m\u001b[0m \u001b[1m0s\u001b[0m 1ms/step - loss: 13.2802 - mean_squared_error: 243.8563 - r2_score: 0.1754\n",
      "Epoch 33/100\n",
      "\u001b[1m240/240\u001b[0m \u001b[32m━━━━━━━━━━━━━━━━━━━━\u001b[0m\u001b[37m\u001b[0m \u001b[1m0s\u001b[0m 1ms/step - loss: 13.2817 - mean_squared_error: 240.8212 - r2_score: 0.1886\n",
      "Epoch 34/100\n",
      "\u001b[1m240/240\u001b[0m \u001b[32m━━━━━━━━━━━━━━━━━━━━\u001b[0m\u001b[37m\u001b[0m \u001b[1m0s\u001b[0m 1ms/step - loss: 13.1195 - mean_squared_error: 242.5256 - r2_score: 0.1769\n",
      "Epoch 35/100\n",
      "\u001b[1m240/240\u001b[0m \u001b[32m━━━━━━━━━━━━━━━━━━━━\u001b[0m\u001b[37m\u001b[0m \u001b[1m0s\u001b[0m 1ms/step - loss: 12.8679 - mean_squared_error: 234.2862 - r2_score: 0.1912\n",
      "Epoch 36/100\n",
      "\u001b[1m240/240\u001b[0m \u001b[32m━━━━━━━━━━━━━━━━━━━━\u001b[0m\u001b[37m\u001b[0m \u001b[1m0s\u001b[0m 1ms/step - loss: 12.7551 - mean_squared_error: 228.4657 - r2_score: 0.2111\n",
      "Epoch 37/100\n",
      "\u001b[1m240/240\u001b[0m \u001b[32m━━━━━━━━━━━━━━━━━━━━\u001b[0m\u001b[37m\u001b[0m \u001b[1m0s\u001b[0m 1ms/step - loss: 12.6642 - mean_squared_error: 224.4554 - r2_score: 0.2242\n",
      "Epoch 38/100\n",
      "\u001b[1m240/240\u001b[0m \u001b[32m━━━━━━━━━━━━━━━━━━━━\u001b[0m\u001b[37m\u001b[0m \u001b[1m0s\u001b[0m 1ms/step - loss: 12.6343 - mean_squared_error: 224.3768 - r2_score: 0.2295\n",
      "Epoch 39/100\n",
      "\u001b[1m240/240\u001b[0m \u001b[32m━━━━━━━━━━━━━━━━━━━━\u001b[0m\u001b[37m\u001b[0m \u001b[1m0s\u001b[0m 1ms/step - loss: 12.7353 - mean_squared_error: 224.8922 - r2_score: 0.2331\n",
      "Epoch 40/100\n",
      "\u001b[1m240/240\u001b[0m \u001b[32m━━━━━━━━━━━━━━━━━━━━\u001b[0m\u001b[37m\u001b[0m \u001b[1m0s\u001b[0m 1ms/step - loss: 12.2357 - mean_squared_error: 211.1867 - r2_score: 0.2661\n",
      "Epoch 41/100\n",
      "\u001b[1m240/240\u001b[0m \u001b[32m━━━━━━━━━━━━━━━━━━━━\u001b[0m\u001b[37m\u001b[0m \u001b[1m0s\u001b[0m 1ms/step - loss: 12.7496 - mean_squared_error: 231.4463 - r2_score: 0.2046\n",
      "Epoch 42/100\n",
      "\u001b[1m240/240\u001b[0m \u001b[32m━━━━━━━━━━━━━━━━━━━━\u001b[0m\u001b[37m\u001b[0m \u001b[1m0s\u001b[0m 1ms/step - loss: 12.2685 - mean_squared_error: 210.2950 - r2_score: 0.2814\n",
      "Epoch 43/100\n",
      "\u001b[1m240/240\u001b[0m \u001b[32m━━━━━━━━━━━━━━━━━━━━\u001b[0m\u001b[37m\u001b[0m \u001b[1m0s\u001b[0m 1ms/step - loss: 12.1234 - mean_squared_error: 206.6615 - r2_score: 0.2957\n",
      "Epoch 44/100\n",
      "\u001b[1m240/240\u001b[0m \u001b[32m━━━━━━━━━━━━━━━━━━━━\u001b[0m\u001b[37m\u001b[0m \u001b[1m0s\u001b[0m 1ms/step - loss: 11.8485 - mean_squared_error: 196.3167 - r2_score: 0.3166\n",
      "Epoch 45/100\n",
      "\u001b[1m240/240\u001b[0m \u001b[32m━━━━━━━━━━━━━━━━━━━━\u001b[0m\u001b[37m\u001b[0m \u001b[1m0s\u001b[0m 1ms/step - loss: 11.6172 - mean_squared_error: 191.3343 - r2_score: 0.3311\n",
      "Epoch 46/100\n",
      "\u001b[1m240/240\u001b[0m \u001b[32m━━━━━━━━━━━━━━━━━━━━\u001b[0m\u001b[37m\u001b[0m \u001b[1m0s\u001b[0m 1ms/step - loss: 11.8144 - mean_squared_error: 198.6575 - r2_score: 0.3296\n",
      "Epoch 47/100\n",
      "\u001b[1m240/240\u001b[0m \u001b[32m━━━━━━━━━━━━━━━━━━━━\u001b[0m\u001b[37m\u001b[0m \u001b[1m0s\u001b[0m 1ms/step - loss: 11.4481 - mean_squared_error: 184.8230 - r2_score: 0.3588\n",
      "Epoch 48/100\n",
      "\u001b[1m240/240\u001b[0m \u001b[32m━━━━━━━━━━━━━━━━━━━━\u001b[0m\u001b[37m\u001b[0m \u001b[1m1s\u001b[0m 1ms/step - loss: 11.4332 - mean_squared_error: 181.9238 - r2_score: 0.3845\n",
      "Epoch 49/100\n",
      "\u001b[1m240/240\u001b[0m \u001b[32m━━━━━━━━━━━━━━━━━━━━\u001b[0m\u001b[37m\u001b[0m \u001b[1m0s\u001b[0m 1ms/step - loss: 11.2760 - mean_squared_error: 181.6357 - r2_score: 0.3777\n",
      "Epoch 50/100\n",
      "\u001b[1m240/240\u001b[0m \u001b[32m━━━━━━━━━━━━━━━━━━━━\u001b[0m\u001b[37m\u001b[0m \u001b[1m0s\u001b[0m 1ms/step - loss: 11.0193 - mean_squared_error: 171.9802 - r2_score: 0.4179\n",
      "Epoch 51/100\n",
      "\u001b[1m240/240\u001b[0m \u001b[32m━━━━━━━━━━━━━━━━━━━━\u001b[0m\u001b[37m\u001b[0m \u001b[1m0s\u001b[0m 1ms/step - loss: 10.8856 - mean_squared_error: 167.4073 - r2_score: 0.4307\n",
      "Epoch 52/100\n",
      "\u001b[1m240/240\u001b[0m \u001b[32m━━━━━━━━━━━━━━━━━━━━\u001b[0m\u001b[37m\u001b[0m \u001b[1m0s\u001b[0m 1ms/step - loss: 10.4171 - mean_squared_error: 154.8928 - r2_score: 0.4570\n",
      "Epoch 53/100\n",
      "\u001b[1m240/240\u001b[0m \u001b[32m━━━━━━━━━━━━━━━━━━━━\u001b[0m\u001b[37m\u001b[0m \u001b[1m0s\u001b[0m 1ms/step - loss: 10.3563 - mean_squared_error: 155.3547 - r2_score: 0.4720\n",
      "Epoch 54/100\n",
      "\u001b[1m240/240\u001b[0m \u001b[32m━━━━━━━━━━━━━━━━━━━━\u001b[0m\u001b[37m\u001b[0m \u001b[1m0s\u001b[0m 1ms/step - loss: 9.9848 - mean_squared_error: 141.4452 - r2_score: 0.5108\n",
      "Epoch 55/100\n",
      "\u001b[1m240/240\u001b[0m \u001b[32m━━━━━━━━━━━━━━━━━━━━\u001b[0m\u001b[37m\u001b[0m \u001b[1m1s\u001b[0m 1ms/step - loss: 9.7849 - mean_squared_error: 136.5219 - r2_score: 0.5328\n",
      "Epoch 56/100\n",
      "\u001b[1m240/240\u001b[0m \u001b[32m━━━━━━━━━━━━━━━━━━━━\u001b[0m\u001b[37m\u001b[0m \u001b[1m0s\u001b[0m 1ms/step - loss: 9.6407 - mean_squared_error: 134.4207 - r2_score: 0.5358\n",
      "Epoch 57/100\n",
      "\u001b[1m240/240\u001b[0m \u001b[32m━━━━━━━━━━━━━━━━━━━━\u001b[0m\u001b[37m\u001b[0m \u001b[1m0s\u001b[0m 2ms/step - loss: 9.2938 - mean_squared_error: 124.3596 - r2_score: 0.5708\n",
      "Epoch 58/100\n",
      "\u001b[1m240/240\u001b[0m \u001b[32m━━━━━━━━━━━━━━━━━━━━\u001b[0m\u001b[37m\u001b[0m \u001b[1m0s\u001b[0m 1ms/step - loss: 8.8760 - mean_squared_error: 115.4093 - r2_score: 0.6046\n",
      "Epoch 59/100\n",
      "\u001b[1m240/240\u001b[0m \u001b[32m━━━━━━━━━━━━━━━━━━━━\u001b[0m\u001b[37m\u001b[0m \u001b[1m0s\u001b[0m 1ms/step - loss: 8.6325 - mean_squared_error: 109.3188 - r2_score: 0.6188\n",
      "Epoch 60/100\n",
      "\u001b[1m240/240\u001b[0m \u001b[32m━━━━━━━━━━━━━━━━━━━━\u001b[0m\u001b[37m\u001b[0m \u001b[1m0s\u001b[0m 2ms/step - loss: 8.2643 - mean_squared_error: 101.0836 - r2_score: 0.6573\n",
      "Epoch 61/100\n",
      "\u001b[1m240/240\u001b[0m \u001b[32m━━━━━━━━━━━━━━━━━━━━\u001b[0m\u001b[37m\u001b[0m \u001b[1m1s\u001b[0m 1ms/step - loss: 7.9497 - mean_squared_error: 93.5041 - r2_score: 0.6783\n",
      "Epoch 62/100\n",
      "\u001b[1m240/240\u001b[0m \u001b[32m━━━━━━━━━━━━━━━━━━━━\u001b[0m\u001b[37m\u001b[0m \u001b[1m0s\u001b[0m 1ms/step - loss: 7.6003 - mean_squared_error: 85.6607 - r2_score: 0.7020\n",
      "Epoch 63/100\n",
      "\u001b[1m240/240\u001b[0m \u001b[32m━━━━━━━━━━━━━━━━━━━━\u001b[0m\u001b[37m\u001b[0m \u001b[1m0s\u001b[0m 1ms/step - loss: 7.3421 - mean_squared_error: 79.7051 - r2_score: 0.7309\n",
      "Epoch 64/100\n",
      "\u001b[1m240/240\u001b[0m \u001b[32m━━━━━━━━━━━━━━━━━━━━\u001b[0m\u001b[37m\u001b[0m \u001b[1m0s\u001b[0m 1ms/step - loss: 6.9769 - mean_squared_error: 73.3310 - r2_score: 0.7474\n",
      "Epoch 65/100\n",
      "\u001b[1m240/240\u001b[0m \u001b[32m━━━━━━━━━━━━━━━━━━━━\u001b[0m\u001b[37m\u001b[0m \u001b[1m0s\u001b[0m 2ms/step - loss: 6.4326 - mean_squared_error: 61.9696 - r2_score: 0.7850\n",
      "Epoch 66/100\n",
      "\u001b[1m240/240\u001b[0m \u001b[32m━━━━━━━━━━━━━━━━━━━━\u001b[0m\u001b[37m\u001b[0m \u001b[1m0s\u001b[0m 1ms/step - loss: 6.2342 - mean_squared_error: 58.2196 - r2_score: 0.7942\n",
      "Epoch 67/100\n",
      "\u001b[1m240/240\u001b[0m \u001b[32m━━━━━━━━━━━━━━━━━━━━\u001b[0m\u001b[37m\u001b[0m \u001b[1m0s\u001b[0m 1ms/step - loss: 5.8454 - mean_squared_error: 52.2825 - r2_score: 0.8205\n",
      "Epoch 68/100\n",
      "\u001b[1m240/240\u001b[0m \u001b[32m━━━━━━━━━━━━━━━━━━━━\u001b[0m\u001b[37m\u001b[0m \u001b[1m0s\u001b[0m 1ms/step - loss: 5.6115 - mean_squared_error: 48.1956 - r2_score: 0.8343\n",
      "Epoch 69/100\n",
      "\u001b[1m240/240\u001b[0m \u001b[32m━━━━━━━━━━━━━━━━━━━━\u001b[0m\u001b[37m\u001b[0m \u001b[1m0s\u001b[0m 1ms/step - loss: 5.4081 - mean_squared_error: 44.3343 - r2_score: 0.8480\n",
      "Epoch 70/100\n",
      "\u001b[1m240/240\u001b[0m \u001b[32m━━━━━━━━━━━━━━━━━━━━\u001b[0m\u001b[37m\u001b[0m \u001b[1m0s\u001b[0m 1ms/step - loss: 5.1700 - mean_squared_error: 40.9083 - r2_score: 0.8595\n",
      "Epoch 71/100\n",
      "\u001b[1m240/240\u001b[0m \u001b[32m━━━━━━━━━━━━━━━━━━━━\u001b[0m\u001b[37m\u001b[0m \u001b[1m0s\u001b[0m 1ms/step - loss: 5.2898 - mean_squared_error: 43.7472 - r2_score: 0.8533\n",
      "Epoch 72/100\n",
      "\u001b[1m240/240\u001b[0m \u001b[32m━━━━━━━━━━━━━━━━━━━━\u001b[0m\u001b[37m\u001b[0m \u001b[1m0s\u001b[0m 1ms/step - loss: 5.0277 - mean_squared_error: 38.6124 - r2_score: 0.8688\n",
      "Epoch 73/100\n",
      "\u001b[1m240/240\u001b[0m \u001b[32m━━━━━━━━━━━━━━━━━━━━\u001b[0m\u001b[37m\u001b[0m \u001b[1m0s\u001b[0m 1ms/step - loss: 4.7610 - mean_squared_error: 34.9408 - r2_score: 0.8783\n",
      "Epoch 74/100\n",
      "\u001b[1m240/240\u001b[0m \u001b[32m━━━━━━━━━━━━━━━━━━━━\u001b[0m\u001b[37m\u001b[0m \u001b[1m0s\u001b[0m 1ms/step - loss: 4.7214 - mean_squared_error: 34.6451 - r2_score: 0.8830\n",
      "Epoch 75/100\n",
      "\u001b[1m240/240\u001b[0m \u001b[32m━━━━━━━━━━━━━━━━━━━━\u001b[0m\u001b[37m\u001b[0m \u001b[1m0s\u001b[0m 1ms/step - loss: 4.7659 - mean_squared_error: 35.0293 - r2_score: 0.8809\n",
      "Epoch 76/100\n",
      "\u001b[1m240/240\u001b[0m \u001b[32m━━━━━━━━━━━━━━━━━━━━\u001b[0m\u001b[37m\u001b[0m \u001b[1m0s\u001b[0m 1ms/step - loss: 4.5332 - mean_squared_error: 32.3055 - r2_score: 0.8880\n",
      "Epoch 77/100\n",
      "\u001b[1m240/240\u001b[0m \u001b[32m━━━━━━━━━━━━━━━━━━━━\u001b[0m\u001b[37m\u001b[0m \u001b[1m0s\u001b[0m 1ms/step - loss: 4.8572 - mean_squared_error: 37.4371 - r2_score: 0.8744\n",
      "Epoch 78/100\n",
      "\u001b[1m240/240\u001b[0m \u001b[32m━━━━━━━━━━━━━━━━━━━━\u001b[0m\u001b[37m\u001b[0m \u001b[1m0s\u001b[0m 1ms/step - loss: 4.6384 - mean_squared_error: 33.6981 - r2_score: 0.8846\n",
      "Epoch 79/100\n",
      "\u001b[1m240/240\u001b[0m \u001b[32m━━━━━━━━━━━━━━━━━━━━\u001b[0m\u001b[37m\u001b[0m \u001b[1m1s\u001b[0m 2ms/step - loss: 4.5413 - mean_squared_error: 32.3751 - r2_score: 0.8878\n",
      "Epoch 80/100\n",
      "\u001b[1m240/240\u001b[0m \u001b[32m━━━━━━━━━━━━━━━━━━━━\u001b[0m\u001b[37m\u001b[0m \u001b[1m0s\u001b[0m 2ms/step - loss: 4.4614 - mean_squared_error: 31.2369 - r2_score: 0.8905\n",
      "Epoch 81/100\n",
      "\u001b[1m240/240\u001b[0m \u001b[32m━━━━━━━━━━━━━━━━━━━━\u001b[0m\u001b[37m\u001b[0m \u001b[1m0s\u001b[0m 1ms/step - loss: 4.4423 - mean_squared_error: 31.4058 - r2_score: 0.8926\n",
      "Epoch 82/100\n",
      "\u001b[1m240/240\u001b[0m \u001b[32m━━━━━━━━━━━━━━━━━━━━\u001b[0m\u001b[37m\u001b[0m \u001b[1m0s\u001b[0m 1ms/step - loss: 4.3345 - mean_squared_error: 29.7680 - r2_score: 0.8964\n",
      "Epoch 83/100\n",
      "\u001b[1m240/240\u001b[0m \u001b[32m━━━━━━━━━━━━━━━━━━━━\u001b[0m\u001b[37m\u001b[0m \u001b[1m0s\u001b[0m 2ms/step - loss: 4.6926 - mean_squared_error: 34.4337 - r2_score: 0.8821\n",
      "Epoch 84/100\n",
      "\u001b[1m240/240\u001b[0m \u001b[32m━━━━━━━━━━━━━━━━━━━━\u001b[0m\u001b[37m\u001b[0m \u001b[1m0s\u001b[0m 1ms/step - loss: 4.4816 - mean_squared_error: 31.8556 - r2_score: 0.8898\n",
      "Epoch 85/100\n",
      "\u001b[1m240/240\u001b[0m \u001b[32m━━━━━━━━━━━━━━━━━━━━\u001b[0m\u001b[37m\u001b[0m \u001b[1m0s\u001b[0m 1ms/step - loss: 4.4761 - mean_squared_error: 31.7889 - r2_score: 0.8880\n",
      "Epoch 86/100\n",
      "\u001b[1m240/240\u001b[0m \u001b[32m━━━━━━━━━━━━━━━━━━━━\u001b[0m\u001b[37m\u001b[0m \u001b[1m0s\u001b[0m 1ms/step - loss: 4.5002 - mean_squared_error: 32.5953 - r2_score: 0.8888\n",
      "Epoch 87/100\n",
      "\u001b[1m240/240\u001b[0m \u001b[32m━━━━━━━━━━━━━━━━━━━━\u001b[0m\u001b[37m\u001b[0m \u001b[1m0s\u001b[0m 1ms/step - loss: 4.4272 - mean_squared_error: 31.3850 - r2_score: 0.8934\n",
      "Epoch 88/100\n",
      "\u001b[1m240/240\u001b[0m \u001b[32m━━━━━━━━━━━━━━━━━━━━\u001b[0m\u001b[37m\u001b[0m \u001b[1m0s\u001b[0m 2ms/step - loss: 4.3390 - mean_squared_error: 29.9374 - r2_score: 0.8970\n",
      "Epoch 89/100\n",
      "\u001b[1m240/240\u001b[0m \u001b[32m━━━━━━━━━━━━━━━━━━━━\u001b[0m\u001b[37m\u001b[0m \u001b[1m0s\u001b[0m 1ms/step - loss: 4.4938 - mean_squared_error: 32.8054 - r2_score: 0.8872\n",
      "Epoch 90/100\n",
      "\u001b[1m240/240\u001b[0m \u001b[32m━━━━━━━━━━━━━━━━━━━━\u001b[0m\u001b[37m\u001b[0m \u001b[1m0s\u001b[0m 1ms/step - loss: 4.5658 - mean_squared_error: 33.5553 - r2_score: 0.8832\n",
      "Epoch 91/100\n",
      "\u001b[1m240/240\u001b[0m \u001b[32m━━━━━━━━━━━━━━━━━━━━\u001b[0m\u001b[37m\u001b[0m \u001b[1m0s\u001b[0m 1ms/step - loss: 4.5461 - mean_squared_error: 33.3133 - r2_score: 0.8860\n",
      "Epoch 92/100\n",
      "\u001b[1m240/240\u001b[0m \u001b[32m━━━━━━━━━━━━━━━━━━━━\u001b[0m\u001b[37m\u001b[0m \u001b[1m0s\u001b[0m 1ms/step - loss: 4.2768 - mean_squared_error: 29.2409 - r2_score: 0.8995\n",
      "Epoch 93/100\n",
      "\u001b[1m240/240\u001b[0m \u001b[32m━━━━━━━━━━━━━━━━━━━━\u001b[0m\u001b[37m\u001b[0m \u001b[1m0s\u001b[0m 2ms/step - loss: 4.3914 - mean_squared_error: 30.8308 - r2_score: 0.8922\n",
      "Epoch 94/100\n",
      "\u001b[1m240/240\u001b[0m \u001b[32m━━━━━━━━━━━━━━━━━━━━\u001b[0m\u001b[37m\u001b[0m \u001b[1m0s\u001b[0m 1ms/step - loss: 4.4825 - mean_squared_error: 31.5866 - r2_score: 0.8924\n",
      "Epoch 95/100\n",
      "\u001b[1m240/240\u001b[0m \u001b[32m━━━━━━━━━━━━━━━━━━━━\u001b[0m\u001b[37m\u001b[0m \u001b[1m0s\u001b[0m 1ms/step - loss: 4.3264 - mean_squared_error: 30.3519 - r2_score: 0.8963\n",
      "Epoch 96/100\n",
      "\u001b[1m240/240\u001b[0m \u001b[32m━━━━━━━━━━━━━━━━━━━━\u001b[0m\u001b[37m\u001b[0m \u001b[1m0s\u001b[0m 1ms/step - loss: 4.7141 - mean_squared_error: 35.7983 - r2_score: 0.8761\n",
      "Epoch 97/100\n",
      "\u001b[1m240/240\u001b[0m \u001b[32m━━━━━━━━━━━━━━━━━━━━\u001b[0m\u001b[37m\u001b[0m \u001b[1m0s\u001b[0m 1ms/step - loss: 4.5435 - mean_squared_error: 32.9118 - r2_score: 0.8871\n",
      "Epoch 98/100\n",
      "\u001b[1m240/240\u001b[0m \u001b[32m━━━━━━━━━━━━━━━━━━━━\u001b[0m\u001b[37m\u001b[0m \u001b[1m0s\u001b[0m 1ms/step - loss: 4.2434 - mean_squared_error: 29.1020 - r2_score: 0.8976\n",
      "Epoch 99/100\n",
      "\u001b[1m240/240\u001b[0m \u001b[32m━━━━━━━━━━━━━━━━━━━━\u001b[0m\u001b[37m\u001b[0m \u001b[1m0s\u001b[0m 2ms/step - loss: 4.3957 - mean_squared_error: 31.4924 - r2_score: 0.8918\n",
      "Epoch 100/100\n",
      "\u001b[1m240/240\u001b[0m \u001b[32m━━━━━━━━━━━━━━━━━━━━\u001b[0m\u001b[37m\u001b[0m \u001b[1m0s\u001b[0m 1ms/step - loss: 4.5106 - mean_squared_error: 32.9142 - r2_score: 0.8838\n"
     ]
    },
    {
     "data": {
      "text/plain": [
       "<keras.src.callbacks.history.History at 0x1fae543f7f0>"
      ]
     },
     "execution_count": 7,
     "metadata": {},
     "output_type": "execute_result"
    }
   ],
   "source": [
    "### Build Model\n",
    "from keras import Sequential\n",
    "from keras.layers import InputLayer, Dense\n",
    "from keras.losses import MeanAbsoluteError\n",
    "from keras.metrics import MeanSquaredError, R2Score\n",
    "from keras.optimizers import Adam\n",
    "\n",
    "ANN = Sequential()\n",
    "ANN.add( InputLayer( shape = (4,) ) )\n",
    "ANN.add( normalizer )\n",
    "ANN.add( Dense( units = 25, activation = \"relu\" ) )\n",
    "ANN.add( Dense( units = 25, activation = \"relu\" ) )\n",
    "ANN.add( Dense( units = 1 ) )\n",
    "ANN.compile( optimizer = Adam(), loss = MeanAbsoluteError(), metrics = [MeanSquaredError(), R2Score()])\n",
    "\n",
    "### Train\n",
    "ANN.fit( X_train, y_train, epochs = 100)"
   ]
  },
  {
   "cell_type": "code",
   "execution_count": 8,
   "metadata": {},
   "outputs": [
    {
     "name": "stdout",
     "output_type": "stream",
     "text": [
      "\u001b[1m60/60\u001b[0m \u001b[32m━━━━━━━━━━━━━━━━━━━━\u001b[0m\u001b[37m\u001b[0m \u001b[1m0s\u001b[0m 1ms/step - loss: 5.2499 - mean_squared_error: 42.1590 - r2_score: 0.8547\n"
     ]
    },
    {
     "data": {
      "text/plain": [
       "[5.237518310546875, 42.42148208618164, 0.8547354936599731]"
      ]
     },
     "execution_count": 8,
     "metadata": {},
     "output_type": "execute_result"
    }
   ],
   "source": [
    "### Evaluate\n",
    "ANN.evaluate(X_test, y_test)"
   ]
  }
 ],
 "metadata": {
  "kernelspec": {
   "display_name": "Python 3",
   "language": "python",
   "name": "python3"
  },
  "language_info": {
   "codemirror_mode": {
    "name": "ipython",
    "version": 3
   },
   "file_extension": ".py",
   "mimetype": "text/x-python",
   "name": "python",
   "nbconvert_exporter": "python",
   "pygments_lexer": "ipython3",
   "version": "3.10.7"
  }
 },
 "nbformat": 4,
 "nbformat_minor": 2
}
