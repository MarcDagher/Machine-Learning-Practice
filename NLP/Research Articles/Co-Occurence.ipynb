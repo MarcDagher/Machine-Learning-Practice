{
 "cells": [
  {
   "cell_type": "code",
   "execution_count": null,
   "metadata": {},
   "outputs": [],
   "source": [
    "import pandas as pd\n",
    "dataframe = pd.read_csv(\"Research Articles.csv\")\n",
    "dataframe = dataframe.drop([\"ID\", \"TITLE\"], axis = 1)\n",
    "\n",
    "# Reduce dataframe to make testing faster\n",
    "dataframe = dataframe.drop( range(500, len(dataframe)) )"
   ]
  },
  {
   "cell_type": "code",
   "execution_count": null,
   "metadata": {},
   "outputs": [],
   "source": [
    "### Text Cleaning\n",
    "from nltk.corpus import stopwords\n",
    "from nltk.stem.porter import PorterStemmer\n",
    "from nltk.stem import WordNetLemmatizer\n",
    "import re \n",
    "\n",
    "stopwords = stopwords.words(\"english\")\n",
    "abstract = dataframe[\"ABSTRACT\"]\n",
    "corpus = []\n",
    "\n",
    "for i in range(len(abstract)):\n",
    "  lemmatizer = WordNetLemmatizer()\n",
    "  stemmer = PorterStemmer()\n",
    "  document = abstract[i]\n",
    "  \n",
    "  # Remove on-letters\n",
    "  document = re.sub( \"[^a-zA-Z]\", \" \", document )\n",
    "  # Minimize, Split, Lemmatize, and Stem documents\n",
    "  document = document.lower().split()\n",
    "  document = [stemmer.stem(lemmatizer.lemmatize(word)) for word in document if (word not in stopwords and len(stemmer.stem(lemmatizer.lemmatize(word)))>1)]\n",
    "\n",
    "  document = \" \".join(document)\n",
    "  corpus.append(document)\n",
    "\n",
    "print(f\"Length of Corpus: {len(corpus)}\")"
   ]
  },
  {
   "cell_type": "code",
   "execution_count": null,
   "metadata": {},
   "outputs": [],
   "source": [
    "# ### Create Count Vectorizer\n",
    "from sklearn.feature_extraction.text import CountVectorizer\n",
    "vectorizer = CountVectorizer()\n",
    "vectorized_features = vectorizer.fit_transform(corpus).toarray()\n",
    "wordset = vectorizer.get_feature_names_out()"
   ]
  },
  {
   "cell_type": "code",
   "execution_count": null,
   "metadata": {},
   "outputs": [],
   "source": [
    "### Create co_occurence matrix\n",
    "features = pd.DataFrame(vectorized_features, columns = wordset)\n",
    "transposed_features = features.T\n",
    "co_occurrence_matrix = transposed_features.values.dot(features.values)\n",
    "co_occurrence_dataframe = pd.DataFrame(co_occurrence_matrix, columns = wordset, index = wordset)"
   ]
  },
  {
   "cell_type": "code",
   "execution_count": null,
   "metadata": {},
   "outputs": [],
   "source": [
    "from sklearn.cluster import KMeans\n",
    "\n",
    "wcss = []\n",
    "for i in range(1,11):\n",
    "  kmeans = KMeans( init = 'k-means++', n_clusters = i )\n",
    "  print(f\"Training {i}\")\n",
    "  kmeans.fit(co_occurrence_dataframe.values)\n",
    "  wcss.append(kmeans.inertia_)"
   ]
  },
  {
   "cell_type": "code",
   "execution_count": null,
   "metadata": {},
   "outputs": [],
   "source": [
    "import matplotlib.pyplot as plt\n",
    "plt.plot( range(1,11),  wcss )\n",
    "plt.title(\"Elbow Method\")\n",
    "plt.xlabel(\"Number of clusters\")\n",
    "plt.ylabel(\"WCSS\")\n",
    "plt.show()"
   ]
  },
  {
   "cell_type": "code",
   "execution_count": null,
   "metadata": {},
   "outputs": [],
   "source": [
    "kmeans = KMeans( init = 'k-means++', n_clusters = 5 )\n",
    "features = co_occurrence_dataframe.values\n",
    "class_label = kmeans.fit_predict(features)"
   ]
  }
 ],
 "metadata": {
  "kernelspec": {
   "display_name": "Python 3",
   "language": "python",
   "name": "python3"
  },
  "language_info": {
   "codemirror_mode": {
    "name": "ipython",
    "version": 3
   },
   "file_extension": ".py",
   "mimetype": "text/x-python",
   "name": "python",
   "nbconvert_exporter": "python",
   "pygments_lexer": "ipython3",
   "version": "3.10.7"
  }
 },
 "nbformat": 4,
 "nbformat_minor": 2
}
