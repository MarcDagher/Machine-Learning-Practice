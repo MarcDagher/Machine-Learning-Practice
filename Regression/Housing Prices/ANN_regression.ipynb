{
 "cells": [
  {
   "cell_type": "code",
   "execution_count": 1,
   "metadata": {},
   "outputs": [],
   "source": [
    "import pandas as pd\n",
    "import tensorflow as tf\n",
    "\n",
    "dataframe = pd.read_csv(\"housing.csv\")\n",
    "dataframe = dataframe.drop(\"ocean_proximity\", axis = 1)"
   ]
  },
  {
   "cell_type": "code",
   "execution_count": 2,
   "metadata": {},
   "outputs": [],
   "source": [
    "### Seperate Data\n",
    "features = dataframe.iloc[:, :-1]\n",
    "label = dataframe.iloc[:, -1]"
   ]
  },
  {
   "cell_type": "code",
   "execution_count": 3,
   "metadata": {},
   "outputs": [
    {
     "data": {
      "text/plain": [
       "(tf.float64, tf.float64, tf.int64, tf.int64)"
      ]
     },
     "execution_count": 3,
     "metadata": {},
     "output_type": "execute_result"
    }
   ],
   "source": [
    "### Split data\n",
    "from sklearn.model_selection import train_test_split\n",
    "X_train, X_test, y_train, y_test = train_test_split(features.values, label.values, test_size = 0.2)\n",
    "\n",
    "X_train = tf.constant(X_train)\n",
    "X_test = tf.constant(X_test)\n",
    "\n",
    "y_train = tf.constant(y_train)\n",
    "y_test = tf.constant(y_test)\n",
    "\n",
    "X_train.dtype, X_test.dtype, y_train.dtype, y_test.dtype"
   ]
  },
  {
   "cell_type": "code",
   "execution_count": 4,
   "metadata": {},
   "outputs": [
    {
     "data": {
      "text/plain": [
       "(tf.float64, tf.float64, tf.float32, tf.float32)"
      ]
     },
     "execution_count": 4,
     "metadata": {},
     "output_type": "execute_result"
    }
   ],
   "source": [
    "### Handle tensor Data Types\n",
    "y_train = tf.cast(y_train, dtype = tf.float32)\n",
    "\n",
    "y_test = tf.cast(y_test, dtype = tf.float32)\n",
    "\n",
    "X_train.dtype, X_test.dtype, y_train.dtype, y_test.dtype"
   ]
  },
  {
   "cell_type": "code",
   "execution_count": 5,
   "metadata": {},
   "outputs": [
    {
     "data": {
      "text/plain": [
       "(tf.float32, tf.float32, tf.float32, tf.float32)"
      ]
     },
     "execution_count": 5,
     "metadata": {},
     "output_type": "execute_result"
    }
   ],
   "source": [
    "### Feature Scaling\n",
    "from keras.layers import Normalization\n",
    "\n",
    "train_normalizer = Normalization()\n",
    "train_normalizer.adapt(X_train)\n",
    "X_train = train_normalizer(X_train)\n",
    "\n",
    "test_normalizer = Normalization()\n",
    "test_normalizer.adapt(X_test)\n",
    "X_test = test_normalizer(X_test)\n",
    "\n",
    "X_train.dtype, X_test.dtype, y_train.dtype, y_test.dtype"
   ]
  },
  {
   "cell_type": "code",
   "execution_count": 6,
   "metadata": {},
   "outputs": [],
   "source": [
    "### Build Neural Network\n",
    "from keras import Sequential\n",
    "from keras.layers import InputLayer, Dense\n",
    "\n",
    "ANN = Sequential()\n",
    "ANN.add( InputLayer(shape = (8,)) )\n",
    "ANN.add( Dense(units = 20, activation = \"relu\") )\n",
    "ANN.add( Dense(units = 20, activation = \"relu\") )\n",
    "ANN.add( Dense(units = 20, activation = \"relu\") )\n",
    "ANN.add( Dense(units = 20, activation = \"relu\") )\n",
    "ANN.add( Dense(units = 1) )"
   ]
  },
  {
   "cell_type": "code",
   "execution_count": 7,
   "metadata": {},
   "outputs": [
    {
     "name": "stdout",
     "output_type": "stream",
     "text": [
      "Epoch 1/100\n",
      "\u001b[1m516/516\u001b[0m \u001b[32m━━━━━━━━━━━━━━━━━━━━\u001b[0m\u001b[37m\u001b[0m \u001b[1m2s\u001b[0m 2ms/step - loss: 209401.8594 - mean_squared_error: 57581309952.0000 - root_mean_squared_error: 239947.9375\n",
      "Epoch 2/100\n",
      "\u001b[1m516/516\u001b[0m \u001b[32m━━━━━━━━━━━━━━━━━━━━\u001b[0m\u001b[37m\u001b[0m \u001b[1m1s\u001b[0m 2ms/step - loss: 208954.6562 - mean_squared_error: 57201217536.0000 - root_mean_squared_error: 239158.5938\n",
      "Epoch 3/100\n",
      "\u001b[1m516/516\u001b[0m \u001b[32m━━━━━━━━━━━━━━━━━━━━\u001b[0m\u001b[37m\u001b[0m \u001b[1m1s\u001b[0m 1ms/step - loss: 207038.1094 - mean_squared_error: 56241967104.0000 - root_mean_squared_error: 237144.7656\n",
      "Epoch 4/100\n",
      "\u001b[1m516/516\u001b[0m \u001b[32m━━━━━━━━━━━━━━━━━━━━\u001b[0m\u001b[37m\u001b[0m \u001b[1m1s\u001b[0m 2ms/step - loss: 206606.0312 - mean_squared_error: 55863214080.0000 - root_mean_squared_error: 236342.6562\n",
      "Epoch 5/100\n",
      "\u001b[1m516/516\u001b[0m \u001b[32m━━━━━━━━━━━━━━━━━━━━\u001b[0m\u001b[37m\u001b[0m \u001b[1m1s\u001b[0m 2ms/step - loss: 207805.7188 - mean_squared_error: 56765431808.0000 - root_mean_squared_error: 238246.0156\n",
      "Epoch 6/100\n",
      "\u001b[1m516/516\u001b[0m \u001b[32m━━━━━━━━━━━━━━━━━━━━\u001b[0m\u001b[37m\u001b[0m \u001b[1m1s\u001b[0m 2ms/step - loss: 207678.1562 - mean_squared_error: 56516268032.0000 - root_mean_squared_error: 237725.2500\n",
      "Epoch 7/100\n",
      "\u001b[1m516/516\u001b[0m \u001b[32m━━━━━━━━━━━━━━━━━━━━\u001b[0m\u001b[37m\u001b[0m \u001b[1m1s\u001b[0m 2ms/step - loss: 209326.7500 - mean_squared_error: 57293365248.0000 - root_mean_squared_error: 239353.2031\n",
      "Epoch 8/100\n",
      "\u001b[1m516/516\u001b[0m \u001b[32m━━━━━━━━━━━━━━━━━━━━\u001b[0m\u001b[37m\u001b[0m \u001b[1m1s\u001b[0m 2ms/step - loss: 208678.2188 - mean_squared_error: 56901984256.0000 - root_mean_squared_error: 238530.0469\n",
      "Epoch 9/100\n",
      "\u001b[1m516/516\u001b[0m \u001b[32m━━━━━━━━━━━━━━━━━━━━\u001b[0m\u001b[37m\u001b[0m \u001b[1m1s\u001b[0m 2ms/step - loss: 208932.0625 - mean_squared_error: 57240031232.0000 - root_mean_squared_error: 239235.6094\n",
      "Epoch 10/100\n",
      "\u001b[1m516/516\u001b[0m \u001b[32m━━━━━━━━━━━━━━━━━━━━\u001b[0m\u001b[37m\u001b[0m \u001b[1m1s\u001b[0m 2ms/step - loss: 207658.6562 - mean_squared_error: 56539541504.0000 - root_mean_squared_error: 237772.2656\n",
      "Epoch 11/100\n",
      "\u001b[1m516/516\u001b[0m \u001b[32m━━━━━━━━━━━━━━━━━━━━\u001b[0m\u001b[37m\u001b[0m \u001b[1m1s\u001b[0m 2ms/step - loss: 209694.2344 - mean_squared_error: 57735323648.0000 - root_mean_squared_error: 240249.1406\n",
      "Epoch 12/100\n",
      "\u001b[1m516/516\u001b[0m \u001b[32m━━━━━━━━━━━━━━━━━━━━\u001b[0m\u001b[37m\u001b[0m \u001b[1m1s\u001b[0m 2ms/step - loss: 206610.6562 - mean_squared_error: 55953022976.0000 - root_mean_squared_error: 236525.4531\n",
      "Epoch 13/100\n",
      "\u001b[1m516/516\u001b[0m \u001b[32m━━━━━━━━━━━━━━━━━━━━\u001b[0m\u001b[37m\u001b[0m \u001b[1m1s\u001b[0m 2ms/step - loss: 209188.2031 - mean_squared_error: 57265774592.0000 - root_mean_squared_error: 239293.5625\n",
      "Epoch 14/100\n",
      "\u001b[1m516/516\u001b[0m \u001b[32m━━━━━━━━━━━━━━━━━━━━\u001b[0m\u001b[37m\u001b[0m \u001b[1m1s\u001b[0m 2ms/step - loss: 207644.0625 - mean_squared_error: 56400961536.0000 - root_mean_squared_error: 237454.8906\n",
      "Epoch 15/100\n",
      "\u001b[1m516/516\u001b[0m \u001b[32m━━━━━━━━━━━━━━━━━━━━\u001b[0m\u001b[37m\u001b[0m \u001b[1m1s\u001b[0m 2ms/step - loss: 208080.7031 - mean_squared_error: 56659755008.0000 - root_mean_squared_error: 238017.2031\n",
      "Epoch 16/100\n",
      "\u001b[1m516/516\u001b[0m \u001b[32m━━━━━━━━━━━━━━━━━━━━\u001b[0m\u001b[37m\u001b[0m \u001b[1m1s\u001b[0m 2ms/step - loss: 209180.7031 - mean_squared_error: 57126653952.0000 - root_mean_squared_error: 239001.5312\n",
      "Epoch 17/100\n",
      "\u001b[1m516/516\u001b[0m \u001b[32m━━━━━━━━━━━━━━━━━━━━\u001b[0m\u001b[37m\u001b[0m \u001b[1m1s\u001b[0m 2ms/step - loss: 207277.2812 - mean_squared_error: 56487628800.0000 - root_mean_squared_error: 237666.7656\n",
      "Epoch 18/100\n",
      "\u001b[1m516/516\u001b[0m \u001b[32m━━━━━━━━━━━━━━━━━━━━\u001b[0m\u001b[37m\u001b[0m \u001b[1m1s\u001b[0m 2ms/step - loss: 208202.5000 - mean_squared_error: 56761946112.0000 - root_mean_squared_error: 238244.1875\n",
      "Epoch 19/100\n",
      "\u001b[1m516/516\u001b[0m \u001b[32m━━━━━━━━━━━━━━━━━━━━\u001b[0m\u001b[37m\u001b[0m \u001b[1m1s\u001b[0m 2ms/step - loss: 207380.5625 - mean_squared_error: 56372527104.0000 - root_mean_squared_error: 237421.6719\n",
      "Epoch 20/100\n",
      "\u001b[1m516/516\u001b[0m \u001b[32m━━━━━━━━━━━━━━━━━━━━\u001b[0m\u001b[37m\u001b[0m \u001b[1m1s\u001b[0m 2ms/step - loss: 208902.1875 - mean_squared_error: 57447165952.0000 - root_mean_squared_error: 239669.2969\n",
      "Epoch 21/100\n",
      "\u001b[1m516/516\u001b[0m \u001b[32m━━━━━━━━━━━━━━━━━━━━\u001b[0m\u001b[37m\u001b[0m \u001b[1m1s\u001b[0m 2ms/step - loss: 208591.7969 - mean_squared_error: 57015791616.0000 - root_mean_squared_error: 238764.2188\n",
      "Epoch 22/100\n",
      "\u001b[1m516/516\u001b[0m \u001b[32m━━━━━━━━━━━━━━━━━━━━\u001b[0m\u001b[37m\u001b[0m \u001b[1m1s\u001b[0m 2ms/step - loss: 208471.6406 - mean_squared_error: 57014112256.0000 - root_mean_squared_error: 238754.0000\n",
      "Epoch 23/100\n",
      "\u001b[1m516/516\u001b[0m \u001b[32m━━━━━━━━━━━━━━━━━━━━\u001b[0m\u001b[37m\u001b[0m \u001b[1m1s\u001b[0m 2ms/step - loss: 209021.9688 - mean_squared_error: 57197436928.0000 - root_mean_squared_error: 239151.9688\n",
      "Epoch 24/100\n",
      "\u001b[1m516/516\u001b[0m \u001b[32m━━━━━━━━━━━━━━━━━━━━\u001b[0m\u001b[37m\u001b[0m \u001b[1m1s\u001b[0m 2ms/step - loss: 208616.1562 - mean_squared_error: 56998797312.0000 - root_mean_squared_error: 238738.0312\n",
      "Epoch 25/100\n",
      "\u001b[1m516/516\u001b[0m \u001b[32m━━━━━━━━━━━━━━━━━━━━\u001b[0m\u001b[37m\u001b[0m \u001b[1m1s\u001b[0m 2ms/step - loss: 206761.7031 - mean_squared_error: 55853076480.0000 - root_mean_squared_error: 236322.9844\n",
      "Epoch 26/100\n",
      "\u001b[1m516/516\u001b[0m \u001b[32m━━━━━━━━━━━━━━━━━━━━\u001b[0m\u001b[37m\u001b[0m \u001b[1m1s\u001b[0m 1ms/step - loss: 210107.4688 - mean_squared_error: 57804222464.0000 - root_mean_squared_error: 240405.5469\n",
      "Epoch 27/100\n",
      "\u001b[1m516/516\u001b[0m \u001b[32m━━━━━━━━━━━━━━━━━━━━\u001b[0m\u001b[37m\u001b[0m \u001b[1m1s\u001b[0m 2ms/step - loss: 209915.0000 - mean_squared_error: 57991835648.0000 - root_mean_squared_error: 240785.2031\n",
      "Epoch 28/100\n",
      "\u001b[1m516/516\u001b[0m \u001b[32m━━━━━━━━━━━━━━━━━━━━\u001b[0m\u001b[37m\u001b[0m \u001b[1m1s\u001b[0m 1ms/step - loss: 208316.6562 - mean_squared_error: 56638550016.0000 - root_mean_squared_error: 237984.3438\n",
      "Epoch 29/100\n",
      "\u001b[1m516/516\u001b[0m \u001b[32m━━━━━━━━━━━━━━━━━━━━\u001b[0m\u001b[37m\u001b[0m \u001b[1m1s\u001b[0m 2ms/step - loss: 207427.2188 - mean_squared_error: 56433520640.0000 - root_mean_squared_error: 237549.8281\n",
      "Epoch 30/100\n",
      "\u001b[1m516/516\u001b[0m \u001b[32m━━━━━━━━━━━━━━━━━━━━\u001b[0m\u001b[37m\u001b[0m \u001b[1m1s\u001b[0m 2ms/step - loss: 209639.7031 - mean_squared_error: 57674469376.0000 - root_mean_squared_error: 240148.2344\n",
      "Epoch 31/100\n",
      "\u001b[1m516/516\u001b[0m \u001b[32m━━━━━━━━━━━━━━━━━━━━\u001b[0m\u001b[37m\u001b[0m \u001b[1m1s\u001b[0m 2ms/step - loss: 207614.6406 - mean_squared_error: 56483393536.0000 - root_mean_squared_error: 237652.0312\n",
      "Epoch 32/100\n",
      "\u001b[1m516/516\u001b[0m \u001b[32m━━━━━━━━━━━━━━━━━━━━\u001b[0m\u001b[37m\u001b[0m \u001b[1m1s\u001b[0m 2ms/step - loss: 207598.6719 - mean_squared_error: 56482013184.0000 - root_mean_squared_error: 237647.5625\n",
      "Epoch 33/100\n",
      "\u001b[1m516/516\u001b[0m \u001b[32m━━━━━━━━━━━━━━━━━━━━\u001b[0m\u001b[37m\u001b[0m \u001b[1m1s\u001b[0m 2ms/step - loss: 207753.3906 - mean_squared_error: 56610353152.0000 - root_mean_squared_error: 237923.8438\n",
      "Epoch 34/100\n",
      "\u001b[1m516/516\u001b[0m \u001b[32m━━━━━━━━━━━━━━━━━━━━\u001b[0m\u001b[37m\u001b[0m \u001b[1m1s\u001b[0m 2ms/step - loss: 207379.0938 - mean_squared_error: 56244600832.0000 - root_mean_squared_error: 237149.9375\n",
      "Epoch 35/100\n",
      "\u001b[1m516/516\u001b[0m \u001b[32m━━━━━━━━━━━━━━━━━━━━\u001b[0m\u001b[37m\u001b[0m \u001b[1m1s\u001b[0m 2ms/step - loss: 208185.9375 - mean_squared_error: 56700461056.0000 - root_mean_squared_error: 238101.7188\n",
      "Epoch 36/100\n",
      "\u001b[1m516/516\u001b[0m \u001b[32m━━━━━━━━━━━━━━━━━━━━\u001b[0m\u001b[37m\u001b[0m \u001b[1m1s\u001b[0m 2ms/step - loss: 208284.8125 - mean_squared_error: 56706453504.0000 - root_mean_squared_error: 238117.7344\n",
      "Epoch 37/100\n",
      "\u001b[1m516/516\u001b[0m \u001b[32m━━━━━━━━━━━━━━━━━━━━\u001b[0m\u001b[37m\u001b[0m \u001b[1m1s\u001b[0m 2ms/step - loss: 205938.8750 - mean_squared_error: 55651725312.0000 - root_mean_squared_error: 235874.7188\n",
      "Epoch 38/100\n",
      "\u001b[1m516/516\u001b[0m \u001b[32m━━━━━━━━━━━━━━━━━━━━\u001b[0m\u001b[37m\u001b[0m \u001b[1m1s\u001b[0m 2ms/step - loss: 207990.8281 - mean_squared_error: 56599085056.0000 - root_mean_squared_error: 237892.0781\n",
      "Epoch 39/100\n",
      "\u001b[1m516/516\u001b[0m \u001b[32m━━━━━━━━━━━━━━━━━━━━\u001b[0m\u001b[37m\u001b[0m \u001b[1m1s\u001b[0m 2ms/step - loss: 207507.5781 - mean_squared_error: 56384028672.0000 - root_mean_squared_error: 237448.5469\n",
      "Epoch 40/100\n",
      "\u001b[1m516/516\u001b[0m \u001b[32m━━━━━━━━━━━━━━━━━━━━\u001b[0m\u001b[37m\u001b[0m \u001b[1m1s\u001b[0m 2ms/step - loss: 208176.0781 - mean_squared_error: 56932442112.0000 - root_mean_squared_error: 238594.5312\n",
      "Epoch 41/100\n",
      "\u001b[1m516/516\u001b[0m \u001b[32m━━━━━━━━━━━━━━━━━━━━\u001b[0m\u001b[37m\u001b[0m \u001b[1m1s\u001b[0m 2ms/step - loss: 206442.9844 - mean_squared_error: 55979573248.0000 - root_mean_squared_error: 236589.6875\n",
      "Epoch 42/100\n",
      "\u001b[1m516/516\u001b[0m \u001b[32m━━━━━━━━━━━━━━━━━━━━\u001b[0m\u001b[37m\u001b[0m \u001b[1m1s\u001b[0m 2ms/step - loss: 207200.7500 - mean_squared_error: 56087412736.0000 - root_mean_squared_error: 236806.3750\n",
      "Epoch 43/100\n",
      "\u001b[1m516/516\u001b[0m \u001b[32m━━━━━━━━━━━━━━━━━━━━\u001b[0m\u001b[37m\u001b[0m \u001b[1m1s\u001b[0m 2ms/step - loss: 208748.6406 - mean_squared_error: 57146597376.0000 - root_mean_squared_error: 239051.0781\n",
      "Epoch 44/100\n",
      "\u001b[1m516/516\u001b[0m \u001b[32m━━━━━━━━━━━━━━━━━━━━\u001b[0m\u001b[37m\u001b[0m \u001b[1m1s\u001b[0m 2ms/step - loss: 209412.8281 - mean_squared_error: 57356468224.0000 - root_mean_squared_error: 239466.9844\n",
      "Epoch 45/100\n",
      "\u001b[1m516/516\u001b[0m \u001b[32m━━━━━━━━━━━━━━━━━━━━\u001b[0m\u001b[37m\u001b[0m \u001b[1m1s\u001b[0m 2ms/step - loss: 209107.8750 - mean_squared_error: 57228455936.0000 - root_mean_squared_error: 239217.8906\n",
      "Epoch 46/100\n",
      "\u001b[1m516/516\u001b[0m \u001b[32m━━━━━━━━━━━━━━━━━━━━\u001b[0m\u001b[37m\u001b[0m \u001b[1m1s\u001b[0m 2ms/step - loss: 207605.8125 - mean_squared_error: 56365330432.0000 - root_mean_squared_error: 237405.8906\n",
      "Epoch 47/100\n",
      "\u001b[1m516/516\u001b[0m \u001b[32m━━━━━━━━━━━━━━━━━━━━\u001b[0m\u001b[37m\u001b[0m \u001b[1m1s\u001b[0m 2ms/step - loss: 207431.6875 - mean_squared_error: 56399106048.0000 - root_mean_squared_error: 237482.2812\n",
      "Epoch 48/100\n",
      "\u001b[1m516/516\u001b[0m \u001b[32m━━━━━━━━━━━━━━━━━━━━\u001b[0m\u001b[37m\u001b[0m \u001b[1m1s\u001b[0m 2ms/step - loss: 207490.0938 - mean_squared_error: 56451674112.0000 - root_mean_squared_error: 237580.1562\n",
      "Epoch 49/100\n",
      "\u001b[1m516/516\u001b[0m \u001b[32m━━━━━━━━━━━━━━━━━━━━\u001b[0m\u001b[37m\u001b[0m \u001b[1m1s\u001b[0m 2ms/step - loss: 207830.7812 - mean_squared_error: 56665186304.0000 - root_mean_squared_error: 238039.1094\n",
      "Epoch 50/100\n",
      "\u001b[1m516/516\u001b[0m \u001b[32m━━━━━━━━━━━━━━━━━━━━\u001b[0m\u001b[37m\u001b[0m \u001b[1m1s\u001b[0m 2ms/step - loss: 208797.8125 - mean_squared_error: 57164926976.0000 - root_mean_squared_error: 239088.2188\n",
      "Epoch 51/100\n",
      "\u001b[1m516/516\u001b[0m \u001b[32m━━━━━━━━━━━━━━━━━━━━\u001b[0m\u001b[37m\u001b[0m \u001b[1m1s\u001b[0m 2ms/step - loss: 206888.2812 - mean_squared_error: 56382726144.0000 - root_mean_squared_error: 237444.1719\n",
      "Epoch 52/100\n",
      "\u001b[1m516/516\u001b[0m \u001b[32m━━━━━━━━━━━━━━━━━━━━\u001b[0m\u001b[37m\u001b[0m \u001b[1m1s\u001b[0m 2ms/step - loss: 206888.2812 - mean_squared_error: 56058597376.0000 - root_mean_squared_error: 236751.2812\n",
      "Epoch 53/100\n",
      "\u001b[1m516/516\u001b[0m \u001b[32m━━━━━━━━━━━━━━━━━━━━\u001b[0m\u001b[37m\u001b[0m \u001b[1m1s\u001b[0m 2ms/step - loss: 206675.2188 - mean_squared_error: 56090935296.0000 - root_mean_squared_error: 236818.7500\n",
      "Epoch 54/100\n",
      "\u001b[1m516/516\u001b[0m \u001b[32m━━━━━━━━━━━━━━━━━━━━\u001b[0m\u001b[37m\u001b[0m \u001b[1m1s\u001b[0m 2ms/step - loss: 209041.7812 - mean_squared_error: 57163825152.0000 - root_mean_squared_error: 239077.2656\n",
      "Epoch 55/100\n",
      "\u001b[1m516/516\u001b[0m \u001b[32m━━━━━━━━━━━━━━━━━━━━\u001b[0m\u001b[37m\u001b[0m \u001b[1m1s\u001b[0m 2ms/step - loss: 208482.6719 - mean_squared_error: 56973811712.0000 - root_mean_squared_error: 238687.3750\n",
      "Epoch 56/100\n",
      "\u001b[1m516/516\u001b[0m \u001b[32m━━━━━━━━━━━━━━━━━━━━\u001b[0m\u001b[37m\u001b[0m \u001b[1m1s\u001b[0m 2ms/step - loss: 207276.2969 - mean_squared_error: 56443006976.0000 - root_mean_squared_error: 237566.9375\n",
      "Epoch 57/100\n",
      "\u001b[1m516/516\u001b[0m \u001b[32m━━━━━━━━━━━━━━━━━━━━\u001b[0m\u001b[37m\u001b[0m \u001b[1m1s\u001b[0m 2ms/step - loss: 206987.8281 - mean_squared_error: 56299659264.0000 - root_mean_squared_error: 237268.7969\n",
      "Epoch 58/100\n",
      "\u001b[1m516/516\u001b[0m \u001b[32m━━━━━━━━━━━━━━━━━━━━\u001b[0m\u001b[37m\u001b[0m \u001b[1m1s\u001b[0m 2ms/step - loss: 208212.4531 - mean_squared_error: 57002762240.0000 - root_mean_squared_error: 238744.4219\n",
      "Epoch 59/100\n",
      "\u001b[1m516/516\u001b[0m \u001b[32m━━━━━━━━━━━━━━━━━━━━\u001b[0m\u001b[37m\u001b[0m \u001b[1m1s\u001b[0m 2ms/step - loss: 208799.9219 - mean_squared_error: 56954953728.0000 - root_mean_squared_error: 238648.1562\n",
      "Epoch 60/100\n",
      "\u001b[1m516/516\u001b[0m \u001b[32m━━━━━━━━━━━━━━━━━━━━\u001b[0m\u001b[37m\u001b[0m \u001b[1m1s\u001b[0m 2ms/step - loss: 208619.8438 - mean_squared_error: 56952254464.0000 - root_mean_squared_error: 238643.6250\n",
      "Epoch 61/100\n",
      "\u001b[1m516/516\u001b[0m \u001b[32m━━━━━━━━━━━━━━━━━━━━\u001b[0m\u001b[37m\u001b[0m \u001b[1m1s\u001b[0m 2ms/step - loss: 207710.6562 - mean_squared_error: 56533303296.0000 - root_mean_squared_error: 237760.2969\n",
      "Epoch 62/100\n",
      "\u001b[1m516/516\u001b[0m \u001b[32m━━━━━━━━━━━━━━━━━━━━\u001b[0m\u001b[37m\u001b[0m \u001b[1m1s\u001b[0m 2ms/step - loss: 206622.3281 - mean_squared_error: 55948316672.0000 - root_mean_squared_error: 236508.0938\n",
      "Epoch 63/100\n",
      "\u001b[1m516/516\u001b[0m \u001b[32m━━━━━━━━━━━━━━━━━━━━\u001b[0m\u001b[37m\u001b[0m \u001b[1m1s\u001b[0m 2ms/step - loss: 209212.7656 - mean_squared_error: 57339400192.0000 - root_mean_squared_error: 239448.8438\n",
      "Epoch 64/100\n",
      "\u001b[1m516/516\u001b[0m \u001b[32m━━━━━━━━━━━━━━━━━━━━\u001b[0m\u001b[37m\u001b[0m \u001b[1m1s\u001b[0m 2ms/step - loss: 207376.2656 - mean_squared_error: 56247234560.0000 - root_mean_squared_error: 237153.7188\n",
      "Epoch 65/100\n",
      "\u001b[1m516/516\u001b[0m \u001b[32m━━━━━━━━━━━━━━━━━━━━\u001b[0m\u001b[37m\u001b[0m \u001b[1m1s\u001b[0m 2ms/step - loss: 207516.1406 - mean_squared_error: 56429879296.0000 - root_mean_squared_error: 237535.6406\n",
      "Epoch 66/100\n",
      "\u001b[1m516/516\u001b[0m \u001b[32m━━━━━━━━━━━━━━━━━━━━\u001b[0m\u001b[37m\u001b[0m \u001b[1m1s\u001b[0m 2ms/step - loss: 207975.8906 - mean_squared_error: 56869552128.0000 - root_mean_squared_error: 238470.0781\n",
      "Epoch 67/100\n",
      "\u001b[1m516/516\u001b[0m \u001b[32m━━━━━━━━━━━━━━━━━━━━\u001b[0m\u001b[37m\u001b[0m \u001b[1m1s\u001b[0m 2ms/step - loss: 208597.4219 - mean_squared_error: 56880181248.0000 - root_mean_squared_error: 238461.8281\n",
      "Epoch 68/100\n",
      "\u001b[1m516/516\u001b[0m \u001b[32m━━━━━━━━━━━━━━━━━━━━\u001b[0m\u001b[37m\u001b[0m \u001b[1m1s\u001b[0m 2ms/step - loss: 206668.1406 - mean_squared_error: 56140967936.0000 - root_mean_squared_error: 236910.1562\n",
      "Epoch 69/100\n",
      "\u001b[1m516/516\u001b[0m \u001b[32m━━━━━━━━━━━━━━━━━━━━\u001b[0m\u001b[37m\u001b[0m \u001b[1m1s\u001b[0m 2ms/step - loss: 207793.3125 - mean_squared_error: 56565202944.0000 - root_mean_squared_error: 237828.6875\n",
      "Epoch 70/100\n",
      "\u001b[1m516/516\u001b[0m \u001b[32m━━━━━━━━━━━━━━━━━━━━\u001b[0m\u001b[37m\u001b[0m \u001b[1m1s\u001b[0m 2ms/step - loss: 207842.6406 - mean_squared_error: 56801218560.0000 - root_mean_squared_error: 238326.6094\n",
      "Epoch 71/100\n",
      "\u001b[1m516/516\u001b[0m \u001b[32m━━━━━━━━━━━━━━━━━━━━\u001b[0m\u001b[37m\u001b[0m \u001b[1m1s\u001b[0m 2ms/step - loss: 206848.2188 - mean_squared_error: 56106881024.0000 - root_mean_squared_error: 236856.1094\n",
      "Epoch 72/100\n",
      "\u001b[1m516/516\u001b[0m \u001b[32m━━━━━━━━━━━━━━━━━━━━\u001b[0m\u001b[37m\u001b[0m \u001b[1m1s\u001b[0m 2ms/step - loss: 208172.1094 - mean_squared_error: 56687730688.0000 - root_mean_squared_error: 238083.6719\n",
      "Epoch 73/100\n",
      "\u001b[1m516/516\u001b[0m \u001b[32m━━━━━━━━━━━━━━━━━━━━\u001b[0m\u001b[37m\u001b[0m \u001b[1m1s\u001b[0m 2ms/step - loss: 207397.6406 - mean_squared_error: 56477241344.0000 - root_mean_squared_error: 237644.6406\n",
      "Epoch 74/100\n",
      "\u001b[1m516/516\u001b[0m \u001b[32m━━━━━━━━━━━━━━━━━━━━\u001b[0m\u001b[37m\u001b[0m \u001b[1m1s\u001b[0m 2ms/step - loss: 208440.2656 - mean_squared_error: 57102577664.0000 - root_mean_squared_error: 238953.8594\n",
      "Epoch 75/100\n",
      "\u001b[1m516/516\u001b[0m \u001b[32m━━━━━━━━━━━━━━━━━━━━\u001b[0m\u001b[37m\u001b[0m \u001b[1m1s\u001b[0m 2ms/step - loss: 207512.7812 - mean_squared_error: 56436342784.0000 - root_mean_squared_error: 237554.0625\n",
      "Epoch 76/100\n",
      "\u001b[1m516/516\u001b[0m \u001b[32m━━━━━━━━━━━━━━━━━━━━\u001b[0m\u001b[37m\u001b[0m \u001b[1m1s\u001b[0m 2ms/step - loss: 208263.9062 - mean_squared_error: 56850124800.0000 - root_mean_squared_error: 238425.1875\n",
      "Epoch 77/100\n",
      "\u001b[1m516/516\u001b[0m \u001b[32m━━━━━━━━━━━━━━━━━━━━\u001b[0m\u001b[37m\u001b[0m \u001b[1m1s\u001b[0m 2ms/step - loss: 207118.4219 - mean_squared_error: 56264192000.0000 - root_mean_squared_error: 237193.2188\n",
      "Epoch 78/100\n",
      "\u001b[1m516/516\u001b[0m \u001b[32m━━━━━━━━━━━━━━━━━━━━\u001b[0m\u001b[37m\u001b[0m \u001b[1m1s\u001b[0m 2ms/step - loss: 207145.6875 - mean_squared_error: 56170717184.0000 - root_mean_squared_error: 236995.7969\n",
      "Epoch 79/100\n",
      "\u001b[1m516/516\u001b[0m \u001b[32m━━━━━━━━━━━━━━━━━━━━\u001b[0m\u001b[37m\u001b[0m \u001b[1m1s\u001b[0m 2ms/step - loss: 207746.0000 - mean_squared_error: 56492339200.0000 - root_mean_squared_error: 237673.6250\n",
      "Epoch 80/100\n",
      "\u001b[1m516/516\u001b[0m \u001b[32m━━━━━━━━━━━━━━━━━━━━\u001b[0m\u001b[37m\u001b[0m \u001b[1m1s\u001b[0m 2ms/step - loss: 207775.7031 - mean_squared_error: 56838447104.0000 - root_mean_squared_error: 238405.9062\n",
      "Epoch 81/100\n",
      "\u001b[1m516/516\u001b[0m \u001b[32m━━━━━━━━━━━━━━━━━━━━\u001b[0m\u001b[37m\u001b[0m \u001b[1m1s\u001b[0m 2ms/step - loss: 206546.1875 - mean_squared_error: 55929405440.0000 - root_mean_squared_error: 236467.9531\n",
      "Epoch 82/100\n",
      "\u001b[1m516/516\u001b[0m \u001b[32m━━━━━━━━━━━━━━━━━━━━\u001b[0m\u001b[37m\u001b[0m \u001b[1m1s\u001b[0m 2ms/step - loss: 207190.8125 - mean_squared_error: 56259379200.0000 - root_mean_squared_error: 237178.0938\n",
      "Epoch 83/100\n",
      "\u001b[1m516/516\u001b[0m \u001b[32m━━━━━━━━━━━━━━━━━━━━\u001b[0m\u001b[37m\u001b[0m \u001b[1m1s\u001b[0m 2ms/step - loss: 208560.0000 - mean_squared_error: 57003995136.0000 - root_mean_squared_error: 238747.8281\n",
      "Epoch 84/100\n",
      "\u001b[1m516/516\u001b[0m \u001b[32m━━━━━━━━━━━━━━━━━━━━\u001b[0m\u001b[37m\u001b[0m \u001b[1m1s\u001b[0m 2ms/step - loss: 208354.0781 - mean_squared_error: 56862294016.0000 - root_mean_squared_error: 238449.8750\n",
      "Epoch 85/100\n",
      "\u001b[1m516/516\u001b[0m \u001b[32m━━━━━━━━━━━━━━━━━━━━\u001b[0m\u001b[37m\u001b[0m \u001b[1m1s\u001b[0m 2ms/step - loss: 208689.4375 - mean_squared_error: 56856834048.0000 - root_mean_squared_error: 238442.8438\n",
      "Epoch 86/100\n",
      "\u001b[1m516/516\u001b[0m \u001b[32m━━━━━━━━━━━━━━━━━━━━\u001b[0m\u001b[37m\u001b[0m \u001b[1m1s\u001b[0m 2ms/step - loss: 209857.8750 - mean_squared_error: 57773027328.0000 - root_mean_squared_error: 240351.8125\n",
      "Epoch 87/100\n",
      "\u001b[1m516/516\u001b[0m \u001b[32m━━━━━━━━━━━━━━━━━━━━\u001b[0m\u001b[37m\u001b[0m \u001b[1m1s\u001b[0m 2ms/step - loss: 207816.1406 - mean_squared_error: 56376475648.0000 - root_mean_squared_error: 237434.3594\n",
      "Epoch 88/100\n",
      "\u001b[1m516/516\u001b[0m \u001b[32m━━━━━━━━━━━━━━━━━━━━\u001b[0m\u001b[37m\u001b[0m \u001b[1m1s\u001b[0m 2ms/step - loss: 206708.4062 - mean_squared_error: 55927201792.0000 - root_mean_squared_error: 236475.8594\n",
      "Epoch 89/100\n",
      "\u001b[1m516/516\u001b[0m \u001b[32m━━━━━━━━━━━━━━━━━━━━\u001b[0m\u001b[37m\u001b[0m \u001b[1m1s\u001b[0m 2ms/step - loss: 207647.9688 - mean_squared_error: 56640004096.0000 - root_mean_squared_error: 237988.0781\n",
      "Epoch 90/100\n",
      "\u001b[1m516/516\u001b[0m \u001b[32m━━━━━━━━━━━━━━━━━━━━\u001b[0m\u001b[37m\u001b[0m \u001b[1m1s\u001b[0m 2ms/step - loss: 207511.3906 - mean_squared_error: 56274821120.0000 - root_mean_squared_error: 237195.1875\n",
      "Epoch 91/100\n",
      "\u001b[1m516/516\u001b[0m \u001b[32m━━━━━━━━━━━━━━━━━━━━\u001b[0m\u001b[37m\u001b[0m \u001b[1m1s\u001b[0m 2ms/step - loss: 207357.6094 - mean_squared_error: 56316674048.0000 - root_mean_squared_error: 237303.3750\n",
      "Epoch 92/100\n",
      "\u001b[1m516/516\u001b[0m \u001b[32m━━━━━━━━━━━━━━━━━━━━\u001b[0m\u001b[37m\u001b[0m \u001b[1m1s\u001b[0m 2ms/step - loss: 207810.1875 - mean_squared_error: 56757002240.0000 - root_mean_squared_error: 238233.8281\n",
      "Epoch 93/100\n",
      "\u001b[1m516/516\u001b[0m \u001b[32m━━━━━━━━━━━━━━━━━━━━\u001b[0m\u001b[37m\u001b[0m \u001b[1m1s\u001b[0m 2ms/step - loss: 207568.9375 - mean_squared_error: 56405979136.0000 - root_mean_squared_error: 237488.4219\n",
      "Epoch 94/100\n",
      "\u001b[1m516/516\u001b[0m \u001b[32m━━━━━━━━━━━━━━━━━━━━\u001b[0m\u001b[37m\u001b[0m \u001b[1m1s\u001b[0m 2ms/step - loss: 208921.2344 - mean_squared_error: 57390477312.0000 - root_mean_squared_error: 239540.2188\n",
      "Epoch 95/100\n",
      "\u001b[1m516/516\u001b[0m \u001b[32m━━━━━━━━━━━━━━━━━━━━\u001b[0m\u001b[37m\u001b[0m \u001b[1m1s\u001b[0m 2ms/step - loss: 207681.0625 - mean_squared_error: 56653049856.0000 - root_mean_squared_error: 237998.8750\n",
      "Epoch 96/100\n",
      "\u001b[1m516/516\u001b[0m \u001b[32m━━━━━━━━━━━━━━━━━━━━\u001b[0m\u001b[37m\u001b[0m \u001b[1m1s\u001b[0m 2ms/step - loss: 208251.1875 - mean_squared_error: 56990904320.0000 - root_mean_squared_error: 238719.7500\n",
      "Epoch 97/100\n",
      "\u001b[1m516/516\u001b[0m \u001b[32m━━━━━━━━━━━━━━━━━━━━\u001b[0m\u001b[37m\u001b[0m \u001b[1m1s\u001b[0m 2ms/step - loss: 209959.1875 - mean_squared_error: 57801564160.0000 - root_mean_squared_error: 240406.1875\n",
      "Epoch 98/100\n",
      "\u001b[1m516/516\u001b[0m \u001b[32m━━━━━━━━━━━━━━━━━━━━\u001b[0m\u001b[37m\u001b[0m \u001b[1m1s\u001b[0m 2ms/step - loss: 206864.1562 - mean_squared_error: 56114147328.0000 - root_mean_squared_error: 236869.1562\n",
      "Epoch 99/100\n",
      "\u001b[1m516/516\u001b[0m \u001b[32m━━━━━━━━━━━━━━━━━━━━\u001b[0m\u001b[37m\u001b[0m \u001b[1m1s\u001b[0m 2ms/step - loss: 208361.6406 - mean_squared_error: 56915533824.0000 - root_mean_squared_error: 238554.7188\n",
      "Epoch 100/100\n",
      "\u001b[1m516/516\u001b[0m \u001b[32m━━━━━━━━━━━━━━━━━━━━\u001b[0m\u001b[37m\u001b[0m \u001b[1m1s\u001b[0m 2ms/step - loss: 208777.5781 - mean_squared_error: 56946262016.0000 - root_mean_squared_error: 238629.0938\n"
     ]
    },
    {
     "data": {
      "text/plain": [
       "<keras.src.callbacks.history.History at 0x2bc729814e0>"
      ]
     },
     "execution_count": 7,
     "metadata": {},
     "output_type": "execute_result"
    }
   ],
   "source": [
    "from keras.optimizers import Adam\n",
    "from keras.losses import MeanAbsoluteError\n",
    "from keras.metrics import RootMeanSquaredError, MeanSquaredError, Accuracy\n",
    "\n",
    "ANN.compile( optimizer = Adam(), loss = MeanAbsoluteError(), metrics = [RootMeanSquaredError(), MeanSquaredError()] )\n",
    "ANN.fit( X_train, y_train, epochs = 100 )"
   ]
  },
  {
   "cell_type": "code",
   "execution_count": 10,
   "metadata": {},
   "outputs": [
    {
     "name": "stdout",
     "output_type": "stream",
     "text": [
      "\u001b[1m129/129\u001b[0m \u001b[32m━━━━━━━━━━━━━━━━━━━━\u001b[0m\u001b[37m\u001b[0m \u001b[1m0s\u001b[0m 1ms/step\n"
     ]
    },
    {
     "data": {
      "text/plain": [
       "-3.193291897850898"
      ]
     },
     "execution_count": 10,
     "metadata": {},
     "output_type": "execute_result"
    }
   ],
   "source": [
    "from sklearn.metrics import r2_score\n",
    "\n",
    "prediction = ANN.predict( X_test )\n",
    "r2_score(y_test, prediction)"
   ]
  }
 ],
 "metadata": {
  "kernelspec": {
   "display_name": "Python 3",
   "language": "python",
   "name": "python3"
  },
  "language_info": {
   "codemirror_mode": {
    "name": "ipython",
    "version": 3
   },
   "file_extension": ".py",
   "mimetype": "text/x-python",
   "name": "python",
   "nbconvert_exporter": "python",
   "pygments_lexer": "ipython3",
   "version": "3.10.7"
  }
 },
 "nbformat": 4,
 "nbformat_minor": 2
}
