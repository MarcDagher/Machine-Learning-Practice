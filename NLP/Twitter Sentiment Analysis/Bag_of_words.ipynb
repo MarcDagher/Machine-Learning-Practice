{
 "cells": [
  {
   "cell_type": "markdown",
   "metadata": {},
   "source": [
    "Goal:\n",
    "\n",
    "Sentiment analysis of tweets"
   ]
  },
  {
   "cell_type": "code",
   "execution_count": 1,
   "metadata": {},
   "outputs": [],
   "source": [
    "### Prepare dataframe\n",
    "import pandas as pd\n",
    "csv1 = pd.read_csv( \"twitter_training.csv\", header = None )\n",
    "csv2 = pd.read_csv( \"twitter_validation.csv\", header = None )\n",
    "dataframe = pd.concat( [csv1, csv2], ignore_index = True )\n",
    "\n",
    "# Drop useless columns and rows\n",
    "dataframe = dataframe.drop([0, 1], axis = 1)\n",
    "dataframe = dataframe.rename(columns = {2 : \"Sentiment\", 3 : \"Tweet\"})\n",
    "dataframe = dataframe.dropna( )\n",
    "\n",
    "# Reset indicies\n",
    "dataframe.reset_index(drop = True, inplace = True)\n",
    "\n",
    "# Reduce dataframe's size to solve memory issue\n",
    "# dataframe = dataframe.drop( range(30000, len(dataframe)) ) "
   ]
  },
  {
   "cell_type": "code",
   "execution_count": 2,
   "metadata": {},
   "outputs": [
    {
     "name": "stdout",
     "output_type": "stream",
     "text": [
      "Dataset's Length: 59838, Corpus' Length: 59838\n"
     ]
    }
   ],
   "source": [
    "### Text Preprocessing\n",
    "import re\n",
    "from nltk.corpus import stopwords\n",
    "from nltk.stem.porter import PorterStemmer\n",
    "from nltk.stem import WordNetLemmatizer\n",
    "\n",
    "stopwords = stopwords.words( \"english\" )\n",
    "corpus = []\n",
    "\n",
    "duplicates = []\n",
    "already_exists = set()\n",
    "\n",
    "for i in dataframe.index:\n",
    "  phrase = dataframe.loc[i, \"Tweet\"]\n",
    "\n",
    "  # 1 # Remove non letters\n",
    "  phrase = re.sub( \"[^a-zA-Z]\", \" \", phrase ).lower()\n",
    "\n",
    "  # print(f\"Original phrase: {phrase}\")\n",
    "\n",
    "  # 2 # Lemmatization\n",
    "  lemmatizer = WordNetLemmatizer()\n",
    "  phrase = [lemmatizer.lemmatize(word) for word in phrase.split() if word not in stopwords]\n",
    "  phrase = \" \".join(phrase)\n",
    "\n",
    "  # print(f\"Lemmaitzed phrase: {phrase}\")\n",
    "\n",
    "  # 2 # Remove stopwords and Remove suffixes (Stemming)\n",
    "  stemmer = PorterStemmer()\n",
    "  phrase = [stemmer.stem( word ) for word in phrase.split() if word not in stopwords]\n",
    "  phrase = \" \".join(phrase)\n",
    "\n",
    "  # print(f\"Stemmed phrase: {phrase}\")\n",
    "\n",
    "  # 3 # Check if the phrase already exists\n",
    "  if (phrase in already_exists) or (phrase == \"\") or (phrase == \" \"):\n",
    "  # 3a # Remove duplicates from the dataframe\n",
    "    dataframe = dataframe.drop( i )\n",
    "\n",
    "  elif not phrase in already_exists :\n",
    "    # 3b # Store unique phrase in corpus\n",
    "    corpus.append( phrase )\n",
    "\n",
    "    # 3c # Store phrase to keep track of duplicates\n",
    "    already_exists.add( phrase )\n",
    "    \n",
    "  # print(\"-----\")\n",
    "\n",
    "print(f\"Dataset's Length: {len(dataframe)}, Corpus' Length: {len(corpus)}\")"
   ]
  },
  {
   "cell_type": "code",
   "execution_count": 3,
   "metadata": {},
   "outputs": [],
   "source": [
    "# Create Bag of Words\n",
    "from sklearn.feature_extraction.text import CountVectorizer\n",
    "\n",
    "vectorizer = CountVectorizer()\n",
    "features = vectorizer.fit_transform( corpus ).toarray()\n",
    "label = dataframe[\"Sentiment\"]"
   ]
  },
  {
   "cell_type": "code",
   "execution_count": 4,
   "metadata": {},
   "outputs": [
    {
     "name": "stdout",
     "output_type": "stream",
     "text": [
      "47870 47870 11968 11968\n"
     ]
    }
   ],
   "source": [
    "# Split data\n",
    "from sklearn.model_selection import train_test_split\n",
    "X_train, X_test, y_train, y_test = train_test_split( features, label.values, test_size = 0.2 )\n",
    "\n",
    "print(len(X_train), len(y_train), len(X_test), len(y_test))\n",
    "len(X_train[0])\n",
    "\n",
    "# Prepare evaluation imports\n",
    "from sklearn.metrics import accuracy_score, confusion_matrix\n",
    "from sklearn.model_selection import cross_val_score"
   ]
  },
  {
   "cell_type": "code",
   "execution_count": null,
   "metadata": {},
   "outputs": [],
   "source": [
    "### Build Logistic Regression\n",
    "from sklearn.linear_model import LogisticRegression\n",
    "LR = LogisticRegression( max_iter = 10000 )\n",
    "LR.fit( X_train, y_train )\n",
    "LR_prediction = LR.predict( X_test )\n",
    "\n",
    "LR_matrix = confusion_matrix( y_test, LR_prediction )\n",
    "LR_accuracy = accuracy_score( y_test, LR_prediction )\n",
    "print(f\"Logistic Regression\\n{LR_matrix}\\n\\nAccuracy: {LR_accuracy:.2}\\n\")\n",
    "\n",
    "LR_score = cross_val_score(estimator = LR, y = y_test, X = X_test, cv = 10 )\n",
    "print(f\"\\nScore: {LR_score}\\n\\nMean Score: {LR_score.mean():.2}\")"
   ]
  },
  {
   "cell_type": "code",
   "execution_count": null,
   "metadata": {},
   "outputs": [],
   "source": [
    "### Build Decision Tree\n",
    "from sklearn.tree import DecisionTreeClassifier\n",
    "TREE = DecisionTreeClassifier(  )\n",
    "TREE.fit( X_train, y_train )\n",
    "TREE_prediction = TREE.predict( X_test )\n",
    "\n",
    "TREE_matrix = confusion_matrix( y_test, TREE_prediction )\n",
    "TREE_accuracy = accuracy_score( y_test, TREE_prediction )\n",
    "TREE_score = cross_val_score(estimator = TREE, y = y_test, X = X_test, cv = 10 )\n",
    "print(f\"Decision Tree\\n{TREE_matrix}\\n\\nAccuracy: {TREE_accuracy:.2}\\n\\nScore: {TREE_score}\\n\\nMean Score: {TREE_score.mean():.2}\")"
   ]
  },
  {
   "cell_type": "code",
   "execution_count": null,
   "metadata": {},
   "outputs": [],
   "source": [
    "### Build Random Forest\n",
    "from sklearn.ensemble import RandomForestClassifier\n",
    "FOREST = RandomForestClassifier( n_estimators = 100)\n",
    "FOREST.fit( X_train, y_train )\n",
    "FOREST_prediction = FOREST.predict( X_test )\n",
    "\n",
    "FOREST_matrix = confusion_matrix( y_test, FOREST_prediction )\n",
    "FOREST_accuracy = accuracy_score( y_test, FOREST_prediction )\n",
    "print(f\"Random Forest\\n{FOREST_matrix}\\n\\nAccuracy: {FOREST_accuracy:.2}\\n\")\n",
    "\n",
    "# FOREST_score = cross_val_score(estimator = FOREST, y = y_test, X = X_test, cv = 10 )\n",
    "# print(f\"\\nScore: {FOREST_score}\\n\\nMean Score: {FOREST_score.mean():.2}\")"
   ]
  },
  {
   "cell_type": "code",
   "execution_count": null,
   "metadata": {},
   "outputs": [],
   "source": [
    "### Build Support Vector Machine\n",
    "from sklearn.svm import SVC\n",
    "SVC = SVC( kernel = \"rbf\" )\n",
    "SVC.fit( X_train, y_train )\n",
    "SVC_prediction = SVC.predict( X_test )\n",
    "\n",
    "SVC_matrix = confusion_matrix( y_test, SVC_prediction )\n",
    "SVC_accuracy = accuracy_score( y_test, SVC_prediction )\n",
    "print(f\"SVM\\n{SVC_matrix}\\n\\nAccuracy: {SVC_accuracy:.2}\\n\")\n",
    "\n",
    "SVC_score = cross_val_score(estimator = SVC, y = y_test, X = X_test, cv = 2 )\n",
    "print(f\"Score: {SVC_score}\\n\\nMean Score: {SVC_score.mean():.2}\")"
   ]
  },
  {
   "cell_type": "code",
   "execution_count": null,
   "metadata": {},
   "outputs": [],
   "source": [
    "### Build Naive Bayes\n",
    "from sklearn.naive_bayes import GaussianNB\n",
    "NB = GaussianNB()\n",
    "NB.fit( X_train, y_train )\n",
    "NB_prediction = NB.predict( X_test )\n",
    "\n",
    "NB_matrix = confusion_matrix( y_test, NB_prediction )\n",
    "NB_accuracy = accuracy_score( y_test, NB_prediction )\n",
    "print(f\"Naive Bayes\\n{NB_matrix}\\n\\nAccuracy: {NB_accuracy:.2}\\n\")\n",
    "\n",
    "NB_score = cross_val_score(estimator = NB, y = y_test, X = X_test, cv = 10 )\n",
    "print(f\"\\nScore: {NB_score}\\n\\nMean Score: {NB_score.mean():.2}\")"
   ]
  },
  {
   "cell_type": "code",
   "execution_count": null,
   "metadata": {},
   "outputs": [],
   "source": [
    "### Build K-Nearest Neighbors\n",
    "from sklearn.neighbors import KNeighborsClassifier\n",
    "KNN = KNeighborsClassifier( n_neighbors = 5 )\n",
    "KNN.fit( X_train, y_train )\n",
    "KNN_prediction = KNN.predict( X_test )\n",
    "\n",
    "KNN_matrix = confusion_matrix( y_test, KNN_prediction )\n",
    "KNN_accuracy = accuracy_score( y_test, KNN_prediction )\n",
    "print(f\"K-Nearest Neighbors\\n{KNN_matrix}\\n\\nAccuracy: {KNN_accuracy:.2}\\n\")\n",
    "\n",
    "KNN_score = cross_val_score(estimator = KNN, y = y_test, X = X_test, cv = 10 )\n",
    "print(f\"\\nScore: {KNN_score}\\n\\nMean Score: {KNN_score.mean():.2}\")"
   ]
  }
 ],
 "metadata": {
  "kernelspec": {
   "display_name": "Python 3",
   "language": "python",
   "name": "python3"
  },
  "language_info": {
   "codemirror_mode": {
    "name": "ipython",
    "version": 3
   },
   "file_extension": ".py",
   "mimetype": "text/x-python",
   "name": "python",
   "nbconvert_exporter": "python",
   "pygments_lexer": "ipython3",
   "version": "3.10.7"
  }
 },
 "nbformat": 4,
 "nbformat_minor": 2
}
