{
 "cells": [
  {
   "cell_type": "markdown",
   "metadata": {},
   "source": [
    "Goal:\n",
    "\n",
    "Sentiment analysis of tweets"
   ]
  },
  {
   "cell_type": "code",
   "execution_count": 1,
   "metadata": {},
   "outputs": [],
   "source": [
    "### Prepare dataframe\n",
    "import pandas as pd\n",
    "\n",
    "dataframe = pd.read_csv(\"Twitter_Sentiment.csv\")\n",
    "\n",
    "# Drop useless columns and empty rows\n",
    "dataframe = dataframe.drop(['0', '1'], axis = 1)\n",
    "dataframe = dataframe.rename(columns = {'2' : \"Sentiment\", '3' : \"Tweet\"})\n",
    "dataframe = dataframe.dropna( )\n",
    "\n",
    "# Reset indicies\n",
    "dataframe.reset_index(drop = True, inplace = True)"
   ]
  },
  {
   "cell_type": "code",
   "execution_count": 2,
   "metadata": {},
   "outputs": [
    {
     "name": "stdout",
     "output_type": "stream",
     "text": [
      "Dataset's Length: 59838, Corpus' Length: 59838\n"
     ]
    }
   ],
   "source": [
    "### Text Preprocessing\n",
    "import re\n",
    "from nltk.corpus import stopwords\n",
    "from nltk.stem.porter import PorterStemmer\n",
    "from nltk.stem import WordNetLemmatizer\n",
    "\n",
    "stopwords = stopwords.words( \"english\" )\n",
    "corpus = []\n",
    "\n",
    "duplicates = []\n",
    "already_exists = set()\n",
    "\n",
    "for i in dataframe.index:\n",
    "  phrase = dataframe.loc[i, \"Tweet\"]\n",
    "\n",
    "  # 1 # Remove non letters\n",
    "  phrase = re.sub( \"[^a-zA-Z]\", \" \", phrase ).lower()\n",
    "\n",
    "  # print(f\"Original phrase: {phrase}\")\n",
    "\n",
    "  # 2 # Lemmatization\n",
    "  lemmatizer = WordNetLemmatizer()\n",
    "  phrase = [lemmatizer.lemmatize(word) for word in phrase.split() if word not in stopwords]\n",
    "  phrase = \" \".join(phrase)\n",
    "\n",
    "  # print(f\"Lemmaitzed phrase: {phrase}\")\n",
    "\n",
    "  # 2 # Remove stopwords and Remove suffixes (Stemming)\n",
    "  stemmer = PorterStemmer()\n",
    "  phrase = [stemmer.stem( word ) for word in phrase.split() if word not in stopwords]\n",
    "  phrase = \" \".join(phrase)\n",
    "\n",
    "  # print(f\"Stemmed phrase: {phrase}\")\n",
    "\n",
    "  # 3 # Check if the phrase already exists\n",
    "  if (phrase in already_exists) or (phrase == \"\") or (phrase == \" \"):\n",
    "  # 3a # Remove duplicates from the dataframe\n",
    "    dataframe = dataframe.drop( i )\n",
    "\n",
    "  elif not (phrase in already_exists) :\n",
    "    # 3b # Store unique phrase in corpus\n",
    "    corpus.append( phrase )\n",
    "    # 3c # Store phrase to keep track of duplicates\n",
    "    already_exists.add( phrase )\n",
    "    \n",
    "  # print(\"-----\")\n",
    "\n",
    "print(f\"Dataset's Length: {len(dataframe)}, Corpus' Length: {len(corpus)}\")"
   ]
  },
  {
   "cell_type": "code",
   "execution_count": 3,
   "metadata": {},
   "outputs": [
    {
     "name": "stdout",
     "output_type": "stream",
     "text": [
      "Number of phrases: 59838\n",
      "Number of words in the corpus: 22774\n"
     ]
    }
   ],
   "source": [
    "# Create Bag of Words and label\n",
    "from sklearn.feature_extraction.text import CountVectorizer\n",
    "\n",
    "vectorizer = CountVectorizer()\n",
    "features = vectorizer.fit_transform( corpus ).toarray()\n",
    "label = dataframe[\"Sentiment\"]\n",
    "label = label.reset_index( drop = True ) # To later remove the unfrequent words\n",
    "\n",
    "print(f\"Number of phrases: {len(features)}\\nNumber of words in the corpus: {len(features[0])}\")"
   ]
  },
  {
   "cell_type": "code",
   "execution_count": 4,
   "metadata": {},
   "outputs": [],
   "source": [
    "# Checking the count of words in the bag of words\n",
    "words = vectorizer.get_feature_names_out() # get the words\n",
    "BoW_df = pd.DataFrame(features, columns = words) # create dataframe of words and their count\n",
    "\n",
    "# Create a dictionary of {Word : Number of times it was used}\n",
    "number_of_times_word_is_used = {}\n",
    "for word in BoW_df.columns:\n",
    "  total = sum(BoW_df[word])\n",
    "  number_of_times_word_is_used[word] = total"
   ]
  },
  {
   "cell_type": "code",
   "execution_count": 5,
   "metadata": {},
   "outputs": [
    {
     "name": "stdout",
     "output_type": "stream",
     "text": [
      "Number of words counted less than 40 times: 20436\n",
      "\n"
     ]
    }
   ],
   "source": [
    "### Use the dictionary to clean the corpus by removing the words that are not frequently found (counted less than 40 times)\n",
    "\n",
    "# Store all the words that were counted less than 40 times\n",
    "not_frequent_words = set()\n",
    "for word, count in number_of_times_word_is_used.items():\n",
    "  if count < 40:\n",
    "    not_frequent_words.add( word )\n",
    "\n",
    "print(f\"Number of words counted less than 40 times: {len(not_frequent_words)}\\n\")"
   ]
  },
  {
   "cell_type": "code",
   "execution_count": 6,
   "metadata": {},
   "outputs": [],
   "source": [
    "### Remove the unfrequent words from the corpus\n",
    "\n",
    "indicies_to_remove = [] # To later remove them from the label and the corpus\n",
    "\n",
    "for i in range(len(corpus)):\n",
    "  phrase = corpus[i]\n",
    "  new_phrase = []\n",
    "\n",
    "  # Keep the words that are not in the not_frequent list  \n",
    "  for word in phrase.split():\n",
    "    if not (word in not_frequent_words):\n",
    "      new_phrase.append(word)\n",
    "  \n",
    "  new_phrase = \" \".join(new_phrase)\n",
    "  # If the phrase is empty (all the words in the phrase are not frequent), save the phrase's index to remove it and remove its label \n",
    "  if new_phrase == \"\":\n",
    "    indicies_to_remove.append(i)\n",
    "  \n",
    "  # Replace the current phrase in the corpus with the new_phrase\n",
    "  corpus[i] = new_phrase\n",
    "\n",
    "\n",
    "# Remove the empty phrases and their label\n",
    "for index in indicies_to_remove:\n",
    "  label = label.drop( index )\n",
    "  corpus.remove( \"\" )"
   ]
  },
  {
   "cell_type": "code",
   "execution_count": 7,
   "metadata": {},
   "outputs": [
    {
     "name": "stdout",
     "output_type": "stream",
     "text": [
      "Number of phrases: 59517\n",
      "Number of words in the corpus: 2338\n",
      "Number of labels: 59517\n"
     ]
    }
   ],
   "source": [
    "# Create new Bag of Words with new features\n",
    "\n",
    "vectorizer = CountVectorizer()\n",
    "features = vectorizer.fit_transform( corpus ).toarray()\n",
    "\n",
    "print(f\"Number of phrases: {len(features)}\\nNumber of words in the corpus: {len(features[0])}\\nNumber of labels: {len(label)}\")"
   ]
  },
  {
   "cell_type": "code",
   "execution_count": 8,
   "metadata": {},
   "outputs": [
    {
     "name": "stdout",
     "output_type": "stream",
     "text": [
      "X_train: 47613, y_train: 47613, X_test: 11904, y_test: 11904\n",
      "Length of element in X_train: 2338\n"
     ]
    }
   ],
   "source": [
    "# Split data\n",
    "from sklearn.model_selection import train_test_split\n",
    "X_train, X_test, y_train, y_test = train_test_split( features, label.values, test_size = 0.2 )\n",
    "\n",
    "print(f\"X_train: {len(X_train)}, y_train: {len(y_train)}, X_test: {len(X_test)}, y_test: {len(y_test)}\")\n",
    "print(f\"Length of element in X_train: {len(X_train[0])}\")\n",
    "\n",
    "# Prepare evaluation imports\n",
    "from sklearn.metrics import accuracy_score, confusion_matrix\n",
    "from sklearn.model_selection import cross_val_score"
   ]
  },
  {
   "cell_type": "code",
   "execution_count": 9,
   "metadata": {},
   "outputs": [
    {
     "name": "stdout",
     "output_type": "stream",
     "text": [
      "Logistic Regression\n",
      "[[1071  360  260  421]\n",
      " [ 200 2694  300  335]\n",
      " [ 298  453 1812  513]\n",
      " [ 252  382  363 2190]]\n",
      "\n",
      "Accuracy: 0.65\n",
      "\n",
      "\n",
      "Score: [0.6070529  0.59529807 0.58942065 0.61125105 0.60168067 0.62521008\n",
      " 0.62436975 0.61512605 0.61596639 0.62436975]\n",
      "\n",
      "Mean Score: 0.61\n"
     ]
    }
   ],
   "source": [
    "### Build Logistic Regression\n",
    "from sklearn.linear_model import LogisticRegression\n",
    "LR = LogisticRegression( max_iter = 10000 )\n",
    "LR.fit( X_train, y_train )\n",
    "LR_prediction = LR.predict( X_test )\n",
    "\n",
    "LR_matrix = confusion_matrix( y_test, LR_prediction )\n",
    "LR_accuracy = accuracy_score( y_test, LR_prediction )\n",
    "print(f\"Logistic Regression\\n{LR_matrix}\\n\\nAccuracy: {LR_accuracy:.2}\\n\")\n",
    "\n",
    "LR_score = cross_val_score(estimator = LR, y = y_test, X = X_test, cv = 10 )\n",
    "print(f\"\\nScore: {LR_score}\\n\\nMean Score: {LR_score.mean():.2}\")"
   ]
  },
  {
   "cell_type": "code",
   "execution_count": 10,
   "metadata": {},
   "outputs": [
    {
     "name": "stdout",
     "output_type": "stream",
     "text": [
      "Decision Tree\n",
      "[[1585  178  126  223]\n",
      " [ 183 2921  191  234]\n",
      " [ 174  233 2456  213]\n",
      " [ 271  260  195 2461]]\n",
      "\n",
      "Accuracy: 0.79\n",
      "\n",
      "Score: [0.59865659 0.59109992 0.60033585 0.58354324 0.58823529 0.59411765\n",
      " 0.62184874 0.61848739 0.61764706 0.6092437 ]\n",
      "\n",
      "Mean Score: 0.6\n"
     ]
    }
   ],
   "source": [
    "### Build Decision Tree\n",
    "from sklearn.tree import DecisionTreeClassifier\n",
    "TREE = DecisionTreeClassifier(  )\n",
    "TREE.fit( X_train, y_train )\n",
    "TREE_prediction = TREE.predict( X_test )\n",
    "\n",
    "TREE_matrix = confusion_matrix( y_test, TREE_prediction )\n",
    "TREE_accuracy = accuracy_score( y_test, TREE_prediction )\n",
    "TREE_score = cross_val_score(estimator = TREE, y = y_test, X = X_test, cv = 10 )\n",
    "print(f\"Decision Tree\\n{TREE_matrix}\\n\\nAccuracy: {TREE_accuracy:.2}\\n\\nScore: {TREE_score}\\n\\nMean Score: {TREE_score.mean():.2}\")"
   ]
  },
  {
   "cell_type": "code",
   "execution_count": 11,
   "metadata": {},
   "outputs": [
    {
     "name": "stdout",
     "output_type": "stream",
     "text": [
      "Random Forest\n",
      "[[1749  118   76  169]\n",
      " [  48 3282   73  126]\n",
      " [  65  128 2739  144]\n",
      " [  88  128   64 2907]]\n",
      "\n",
      "Accuracy: 0.9\n",
      "\n",
      "\n",
      "Score: [0.68261965 0.68513854 0.6759026  0.69269521 0.67478992 0.71176471\n",
      " 0.67983193 0.68067227 0.69495798 0.69327731]\n",
      "\n",
      "Mean Score: 0.69\n"
     ]
    }
   ],
   "source": [
    "### Build Random Forest\n",
    "from sklearn.ensemble import RandomForestClassifier\n",
    "FOREST = RandomForestClassifier( n_estimators = 100)\n",
    "FOREST.fit( X_train, y_train )\n",
    "FOREST_prediction = FOREST.predict( X_test )\n",
    "\n",
    "FOREST_matrix = confusion_matrix( y_test, FOREST_prediction )\n",
    "FOREST_accuracy = accuracy_score( y_test, FOREST_prediction )\n",
    "print(f\"Random Forest\\n{FOREST_matrix}\\n\\nAccuracy: {FOREST_accuracy:.2}\\n\")\n",
    "\n",
    "FOREST_score = cross_val_score(estimator = FOREST, y = y_test, X = X_test, cv = 10 )\n",
    "print(f\"\\nScore: {FOREST_score}\\n\\nMean Score: {FOREST_score.mean():.2}\")"
   ]
  },
  {
   "cell_type": "code",
   "execution_count": 12,
   "metadata": {},
   "outputs": [
    {
     "name": "stdout",
     "output_type": "stream",
     "text": [
      "Naive Bayes\n",
      "[[1896   59   30  127]\n",
      " [1656 1265  174  434]\n",
      " [1547  259  754  516]\n",
      " [1815  150  117 1105]]\n",
      "\n",
      "Accuracy: 0.42\n",
      "\n",
      "\n",
      "Score: [0.37531486 0.38371117 0.38371117 0.37783375 0.39495798 0.38151261\n",
      " 0.39747899 0.38319328 0.38739496 0.40084034]\n",
      "\n",
      "Mean Score: 0.39\n"
     ]
    }
   ],
   "source": [
    "### Build Naive Bayes\n",
    "from sklearn.naive_bayes import GaussianNB\n",
    "NB = GaussianNB()\n",
    "NB.fit( X_train, y_train )\n",
    "NB_prediction = NB.predict( X_test )\n",
    "\n",
    "NB_matrix = confusion_matrix( y_test, NB_prediction )\n",
    "NB_accuracy = accuracy_score( y_test, NB_prediction )\n",
    "print(f\"Naive Bayes\\n{NB_matrix}\\n\\nAccuracy: {NB_accuracy:.2}\\n\")\n",
    "\n",
    "NB_score = cross_val_score(estimator = NB, y = y_test, X = X_test, cv = 10 )\n",
    "print(f\"\\nScore: {NB_score}\\n\\nMean Score: {NB_score.mean():.2}\")"
   ]
  },
  {
   "cell_type": "code",
   "execution_count": 13,
   "metadata": {},
   "outputs": [
    {
     "name": "stdout",
     "output_type": "stream",
     "text": [
      "K-Nearest Neighbors\n",
      "[[1723  157   70  162]\n",
      " [ 157 3180   56  136]\n",
      " [ 148  278 2505  145]\n",
      " [ 177  263  142 2605]]\n",
      "\n",
      "Accuracy: 0.84\n",
      "\n",
      "\n",
      "Score: [0.48530647 0.48782536 0.50713686 0.52980688 0.51596639 0.54285714\n",
      " 0.53697479 0.50588235 0.51428571 0.53109244]\n",
      "\n",
      "Mean Score: 0.52\n"
     ]
    }
   ],
   "source": [
    "### Build K-Nearest Neighbors\n",
    "from sklearn.neighbors import KNeighborsClassifier\n",
    "KNN = KNeighborsClassifier( n_neighbors = 5 )\n",
    "KNN.fit( X_train, y_train )\n",
    "KNN_prediction = KNN.predict( X_test )\n",
    "\n",
    "KNN_matrix = confusion_matrix( y_test, KNN_prediction )\n",
    "KNN_accuracy = accuracy_score( y_test, KNN_prediction )\n",
    "print(f\"K-Nearest Neighbors\\n{KNN_matrix}\\n\\nAccuracy: {KNN_accuracy:.2}\\n\")\n",
    "\n",
    "KNN_score = cross_val_score(estimator = KNN, y = y_test, X = X_test, cv = 10 )\n",
    "print(f\"\\nScore: {KNN_score}\\n\\nMean Score: {KNN_score.mean():.2}\")"
   ]
  },
  {
   "cell_type": "code",
   "execution_count": 14,
   "metadata": {},
   "outputs": [
    {
     "name": "stdout",
     "output_type": "stream",
     "text": [
      "SVM\n",
      "[[1466  246   98  302]\n",
      " [  45 3256   72  156]\n",
      " [  88  258 2433  297]\n",
      " [  84  243  108 2752]]\n",
      "\n",
      "Accuracy: 0.83\n",
      "\n",
      "Score: [0.65910999 0.65910999 0.63643997 0.66246851 0.6394958  0.69159664\n",
      " 0.67142857 0.67226891 0.65546218 0.66806723]\n",
      "\n",
      "Mean Score: 0.66\n"
     ]
    }
   ],
   "source": [
    "### Build Support Vector Machine\n",
    "from sklearn.svm import SVC\n",
    "SVC = SVC( kernel = \"rbf\" )\n",
    "SVC.fit( X_train, y_train )\n",
    "SVC_prediction = SVC.predict( X_test )\n",
    "\n",
    "SVC_matrix = confusion_matrix( y_test, SVC_prediction )\n",
    "SVC_accuracy = accuracy_score( y_test, SVC_prediction )\n",
    "print(f\"SVM\\n{SVC_matrix}\\n\\nAccuracy: {SVC_accuracy:.2}\\n\")\n",
    "\n",
    "SVC_score = cross_val_score(estimator = SVC, y = y_test, X = X_test, cv = 10 )\n",
    "print(f\"Score: {SVC_score}\\n\\nMean Score: {SVC_score.mean():.2}\")"
   ]
  }
 ],
 "metadata": {
  "kernelspec": {
   "display_name": "Python 3",
   "language": "python",
   "name": "python3"
  },
  "language_info": {
   "codemirror_mode": {
    "name": "ipython",
    "version": 3
   },
   "file_extension": ".py",
   "mimetype": "text/x-python",
   "name": "python",
   "nbconvert_exporter": "python",
   "pygments_lexer": "ipython3",
   "version": "3.10.7"
  }
 },
 "nbformat": 4,
 "nbformat_minor": 2
}
