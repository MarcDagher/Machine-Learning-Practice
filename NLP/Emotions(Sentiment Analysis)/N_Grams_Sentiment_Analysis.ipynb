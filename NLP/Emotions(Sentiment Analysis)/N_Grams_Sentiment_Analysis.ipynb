{
 "cells": [
  {
   "cell_type": "code",
   "execution_count": 74,
   "metadata": {},
   "outputs": [],
   "source": [
    "### Import Dataset\n",
    "import pandas as pd\n",
    "dataframe = pd.read_csv(\"Emotions.csv\")\n",
    "dataframe = dataframe.drop( range(2000, len(dataframe)) )"
   ]
  },
  {
   "cell_type": "code",
   "execution_count": 75,
   "metadata": {},
   "outputs": [
    {
     "name": "stdout",
     "output_type": "stream",
     "text": [
      "Original number of phrases: 2000\n",
      "Corpus: 1993\n",
      "Labels: 1993\n"
     ]
    }
   ],
   "source": [
    "### Basic Text Preprocessing\n",
    "import re\n",
    "from nltk.stem.porter import PorterStemmer \n",
    "from nltk.stem import WordNetLemmatizer\n",
    "from nltk.corpus import stopwords\n",
    "\n",
    "print(f\"Original number of phrases: {len(dataframe)}\")\n",
    "\n",
    "stopwords = stopwords.words(\"english\")\n",
    "corpus = []\n",
    "duplicates = set()\n",
    "\n",
    "for i in range(len(dataframe)):\n",
    "\n",
    "  # Lower case and Remove non-letters\n",
    "  text = re.sub(\"[^a-zA-Z]\", \" \", dataframe.loc[i, \"text\"]).lower().split()\n",
    "  \n",
    "  # Lemmatization and Stemming\n",
    "  stemmer = PorterStemmer()\n",
    "  lemmatizer = WordNetLemmatizer()\n",
    "  text = [stemmer.stem(lemmatizer.lemmatize(word)) for word in text if word not in stopwords]\n",
    "  text = \" \".join(text)\n",
    "  \n",
    "  ### Remove duplicate phrases\n",
    "  if text in duplicates:\n",
    "    dataframe = dataframe.drop(i)\n",
    "  else:\n",
    "    # Add text to corpus\n",
    "    corpus.append(text)\n",
    "\n",
    "  duplicates.add(text)  \n",
    "\n",
    "print(f\"Corpus: {len(corpus)}\\nLabels: {len(dataframe)}\")"
   ]
  },
  {
   "cell_type": "code",
   "execution_count": 76,
   "metadata": {},
   "outputs": [
    {
     "name": "stdout",
     "output_type": "stream",
     "text": [
      "Phrases: 1993\n",
      "Labels: 1993\n",
      "N-Grams: 11957\n"
     ]
    }
   ],
   "source": [
    "### Create Bag of N-grams\n",
    "from sklearn.feature_extraction.text import CountVectorizer\n",
    "\n",
    "vectorizer = CountVectorizer( ngram_range = (3, 3) )\n",
    "\n",
    "# List of vectorized phrases\n",
    "vectorized_features = vectorizer.fit_transform(corpus).toarray()\n",
    "label = dataframe[\"label\"]\n",
    "\n",
    "phrase_set = vectorizer.get_feature_names_out() \n",
    "\n",
    "print(f\"Phrases: {len(vectorized_features)}\\nLabels: {len(label)}\\nN-Grams: {len(phrase_set)}\")"
   ]
  },
  {
   "cell_type": "code",
   "execution_count": 77,
   "metadata": {},
   "outputs": [
    {
     "name": "stdout",
     "output_type": "stream",
     "text": [
      "X_train: 1594, y_train: 1594, X_test: 399, y_test: 399\n",
      "Words in X_train: 11957\n"
     ]
    }
   ],
   "source": [
    "### Split data\n",
    "from sklearn.model_selection import train_test_split\n",
    "X_train, X_test, y_train, y_test = train_test_split( vectorized_features, label.values, test_size = 0.2 )\n",
    "\n",
    "print(f\"X_train: {len(X_train)}, y_train: {len(y_train)}, X_test: {len(X_test)}, y_test: {len(y_test)}\")\n",
    "print(f\"Words in X_train: {len(X_train[0])}\")\n",
    "\n",
    "### Prepare evaluation imports\n",
    "from sklearn.metrics import accuracy_score, confusion_matrix\n",
    "from sklearn.model_selection import cross_val_score"
   ]
  },
  {
   "cell_type": "code",
   "execution_count": 78,
   "metadata": {},
   "outputs": [
    {
     "name": "stdout",
     "output_type": "stream",
     "text": [
      "Logistic Regression\n",
      "[[ 13  45   0]\n",
      " [  0 194   0]\n",
      " [  0 107  40]]\n",
      "\n",
      "Accuracy: 0.62\n",
      "\n",
      "\n",
      "Score: [0.5625     0.6        0.5875     0.60625    0.57861635 0.63522013\n",
      " 0.61006289 0.61006289 0.63522013 0.57232704]\n",
      "\n",
      "Mean Score: 0.6\n"
     ]
    }
   ],
   "source": [
    "### Build Logistic Regression\n",
    "from sklearn.linear_model import LogisticRegression\n",
    "LR = LogisticRegression( max_iter = 10000 )\n",
    "LR.fit( X_train, y_train )\n",
    "LR_prediction = LR.predict( X_test )\n",
    "\n",
    "LR_matrix = confusion_matrix( y_test, LR_prediction )\n",
    "LR_accuracy = accuracy_score( y_test, LR_prediction )\n",
    "print(f\"Logistic Regression\\n{LR_matrix}\\n\\nAccuracy: {LR_accuracy:.2}\\n\")\n",
    "\n",
    "LR_score = cross_val_score(estimator = LR, y = y_train, X = X_train, cv = 10 )\n",
    "print(f\"\\nScore: {LR_score}\\n\\nMean Score: {LR_score.mean():.2}\")"
   ]
  },
  {
   "cell_type": "code",
   "execution_count": 79,
   "metadata": {},
   "outputs": [],
   "source": [
    "# ### Build Decision Tree\n",
    "# from sklearn.tree import DecisionTreeClassifier\n",
    "# TREE = DecisionTreeClassifier(  )\n",
    "# TREE.fit( X_train, y_train )\n",
    "# TREE_prediction = TREE.predict( X_test )\n",
    "\n",
    "# TREE_matrix = confusion_matrix( y_test, TREE_prediction )\n",
    "# TREE_accuracy = accuracy_score( y_test, TREE_prediction )\n",
    "# TREE_score = cross_val_score(estimator = TREE, y = y_train, X = X_train, cv = 10 )\n",
    "# print(f\"Decision Tree\\n{TREE_matrix}\\n\\nAccuracy: {TREE_accuracy:.2}\\n\\nScore: {TREE_score}\\n\\nMean Score: {TREE_score.mean():.2}\")"
   ]
  },
  {
   "cell_type": "code",
   "execution_count": 80,
   "metadata": {},
   "outputs": [],
   "source": [
    "# ## Build Random Forest\n",
    "# from sklearn.ensemble import RandomForestClassifier\n",
    "# FOREST = RandomForestClassifier( n_estimators = 100)\n",
    "# FOREST.fit( X_train, y_train )\n",
    "# FOREST_prediction = FOREST.predict( X_test )\n",
    "\n",
    "# FOREST_matrix = confusion_matrix( y_test, FOREST_prediction )\n",
    "# FOREST_accuracy = accuracy_score( y_test, FOREST_prediction )\n",
    "# print(f\"Random Forest\\n{FOREST_matrix}\\n\\nAccuracy: {FOREST_accuracy:.2}\\n\")\n",
    "\n",
    "# FOREST_score = cross_val_score(estimator = FOREST, y = y_train, X = X_train, cv = 10 )\n",
    "# print(f\"\\nScore: {FOREST_score}\\n\\nMean Score: {FOREST_score.mean():.2}\")"
   ]
  },
  {
   "cell_type": "code",
   "execution_count": 81,
   "metadata": {},
   "outputs": [],
   "source": [
    "# ### Build Naive Bayes\n",
    "# from sklearn.naive_bayes import GaussianNB\n",
    "# NB = GaussianNB()\n",
    "# NB.fit( X_train, y_train )\n",
    "# NB_prediction = NB.predict( X_test )\n",
    "\n",
    "# NB_matrix = confusion_matrix( y_test, NB_prediction )\n",
    "# NB_accuracy = accuracy_score( y_test, NB_prediction )\n",
    "# print(f\"Naive Bayes\\n{NB_matrix}\\n\\nAccuracy: {NB_accuracy:.2}\\n\")\n",
    "\n",
    "# NB_score = cross_val_score(estimator = NB, y = y_train, X = X_train, cv = 10 )\n",
    "# print(f\"\\nScore: {NB_score}\\n\\nMean Score: {NB_score.mean():.2}\")"
   ]
  },
  {
   "cell_type": "code",
   "execution_count": 82,
   "metadata": {},
   "outputs": [],
   "source": [
    "# ### Build K-Nearest Neighbors\n",
    "# from sklearn.neighbors import KNeighborsClassifier\n",
    "# KNN = KNeighborsClassifier( n_neighbors = 5 )\n",
    "# KNN.fit( X_train, y_train )\n",
    "# KNN_prediction = KNN.predict( X_test )\n",
    "\n",
    "# KNN_matrix = confusion_matrix( y_test, KNN_prediction )\n",
    "# KNN_accuracy = accuracy_score( y_test, KNN_prediction )\n",
    "# print(f\"K-Nearest Neighbors\\n{KNN_matrix}\\n\\nAccuracy: {KNN_accuracy:.2}\\n\")\n",
    "\n",
    "# KNN_score = cross_val_score(estimator = KNN, y = y_train, X = X_train, cv = 10 )\n",
    "# print(f\"\\nScore: {KNN_score}\\n\\nMean Score: {KNN_score.mean():.2}\")"
   ]
  },
  {
   "cell_type": "code",
   "execution_count": 83,
   "metadata": {},
   "outputs": [],
   "source": [
    "# ### Build Support Vector Machine\n",
    "# from sklearn.svm import SVC\n",
    "# SVC = SVC( kernel = \"rbf\" )\n",
    "# SVC.fit( X_train, y_train )\n",
    "# SVC_prediction = SVC.predict( X_test )\n",
    "\n",
    "# SVC_matrix = confusion_matrix( y_test, SVC_prediction )\n",
    "# SVC_accuracy = accuracy_score( y_test, SVC_prediction )\n",
    "# print(f\"SVM\\n{SVC_matrix}\\n\\nAccuracy: {SVC_accuracy:.2}\\n\")\n",
    "\n",
    "# SVC_score = cross_val_score(estimator = SVC, y = y_train, X = X_train, cv = 10 )\n",
    "# print(f\"Score: {SVC_score}\\n\\nMean Score: {SVC_score.mean():.2}\")"
   ]
  },
  {
   "cell_type": "code",
   "execution_count": 84,
   "metadata": {},
   "outputs": [],
   "source": [
    "# raw_test_phrase = \"you are amazing\"\n",
    "# test_phrase = stemmer.stem(lemmatizer.lemmatize(raw_test_phrase))\n",
    "# test_phrase = vectorizer.transform( [test_phrase] ).toarray()\n",
    "\n",
    "# print(f'''\n",
    "# Phrase: {raw_test_phrase}\n",
    "\n",
    "# Logistic Regression: {LR.predict( test_phrase )}\n",
    "# Decision Tree: {TREE.predict( test_phrase )}\n",
    "# Random Forest: {FOREST.predict( test_phrase )}\n",
    "# Support Vector Machine: {SVC.predict( test_phrase )}\n",
    "# Naive Bayes: {NB.predict( test_phrase )}\n",
    "# K-Nearest Neighbor: {KNN.predict( test_phrase )}\n",
    "# ''')"
   ]
  }
 ],
 "metadata": {
  "kernelspec": {
   "display_name": "Python 3",
   "language": "python",
   "name": "python3"
  },
  "language_info": {
   "codemirror_mode": {
    "name": "ipython",
    "version": 3
   },
   "file_extension": ".py",
   "mimetype": "text/x-python",
   "name": "python",
   "nbconvert_exporter": "python",
   "pygments_lexer": "ipython3",
   "version": "3.10.7"
  }
 },
 "nbformat": 4,
 "nbformat_minor": 2
}
