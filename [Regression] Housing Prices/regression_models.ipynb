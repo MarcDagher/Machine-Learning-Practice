{
 "cells": [
  {
   "cell_type": "markdown",
   "metadata": {},
   "source": [
    "Purpose:\n",
    "\n",
    "Predict the price of a house based on its characteristics"
   ]
  },
  {
   "cell_type": "code",
   "execution_count": 84,
   "metadata": {},
   "outputs": [
    {
     "data": {
      "text/html": [
       "<div>\n",
       "<style scoped>\n",
       "    .dataframe tbody tr th:only-of-type {\n",
       "        vertical-align: middle;\n",
       "    }\n",
       "\n",
       "    .dataframe tbody tr th {\n",
       "        vertical-align: top;\n",
       "    }\n",
       "\n",
       "    .dataframe thead th {\n",
       "        text-align: right;\n",
       "    }\n",
       "</style>\n",
       "<table border=\"1\" class=\"dataframe\">\n",
       "  <thead>\n",
       "    <tr style=\"text-align: right;\">\n",
       "      <th></th>\n",
       "      <th>longitude</th>\n",
       "      <th>latitude</th>\n",
       "      <th>housing_median_age</th>\n",
       "      <th>total_rooms</th>\n",
       "      <th>population</th>\n",
       "      <th>households</th>\n",
       "      <th>median_income</th>\n",
       "      <th>ocean_proximity</th>\n",
       "    </tr>\n",
       "  </thead>\n",
       "  <tbody>\n",
       "    <tr>\n",
       "      <th>0</th>\n",
       "      <td>-122.23</td>\n",
       "      <td>37.88</td>\n",
       "      <td>41</td>\n",
       "      <td>880</td>\n",
       "      <td>322</td>\n",
       "      <td>126</td>\n",
       "      <td>8.3252</td>\n",
       "      <td>NEAR BAY</td>\n",
       "    </tr>\n",
       "    <tr>\n",
       "      <th>1</th>\n",
       "      <td>-122.22</td>\n",
       "      <td>37.86</td>\n",
       "      <td>21</td>\n",
       "      <td>7099</td>\n",
       "      <td>2401</td>\n",
       "      <td>1138</td>\n",
       "      <td>8.3014</td>\n",
       "      <td>NEAR BAY</td>\n",
       "    </tr>\n",
       "    <tr>\n",
       "      <th>2</th>\n",
       "      <td>-122.24</td>\n",
       "      <td>37.85</td>\n",
       "      <td>52</td>\n",
       "      <td>1467</td>\n",
       "      <td>496</td>\n",
       "      <td>177</td>\n",
       "      <td>7.2574</td>\n",
       "      <td>NEAR BAY</td>\n",
       "    </tr>\n",
       "    <tr>\n",
       "      <th>3</th>\n",
       "      <td>-122.25</td>\n",
       "      <td>37.85</td>\n",
       "      <td>52</td>\n",
       "      <td>1274</td>\n",
       "      <td>558</td>\n",
       "      <td>219</td>\n",
       "      <td>5.6431</td>\n",
       "      <td>NEAR BAY</td>\n",
       "    </tr>\n",
       "    <tr>\n",
       "      <th>4</th>\n",
       "      <td>-122.25</td>\n",
       "      <td>37.85</td>\n",
       "      <td>52</td>\n",
       "      <td>1627</td>\n",
       "      <td>565</td>\n",
       "      <td>259</td>\n",
       "      <td>3.8462</td>\n",
       "      <td>NEAR BAY</td>\n",
       "    </tr>\n",
       "    <tr>\n",
       "      <th>...</th>\n",
       "      <td>...</td>\n",
       "      <td>...</td>\n",
       "      <td>...</td>\n",
       "      <td>...</td>\n",
       "      <td>...</td>\n",
       "      <td>...</td>\n",
       "      <td>...</td>\n",
       "      <td>...</td>\n",
       "    </tr>\n",
       "    <tr>\n",
       "      <th>20635</th>\n",
       "      <td>-121.09</td>\n",
       "      <td>39.48</td>\n",
       "      <td>25</td>\n",
       "      <td>1665</td>\n",
       "      <td>845</td>\n",
       "      <td>330</td>\n",
       "      <td>1.5603</td>\n",
       "      <td>INLAND</td>\n",
       "    </tr>\n",
       "    <tr>\n",
       "      <th>20636</th>\n",
       "      <td>-121.21</td>\n",
       "      <td>39.49</td>\n",
       "      <td>18</td>\n",
       "      <td>697</td>\n",
       "      <td>356</td>\n",
       "      <td>114</td>\n",
       "      <td>2.5568</td>\n",
       "      <td>INLAND</td>\n",
       "    </tr>\n",
       "    <tr>\n",
       "      <th>20637</th>\n",
       "      <td>-121.22</td>\n",
       "      <td>39.43</td>\n",
       "      <td>17</td>\n",
       "      <td>2254</td>\n",
       "      <td>1007</td>\n",
       "      <td>433</td>\n",
       "      <td>1.7000</td>\n",
       "      <td>INLAND</td>\n",
       "    </tr>\n",
       "    <tr>\n",
       "      <th>20638</th>\n",
       "      <td>-121.32</td>\n",
       "      <td>39.43</td>\n",
       "      <td>18</td>\n",
       "      <td>1860</td>\n",
       "      <td>741</td>\n",
       "      <td>349</td>\n",
       "      <td>1.8672</td>\n",
       "      <td>INLAND</td>\n",
       "    </tr>\n",
       "    <tr>\n",
       "      <th>20639</th>\n",
       "      <td>-121.24</td>\n",
       "      <td>39.37</td>\n",
       "      <td>16</td>\n",
       "      <td>2785</td>\n",
       "      <td>1387</td>\n",
       "      <td>530</td>\n",
       "      <td>2.3886</td>\n",
       "      <td>INLAND</td>\n",
       "    </tr>\n",
       "  </tbody>\n",
       "</table>\n",
       "<p>20640 rows × 8 columns</p>\n",
       "</div>"
      ],
      "text/plain": [
       "       longitude  latitude  housing_median_age  total_rooms  population  \\\n",
       "0        -122.23     37.88                  41          880         322   \n",
       "1        -122.22     37.86                  21         7099        2401   \n",
       "2        -122.24     37.85                  52         1467         496   \n",
       "3        -122.25     37.85                  52         1274         558   \n",
       "4        -122.25     37.85                  52         1627         565   \n",
       "...          ...       ...                 ...          ...         ...   \n",
       "20635    -121.09     39.48                  25         1665         845   \n",
       "20636    -121.21     39.49                  18          697         356   \n",
       "20637    -121.22     39.43                  17         2254        1007   \n",
       "20638    -121.32     39.43                  18         1860         741   \n",
       "20639    -121.24     39.37                  16         2785        1387   \n",
       "\n",
       "       households  median_income ocean_proximity  \n",
       "0             126         8.3252        NEAR BAY  \n",
       "1            1138         8.3014        NEAR BAY  \n",
       "2             177         7.2574        NEAR BAY  \n",
       "3             219         5.6431        NEAR BAY  \n",
       "4             259         3.8462        NEAR BAY  \n",
       "...           ...            ...             ...  \n",
       "20635         330         1.5603          INLAND  \n",
       "20636         114         2.5568          INLAND  \n",
       "20637         433         1.7000          INLAND  \n",
       "20638         349         1.8672          INLAND  \n",
       "20639         530         2.3886          INLAND  \n",
       "\n",
       "[20640 rows x 8 columns]"
      ]
     },
     "execution_count": 84,
     "metadata": {},
     "output_type": "execute_result"
    }
   ],
   "source": [
    "### Data Preprocessing\n",
    "import pandas as pd\n",
    "from sklearn.metrics import r2_score\n",
    "import matplotlib.pyplot as plt\n",
    "\n",
    "dataframe = pd.read_csv(\"housing.csv\")\n",
    "\n",
    "# Separate the Data\n",
    "features = dataframe.drop([\"median_house_value\", \"total_bedrooms\"], axis = 1) # I removed total_bedrooms because it has NaN\n",
    "label = dataframe[\"median_house_value\"]\n",
    "features"
   ]
  },
  {
   "cell_type": "code",
   "execution_count": 85,
   "metadata": {},
   "outputs": [],
   "source": [
    "# Change ocean_proximity column to 4 different columns\n",
    "# 0 => <1OCEAN\n",
    "# 1 => NEAR OCEAN\n",
    "# 2 => INLAND\n",
    "# 3 => ISLAND\n",
    "# 4 => NEAR BAY\n",
    "\n",
    "for i in range(len(features[\"ocean_proximity\"])):\n",
    "  column_name = features[\"ocean_proximity\"][i]\n",
    "\n",
    "  if column_name == \"NEAR BAY\": features.loc[i, \"NEAR_BAY\"] = 1 \n",
    "  else: features.loc[i, \"NEAR_BAY\"] = 0 \n",
    "  \n",
    "  if column_name == \"NEAR OCEAN\": features.loc[i, \"NEAR_OCEAN\"] = 1 \n",
    "  else: features.loc[i, \"NEAR_OCEAN\"] = 0 \n",
    "  \n",
    "  if column_name == \"INLAND\": features.loc[i, \"INLAND\"] = 1 \n",
    "  else: features.loc[i, \"INLAND\"] = 0 \n",
    "  \n",
    "  if column_name == \"ISLAND\": features.loc[i, \"ISLAND\"] = 1 \n",
    "  else: features.loc[i, \"ISLAND\"] = 0 \n",
    "  \n",
    "  if column_name == \"<1OCEAN\": features.loc[i, \"<1OCEAN\"] = 1 \n",
    "  else: features.loc[i, \"<1OCEAN\"] = 0 \n",
    "  \n",
    "features = features.drop( \"ocean_proximity\", axis = 1 )"
   ]
  },
  {
   "cell_type": "code",
   "execution_count": 86,
   "metadata": {},
   "outputs": [
    {
     "name": "stdout",
     "output_type": "stream",
     "text": [
      "15480 15480 5160 5160\n"
     ]
    }
   ],
   "source": [
    "# Split the data\n",
    "from sklearn.model_selection import train_test_split\n",
    "X_train, X_test, y_train, y_test = train_test_split(features.values, label.values, test_size = 0.25)\n",
    "\n",
    "# Apply feature scaling\n",
    "from sklearn.preprocessing import StandardScaler\n",
    "feature_scaler = StandardScaler()\n",
    "X_train = feature_scaler.fit_transform( X_train )\n",
    "X_test = feature_scaler.transform( X_test )\n",
    "\n",
    "print(len(X_train), len(y_train), len(X_test), len(y_test))"
   ]
  },
  {
   "cell_type": "code",
   "execution_count": 87,
   "metadata": {},
   "outputs": [],
   "source": [
    "# ### Visualize the Data\n",
    "# plt.scatter(features[\"\"].values, label.values, s = 5, c = \"purple\")\n",
    "# plt.ylabel(\"Price of the House\")\n",
    "# plt.show()"
   ]
  },
  {
   "cell_type": "code",
   "execution_count": 88,
   "metadata": {},
   "outputs": [
    {
     "data": {
      "text/plain": [
       "0.6353249860776049"
      ]
     },
     "execution_count": 88,
     "metadata": {},
     "output_type": "execute_result"
    }
   ],
   "source": [
    "### Build Multiple Linear Regressor\n",
    "from sklearn.linear_model import LinearRegression\n",
    "multiple_regressor = LinearRegression()\n",
    "multiple_regressor.fit( X_train, y_train )\n",
    "MR_prediction = multiple_regressor.predict( X_test )\n",
    "MR_score = r2_score(y_test, MR_prediction)\n",
    "MR_score"
   ]
  },
  {
   "cell_type": "code",
   "execution_count": 89,
   "metadata": {},
   "outputs": [
    {
     "data": {
      "text/plain": [
       "0.5812166895549091"
      ]
     },
     "execution_count": 89,
     "metadata": {},
     "output_type": "execute_result"
    }
   ],
   "source": [
    "### Build Polynomial Linear Regressor\n",
    "from sklearn.preprocessing import PolynomialFeatures\n",
    "polynomial_features_creator = PolynomialFeatures( degree = 3 )\n",
    "polynomial_regressor = LinearRegression()\n",
    "polynomial_regressor.fit( polynomial_features_creator.fit_transform(X_train), y_train )\n",
    "PR_prediction = polynomial_regressor.predict( polynomial_features_creator.fit_transform(X_test) )\n",
    "\n",
    "PR_score = r2_score( y_test, PR_prediction )\n",
    "PR_score "
   ]
  },
  {
   "cell_type": "code",
   "execution_count": 90,
   "metadata": {},
   "outputs": [
    {
     "data": {
      "text/plain": [
       "-0.06383647213193955"
      ]
     },
     "execution_count": 90,
     "metadata": {},
     "output_type": "execute_result"
    }
   ],
   "source": [
    "### Build Non-Linear Support Vector Regressor\n",
    "from sklearn.svm import SVR\n",
    "svr = SVR( kernel = \"rbf\")\n",
    "svr.fit( X_train, y_train )\n",
    "SVR_prediction = svr.predict( X_test )\n",
    "SVR_score = r2_score(y_test, SVR_prediction)\n",
    "SVR_score"
   ]
  },
  {
   "cell_type": "code",
   "execution_count": 91,
   "metadata": {},
   "outputs": [
    {
     "data": {
      "text/plain": [
       "0.6601235532067367"
      ]
     },
     "execution_count": 91,
     "metadata": {},
     "output_type": "execute_result"
    }
   ],
   "source": [
    "### Build Decision Tree\n",
    "from sklearn.tree import DecisionTreeRegressor\n",
    "tree = DecisionTreeRegressor()\n",
    "tree.fit( X_train, y_train )\n",
    "tree_prediction = tree.predict( X_test )\n",
    "tree_score = r2_score(y_test, tree_prediction)\n",
    "tree_score "
   ]
  },
  {
   "cell_type": "code",
   "execution_count": 94,
   "metadata": {},
   "outputs": [
    {
     "data": {
      "text/plain": [
       "0.8196152307637226"
      ]
     },
     "execution_count": 94,
     "metadata": {},
     "output_type": "execute_result"
    }
   ],
   "source": [
    "### Build Random Forest\n",
    "from sklearn.ensemble import RandomForestRegressor\n",
    "forest = RandomForestRegressor( n_estimators = 100)\n",
    "forest.fit( X_train, y_train )\n",
    "forest_prediction = forest.predict( X_test )\n",
    "forest_score = r2_score(y_test, forest_prediction)\n",
    "forest_score "
   ]
  },
  {
   "cell_type": "code",
   "execution_count": 95,
   "metadata": {},
   "outputs": [
    {
     "name": "stdout",
     "output_type": "stream",
     "text": [
      "Multiple Linear Regression Score: 0.6353249860776049\n",
      "Polynomial Regression Score: 0.5812166895549091\n",
      "Support Vector Regression Score: -0.06383647213193955\n",
      "Decision Tree Regression Score: 0.6601235532067367\n",
      "Random Forest Regression Score: 0.8196152307637226\n"
     ]
    }
   ],
   "source": [
    "### Evaluate Models\n",
    "print(f\"Multiple Linear Regression Score: {MR_score}\")\n",
    "print(f\"Polynomial Regression Score: {PR_score}\")\n",
    "print(f\"Support Vector Regression Score: {SVR_score}\")\n",
    "print(f\"Decision Tree Regression Score: {tree_score}\")\n",
    "print(f\"Random Forest Regression Score: {forest_score}\")"
   ]
  }
 ],
 "metadata": {
  "kernelspec": {
   "display_name": "Python 3",
   "language": "python",
   "name": "python3"
  },
  "language_info": {
   "codemirror_mode": {
    "name": "ipython",
    "version": 3
   },
   "file_extension": ".py",
   "mimetype": "text/x-python",
   "name": "python",
   "nbconvert_exporter": "python",
   "pygments_lexer": "ipython3",
   "version": "3.10.7"
  }
 },
 "nbformat": 4,
 "nbformat_minor": 2
}
